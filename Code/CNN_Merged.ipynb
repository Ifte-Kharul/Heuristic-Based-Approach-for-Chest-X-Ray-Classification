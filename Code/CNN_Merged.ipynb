{
 "cells": [
  {
   "cell_type": "code",
   "execution_count": 1,
   "metadata": {},
   "outputs": [],
   "source": [
    "import os\n",
    "import pandas as pd\n",
    "from sklearn.model_selection import train_test_split\n",
    "from keras.preprocessing.image import ImageDataGenerator\n",
    "from keras.applications import ResNet50 ,DenseNet121, EfficientNetB7,VGG16\n",
    "from keras.models import Sequential, Model\n",
    "from keras.layers import GlobalAveragePooling2D, Dense, Dropout, BatchNormalization\n",
    "from keras.optimizers import Adam ,RMSprop\n",
    "from keras.callbacks import ModelCheckpoint , ReduceLROnPlateau, EarlyStopping\n",
    "import numpy as np"
   ]
  },
  {
   "cell_type": "code",
   "execution_count": 2,
   "metadata": {},
   "outputs": [],
   "source": [
    "import tensorflow as tf"
   ]
  },
  {
   "cell_type": "code",
   "execution_count": 3,
   "metadata": {},
   "outputs": [],
   "source": [
    "# Load the dataset\n",
    "df = pd.read_csv('sufffle_image.csv')\n",
    "df[\"category\"] = df[\"category\"].replace({0: 'Normal', 1: 'COVID-19', 2: 'Viral Pneumonia'})"
   ]
  },
  {
   "cell_type": "code",
   "execution_count": 4,
   "metadata": {},
   "outputs": [],
   "source": [
    "# Divide the dataset into training and validation sets\n",
    "train_df, val_df = train_test_split(df, test_size=0.20, random_state=42)\n",
    "validate_df,test_df = train_test_split(val_df, test_size=0.50, random_state=42)\n",
    "train_df = train_df.reset_index(drop=True)\n",
    "validate_df = validate_df.reset_index(drop=True)"
   ]
  },
  {
   "cell_type": "code",
   "execution_count": 5,
   "metadata": {},
   "outputs": [],
   "source": [
    "# Set your IMAGE_SIZE and other parameters\n",
    "IMAGE_SIZE = (180,180)\n",
    "batch_size = 16"
   ]
  },
  {
   "cell_type": "code",
   "execution_count": 6,
   "metadata": {},
   "outputs": [
    {
     "name": "stdout",
     "output_type": "stream",
     "text": [
      "Found 27120 validated image filenames belonging to 3 classes.\n",
      "Found 3390 validated image filenames belonging to 3 classes.\n"
     ]
    }
   ],
   "source": [
    "#Create data generators\n",
    "train_datagen = ImageDataGenerator(\n",
    "    rotation_range=15,\n",
    "    rescale=1./255,\n",
    "    shear_range=0.1,\n",
    "    zoom_range=0.2,\n",
    "    horizontal_flip=True,\n",
    "    width_shift_range=0.1,\n",
    "    height_shift_range=0.1\n",
    ")\n",
    "# train_datagen = ImageDataGenerator(\n",
    "#     rotation_range=15,\n",
    "#     rescale=1./255,\n",
    "#     shear_range=0.1,\n",
    "#     # zoom_range=0.2,\n",
    "#     horizontal_flip=True,\n",
    "    \n",
    "#     brightness_range=[0.5, 1.5],\n",
    "#     channel_shift_range=0.2,\n",
    "#     vertical_flip=True,\n",
    "#     preprocessing_function=lambda x: x + 0.01 * np.random.randn(*x.shape),\n",
    "#     # random_rotation=30,\n",
    "#     height_shift_range=0.1,\n",
    "#     width_shift_range=0.1,\n",
    "#     zoom_range=[0.8, 1.2],\n",
    "#     # Exclude unsupported parameter\n",
    "# )\n",
    "\n",
    "train_generator = train_datagen.flow_from_dataframe(\n",
    "    train_df,\n",
    "    directory=None,\n",
    "    x_col='filename',\n",
    "    y_col='category',\n",
    "    target_size=IMAGE_SIZE,\n",
    "    class_mode='categorical',\n",
    "    batch_size=batch_size\n",
    ")\n",
    "\n",
    "validation_datagen = ImageDataGenerator(rescale=1./255)\n",
    "\n",
    "validation_generator = validation_datagen.flow_from_dataframe(\n",
    "    validate_df,\n",
    "    directory=None,\n",
    "    x_col='filename',\n",
    "    y_col='category',\n",
    "    target_size=IMAGE_SIZE,\n",
    "    class_mode='categorical',\n",
    "      batch_size=batch_size\n",
    ")\n",
    "   "
   ]
  },
  {
   "cell_type": "code",
   "execution_count": null,
   "metadata": {},
   "outputs": [],
   "source": []
  },
  {
   "cell_type": "code",
   "execution_count": null,
   "metadata": {},
   "outputs": [],
   "source": []
  },
  {
   "cell_type": "code",
   "execution_count": 7,
   "metadata": {},
   "outputs": [],
   "source": [
    "# # Freeze layers of the base model\n",
    "# for layer in base_model.layers:\n",
    "#     layer.trainable = False"
   ]
  },
  {
   "cell_type": "code",
   "execution_count": 8,
   "metadata": {},
   "outputs": [],
   "source": [
    "def sequential1(model,units):\n",
    "   \n",
    "    model.add(Conv2D(units,(3,3),padding='same',activation='relu'))\n",
    "    model.add(Conv2D(units,(3,3),padding = 'same',activation='relu'))\n",
    "    model.add(BatchNormalization())\n",
    "    model.add(MaxPooling2D(pool_size=(2, 2), strides= 2))\n",
    "    return model"
   ]
  },
  {
   "cell_type": "code",
   "execution_count": 9,
   "metadata": {},
   "outputs": [],
   "source": [
    "def sequential2(model,size):\n",
    "    \n",
    "    model.add(Dense(size,activation='relu'))\n",
    "    model.add(Dense(size,activation='relu'))\n",
    "    model.add(BatchNormalization())\n",
    "    model.add(Dropout(0.5))\n",
    "    return model"
   ]
  },
  {
   "cell_type": "code",
   "execution_count": 10,
   "metadata": {},
   "outputs": [
    {
     "name": "stdout",
     "output_type": "stream",
     "text": [
      "Model: \"sequential\"\n",
      "_________________________________________________________________\n",
      " Layer (type)                Output Shape              Param #   \n",
      "=================================================================\n",
      " conv2d (Conv2D)             (None, 180, 180, 16)      448       \n",
      "                                                                 \n",
      " conv2d_1 (Conv2D)           (None, 180, 180, 16)      2320      \n",
      "                                                                 \n",
      " max_pooling2d (MaxPooling2D  (None, 90, 90, 16)       0         \n",
      " )                                                               \n",
      "                                                                 \n",
      " conv2d_2 (Conv2D)           (None, 90, 90, 32)        4640      \n",
      "                                                                 \n",
      " conv2d_3 (Conv2D)           (None, 90, 90, 32)        9248      \n",
      "                                                                 \n",
      " batch_normalization (BatchN  (None, 90, 90, 32)       128       \n",
      " ormalization)                                                   \n",
      "                                                                 \n",
      " max_pooling2d_1 (MaxPooling  (None, 45, 45, 32)       0         \n",
      " 2D)                                                             \n",
      "                                                                 \n",
      " conv2d_4 (Conv2D)           (None, 45, 45, 64)        18496     \n",
      "                                                                 \n",
      " conv2d_5 (Conv2D)           (None, 45, 45, 64)        36928     \n",
      "                                                                 \n",
      " batch_normalization_1 (Batc  (None, 45, 45, 64)       256       \n",
      " hNormalization)                                                 \n",
      "                                                                 \n",
      " max_pooling2d_2 (MaxPooling  (None, 22, 22, 64)       0         \n",
      " 2D)                                                             \n",
      "                                                                 \n",
      " conv2d_6 (Conv2D)           (None, 22, 22, 128)       73856     \n",
      "                                                                 \n",
      " conv2d_7 (Conv2D)           (None, 22, 22, 128)       147584    \n",
      "                                                                 \n",
      " batch_normalization_2 (Batc  (None, 22, 22, 128)      512       \n",
      " hNormalization)                                                 \n",
      "                                                                 \n",
      " max_pooling2d_3 (MaxPooling  (None, 11, 11, 128)      0         \n",
      " 2D)                                                             \n",
      "                                                                 \n",
      " dropout (Dropout)           (None, 11, 11, 128)       0         \n",
      "                                                                 \n",
      " conv2d_8 (Conv2D)           (None, 11, 11, 256)       295168    \n",
      "                                                                 \n",
      " conv2d_9 (Conv2D)           (None, 11, 11, 256)       590080    \n",
      "                                                                 \n",
      " batch_normalization_3 (Batc  (None, 11, 11, 256)      1024      \n",
      " hNormalization)                                                 \n",
      "                                                                 \n",
      " max_pooling2d_4 (MaxPooling  (None, 5, 5, 256)        0         \n",
      " 2D)                                                             \n",
      "                                                                 \n",
      " dropout_1 (Dropout)         (None, 5, 5, 256)         0         \n",
      "                                                                 \n",
      " flatten (Flatten)           (None, 6400)              0         \n",
      "                                                                 \n",
      " dense (Dense)               (None, 512)               3277312   \n",
      "                                                                 \n",
      " dense_1 (Dense)             (None, 512)               262656    \n",
      "                                                                 \n",
      " batch_normalization_4 (Batc  (None, 512)              2048      \n",
      " hNormalization)                                                 \n",
      "                                                                 \n",
      " dropout_2 (Dropout)         (None, 512)               0         \n",
      "                                                                 \n",
      " dense_2 (Dense)             (None, 128)               65664     \n",
      "                                                                 \n",
      " dense_3 (Dense)             (None, 128)               16512     \n",
      "                                                                 \n",
      " batch_normalization_5 (Batc  (None, 128)              512       \n",
      " hNormalization)                                                 \n",
      "                                                                 \n",
      " dropout_3 (Dropout)         (None, 128)               0         \n",
      "                                                                 \n",
      " dense_4 (Dense)             (None, 64)                8256      \n",
      "                                                                 \n",
      " dense_5 (Dense)             (None, 64)                4160      \n",
      "                                                                 \n",
      " batch_normalization_6 (Batc  (None, 64)               256       \n",
      " hNormalization)                                                 \n",
      "                                                                 \n",
      " dropout_4 (Dropout)         (None, 64)                0         \n",
      "                                                                 \n",
      " dense_6 (Dense)             (None, 512)               33280     \n",
      "                                                                 \n",
      " dense_7 (Dense)             (None, 3)                 1539      \n",
      "                                                                 \n",
      "=================================================================\n",
      "Total params: 4,852,883\n",
      "Trainable params: 4,850,515\n",
      "Non-trainable params: 2,368\n",
      "_________________________________________________________________\n"
     ]
    }
   ],
   "source": [
    "from tensorflow.keras.models import Sequential\n",
    "from tensorflow.keras.layers import Conv2D, MaxPooling2D, Dropout, Flatten, Dense\n",
    "\n",
    "model = Sequential()\n",
    "\n",
    "# Conv2d_2 (conv2d) (180, 180, 16) 448\n",
    "model.add(Conv2D(16, (3, 3), input_shape=(180, 180, 3), padding='same', activation='relu'))\n",
    "# Conv2d_3 (conv2d) (180, 180, 16) 2320\n",
    "model.add(Conv2D(16, (3, 3), padding='same', activation='relu'))\n",
    "# Max_pooling2d_1 (90, 90, 16) 0\n",
    "model.add(MaxPooling2D(pool_size=(2, 2), strides= 2))\n",
    "sequential1(model,32)\n",
    "sequential1(model,64)\n",
    "sequential1(model,128)\n",
    "# Dropout (dropout) (11, 11, 128) 0\n",
    "model.add(Dropout(0.5))\n",
    "\n",
    "sequential1(model,256)\n",
    "\n",
    "# Dropout_1 (dropout) (5, 5, 256) 0\n",
    "model.add(Dropout(0.5))\n",
    "\n",
    "# Flatten (flatten) (6400) 0\n",
    "model.add(Flatten())\n",
    "\n",
    "# Sequential_4 (sequential) (512) 3279360\n",
    "sequential2(model,512)\n",
    "sequential2(model,128)\n",
    "sequential2(model,64)\n",
    "\n",
    "\n",
    "# Dense_7 (dense) (512) 33280\n",
    "model.add(Dense(512, activation='relu'))\n",
    "# Dense_8 (dense) (3) 1539\n",
    "model.add(Dense(3, activation='softmax'))\n",
    "\n",
    "# Display the model summary\n",
    "model.summary()"
   ]
  },
  {
   "cell_type": "code",
   "execution_count": 11,
   "metadata": {},
   "outputs": [],
   "source": [
    "class CustomLoss(tf.keras.losses.Loss):\n",
    "    def __init__(self, name=\"custom_loss\"):\n",
    "        super().__init__(name=name)\n",
    "\n",
    "    def call(self, y_true, y_pred):\n",
    "        return tf.reduce_mean(tf.square(y_true - y_pred))"
   ]
  },
  {
   "cell_type": "code",
   "execution_count": 12,
   "metadata": {},
   "outputs": [],
   "source": [
    "custom_loss = CustomLoss()"
   ]
  },
  {
   "cell_type": "code",
   "execution_count": 13,
   "metadata": {},
   "outputs": [
    {
     "name": "stdout",
     "output_type": "stream",
     "text": [
      "Model: \"sequential\"\n",
      "_________________________________________________________________\n",
      " Layer (type)                Output Shape              Param #   \n",
      "=================================================================\n",
      " conv2d (Conv2D)             (None, 180, 180, 16)      448       \n",
      "                                                                 \n",
      " conv2d_1 (Conv2D)           (None, 180, 180, 16)      2320      \n",
      "                                                                 \n",
      " max_pooling2d (MaxPooling2D  (None, 90, 90, 16)       0         \n",
      " )                                                               \n",
      "                                                                 \n",
      " conv2d_2 (Conv2D)           (None, 90, 90, 32)        4640      \n",
      "                                                                 \n",
      " conv2d_3 (Conv2D)           (None, 90, 90, 32)        9248      \n",
      "                                                                 \n",
      " batch_normalization (BatchN  (None, 90, 90, 32)       128       \n",
      " ormalization)                                                   \n",
      "                                                                 \n",
      " max_pooling2d_1 (MaxPooling  (None, 45, 45, 32)       0         \n",
      " 2D)                                                             \n",
      "                                                                 \n",
      " conv2d_4 (Conv2D)           (None, 45, 45, 64)        18496     \n",
      "                                                                 \n",
      " conv2d_5 (Conv2D)           (None, 45, 45, 64)        36928     \n",
      "                                                                 \n",
      " batch_normalization_1 (Batc  (None, 45, 45, 64)       256       \n",
      " hNormalization)                                                 \n",
      "                                                                 \n",
      " max_pooling2d_2 (MaxPooling  (None, 22, 22, 64)       0         \n",
      " 2D)                                                             \n",
      "                                                                 \n",
      " conv2d_6 (Conv2D)           (None, 22, 22, 128)       73856     \n",
      "                                                                 \n",
      " conv2d_7 (Conv2D)           (None, 22, 22, 128)       147584    \n",
      "                                                                 \n",
      " batch_normalization_2 (Batc  (None, 22, 22, 128)      512       \n",
      " hNormalization)                                                 \n",
      "                                                                 \n"
     ]
    },
    {
     "name": "stdout",
     "output_type": "stream",
     "text": [
      " max_pooling2d_3 (MaxPooling  (None, 11, 11, 128)      0         \n",
      " 2D)                                                             \n",
      "                                                                 \n",
      " dropout (Dropout)           (None, 11, 11, 128)       0         \n",
      "                                                                 \n",
      " conv2d_8 (Conv2D)           (None, 11, 11, 256)       295168    \n",
      "                                                                 \n",
      " conv2d_9 (Conv2D)           (None, 11, 11, 256)       590080    \n",
      "                                                                 \n",
      " batch_normalization_3 (Batc  (None, 11, 11, 256)      1024      \n",
      " hNormalization)                                                 \n",
      "                                                                 \n",
      " max_pooling2d_4 (MaxPooling  (None, 5, 5, 256)        0         \n",
      " 2D)                                                             \n",
      "                                                                 \n",
      " dropout_1 (Dropout)         (None, 5, 5, 256)         0         \n",
      "                                                                 \n",
      " flatten (Flatten)           (None, 6400)              0         \n",
      "                                                                 \n",
      " dense (Dense)               (None, 512)               3277312   \n",
      "                                                                 \n",
      " dense_1 (Dense)             (None, 512)               262656    \n",
      "                                                                 \n",
      " batch_normalization_4 (Batc  (None, 512)              2048      \n",
      " hNormalization)                                                 \n",
      "                                                                 \n",
      " dropout_2 (Dropout)         (None, 512)               0         \n",
      "                                                                 \n",
      " dense_2 (Dense)             (None, 128)               65664     \n",
      "                                                                 \n",
      " dense_3 (Dense)             (None, 128)               16512     \n",
      "                                                                 \n",
      " batch_normalization_5 (Batc  (None, 128)              512       \n",
      " hNormalization)                                                 \n",
      "                                                                 \n",
      " dropout_3 (Dropout)         (None, 128)               0         \n",
      "                                                                 \n",
      " dense_4 (Dense)             (None, 64)                8256      \n",
      "                                                                 \n",
      " dense_5 (Dense)             (None, 64)                4160      \n",
      "                                                                 \n",
      " batch_normalization_6 (Batc  (None, 64)               256       \n",
      " hNormalization)                                                 \n",
      "                                                                 \n",
      " dropout_4 (Dropout)         (None, 64)                0         \n",
      "                                                                 \n",
      " dense_6 (Dense)             (None, 512)               33280     \n",
      "                                                                 \n",
      " dense_7 (Dense)             (None, 3)                 1539      \n",
      "                                                                 \n",
      "=================================================================\n",
      "Total params: 4,852,883\n",
      "Trainable params: 4,850,515\n",
      "Non-trainable params: 2,368\n",
      "_________________________________________________________________\n"
     ]
    },
    {
     "name": "stderr",
     "output_type": "stream",
     "text": [
      "c:\\Users\\Iftek\\anaconda3\\envs\\tf\\lib\\site-packages\\keras\\optimizers\\optimizer_v2\\adam.py:114: UserWarning: The `lr` argument is deprecated, use `learning_rate` instead.\n",
      "  super().__init__(name, **kwargs)\n"
     ]
    }
   ],
   "source": [
    "# Compile the model\n",
    "# model.compile(optimizer=Adam(lr=0.001), loss='categorical_crossentropy', metrics=['accuracy'])\n",
    "model.compile(optimizer=Adam(lr=0.001), loss=custom_loss, metrics=['accuracy'])\n",
    "\n",
    "# Summary of the model\n",
    "model.summary()"
   ]
  },
  {
   "cell_type": "code",
   "execution_count": null,
   "metadata": {},
   "outputs": [],
   "source": []
  },
  {
   "cell_type": "code",
   "execution_count": 14,
   "metadata": {},
   "outputs": [],
   "source": [
    "learning_rate_reduction = ReduceLROnPlateau(monitor = 'accuracy', \n",
    "                                            patience = 2, \n",
    "                                            verbose = 1, \n",
    "                                            factor = 0.5, \n",
    "                                            min_lr = 0.000001)\n",
    "earlystop = EarlyStopping(\n",
    "    monitor='val_loss',  # You can change this to another metric like 'val_accuracy'\n",
    "    patience=10,  # Wait for 10 epochs to see if overfitting is resolved\n",
    "    restore_best_weights=True,\n",
    "    verbose=1\n",
    ")\n",
    "callbacks = [earlystop, learning_rate_reduction]\n",
    "# callbacks = [earlystop, learning_rate_reduction]\n",
    "# callbacks = [learning_rate_reduction]"
   ]
  },
  {
   "cell_type": "code",
   "execution_count": 15,
   "metadata": {},
   "outputs": [],
   "source": [
    "total_train = train_df.shape[0]\n",
    "total_validate = validate_df.shape[0]"
   ]
  },
  {
   "cell_type": "code",
   "execution_count": 16,
   "metadata": {},
   "outputs": [
    {
     "name": "stderr",
     "output_type": "stream",
     "text": [
      "C:\\Users\\Iftek\\AppData\\Local\\Temp\\ipykernel_13488\\1210727046.py:4: UserWarning: `Model.fit_generator` is deprecated and will be removed in a future version. Please use `Model.fit`, which supports generators.\n",
      "  history = model.fit_generator(\n"
     ]
    },
    {
     "name": "stdout",
     "output_type": "stream",
     "text": [
      "Epoch 1/100\n",
      "1695/1695 [==============================] - 346s 199ms/step - loss: 0.1442 - accuracy: 0.6784 - val_loss: 0.1028 - val_accuracy: 0.7491 - lr: 0.0010\n",
      "Epoch 2/100\n",
      "1695/1695 [==============================] - 229s 135ms/step - loss: 0.1019 - accuracy: 0.7854 - val_loss: 0.0770 - val_accuracy: 0.8454 - lr: 0.0010\n",
      "Epoch 3/100\n",
      "1695/1695 [==============================] - 233s 137ms/step - loss: 0.0877 - accuracy: 0.8208 - val_loss: 0.2341 - val_accuracy: 0.5527 - lr: 0.0010\n",
      "Epoch 4/100\n",
      "1695/1695 [==============================] - 234s 138ms/step - loss: 0.0791 - accuracy: 0.8406 - val_loss: 0.0801 - val_accuracy: 0.8320 - lr: 0.0010\n",
      "Epoch 5/100\n",
      "1695/1695 [==============================] - 233s 137ms/step - loss: 0.0716 - accuracy: 0.8582 - val_loss: 0.1937 - val_accuracy: 0.6579 - lr: 0.0010\n",
      "Epoch 6/100\n",
      "1695/1695 [==============================] - 234s 138ms/step - loss: 0.0619 - accuracy: 0.8776 - val_loss: 0.0635 - val_accuracy: 0.8741 - lr: 0.0010\n",
      "Epoch 7/100\n",
      "1695/1695 [==============================] - 226s 133ms/step - loss: 0.0621 - accuracy: 0.8772 - val_loss: 0.0619 - val_accuracy: 0.8892 - lr: 0.0010\n",
      "Epoch 8/100\n",
      "1695/1695 [==============================] - 230s 136ms/step - loss: 0.0538 - accuracy: 0.8984 - val_loss: 0.0558 - val_accuracy: 0.8904 - lr: 0.0010\n",
      "Epoch 9/100\n",
      "1695/1695 [==============================] - 229s 135ms/step - loss: 0.0507 - accuracy: 0.9022 - val_loss: 0.0436 - val_accuracy: 0.9135 - lr: 0.0010\n",
      "Epoch 10/100\n",
      "1695/1695 [==============================] - 229s 135ms/step - loss: 0.0507 - accuracy: 0.9025 - val_loss: 0.0317 - val_accuracy: 0.9381 - lr: 0.0010\n",
      "Epoch 11/100\n",
      "1695/1695 [==============================] - 230s 136ms/step - loss: 0.0451 - accuracy: 0.9142 - val_loss: 0.0301 - val_accuracy: 0.9393 - lr: 0.0010\n",
      "Epoch 12/100\n",
      "1695/1695 [==============================] - 234s 138ms/step - loss: 0.0402 - accuracy: 0.9226 - val_loss: 0.0572 - val_accuracy: 0.8945 - lr: 0.0010\n",
      "Epoch 13/100\n",
      "1695/1695 [==============================] - 235s 138ms/step - loss: 0.0406 - accuracy: 0.9226 - val_loss: 0.0546 - val_accuracy: 0.8954 - lr: 0.0010\n",
      "Epoch 14/100\n",
      "1695/1695 [==============================] - 239s 141ms/step - loss: 0.0397 - accuracy: 0.9257 - val_loss: 0.0501 - val_accuracy: 0.9034 - lr: 0.0010\n",
      "Epoch 15/100\n",
      "1695/1695 [==============================] - 236s 139ms/step - loss: 0.0365 - accuracy: 0.9304 - val_loss: 0.0192 - val_accuracy: 0.9627 - lr: 0.0010\n",
      "Epoch 16/100\n",
      "1695/1695 [==============================] - 236s 139ms/step - loss: 0.0341 - accuracy: 0.9365 - val_loss: 0.1146 - val_accuracy: 0.8009 - lr: 0.0010\n",
      "Epoch 17/100\n",
      "1695/1695 [==============================] - 243s 144ms/step - loss: 0.0343 - accuracy: 0.9356 - val_loss: 0.0202 - val_accuracy: 0.9600 - lr: 0.0010\n",
      "Epoch 18/100\n",
      "1695/1695 [==============================] - ETA: 0s - loss: 0.0391 - accuracy: 0.9259\n",
      "Epoch 18: ReduceLROnPlateau reducing learning rate to 0.0005000000237487257.\n",
      "1695/1695 [==============================] - 232s 137ms/step - loss: 0.0391 - accuracy: 0.9259 - val_loss: 0.0195 - val_accuracy: 0.9627 - lr: 0.0010\n",
      "Epoch 19/100\n",
      "1695/1695 [==============================] - 252s 149ms/step - loss: 0.0299 - accuracy: 0.9436 - val_loss: 0.0191 - val_accuracy: 0.9624 - lr: 5.0000e-04\n",
      "Epoch 20/100\n",
      "1695/1695 [==============================] - 242s 143ms/step - loss: 0.0274 - accuracy: 0.9484 - val_loss: 0.0197 - val_accuracy: 0.9645 - lr: 5.0000e-04\n",
      "Epoch 21/100\n",
      "1695/1695 [==============================] - 246s 145ms/step - loss: 0.0266 - accuracy: 0.9515 - val_loss: 0.0200 - val_accuracy: 0.9618 - lr: 5.0000e-04\n",
      "Epoch 22/100\n",
      "1695/1695 [==============================] - 237s 140ms/step - loss: 0.0262 - accuracy: 0.9518 - val_loss: 0.0193 - val_accuracy: 0.9653 - lr: 5.0000e-04\n",
      "Epoch 23/100\n",
      "1695/1695 [==============================] - 239s 141ms/step - loss: 0.0249 - accuracy: 0.9536 - val_loss: 0.0299 - val_accuracy: 0.9363 - lr: 5.0000e-04\n",
      "Epoch 24/100\n",
      "1695/1695 [==============================] - 238s 140ms/step - loss: 0.0243 - accuracy: 0.9551 - val_loss: 0.0200 - val_accuracy: 0.9582 - lr: 5.0000e-04\n",
      "Epoch 25/100\n",
      "1695/1695 [==============================] - 251s 148ms/step - loss: 0.0232 - accuracy: 0.9571 - val_loss: 0.0309 - val_accuracy: 0.9419 - lr: 5.0000e-04\n",
      "Epoch 26/100\n",
      "1695/1695 [==============================] - 233s 138ms/step - loss: 0.0217 - accuracy: 0.9590 - val_loss: 0.0171 - val_accuracy: 0.9645 - lr: 5.0000e-04\n",
      "Epoch 27/100\n",
      "1695/1695 [==============================] - 230s 135ms/step - loss: 0.0221 - accuracy: 0.9581 - val_loss: 0.0171 - val_accuracy: 0.9653 - lr: 5.0000e-04\n",
      "Epoch 28/100\n",
      "1695/1695 [==============================] - 228s 135ms/step - loss: 0.0220 - accuracy: 0.9597 - val_loss: 0.0120 - val_accuracy: 0.9778 - lr: 5.0000e-04\n",
      "Epoch 29/100\n",
      "1695/1695 [==============================] - 232s 137ms/step - loss: 0.0214 - accuracy: 0.9606 - val_loss: 0.0169 - val_accuracy: 0.9659 - lr: 5.0000e-04\n",
      "Epoch 30/100\n",
      "1695/1695 [==============================] - 226s 133ms/step - loss: 0.0209 - accuracy: 0.9610 - val_loss: 0.0211 - val_accuracy: 0.9576 - lr: 5.0000e-04\n",
      "Epoch 31/100\n",
      "1695/1695 [==============================] - 227s 134ms/step - loss: 0.0257 - accuracy: 0.9520 - val_loss: 0.0134 - val_accuracy: 0.9736 - lr: 5.0000e-04\n",
      "Epoch 32/100\n",
      "1695/1695 [==============================] - 227s 134ms/step - loss: 0.0185 - accuracy: 0.9656 - val_loss: 0.0121 - val_accuracy: 0.9772 - lr: 5.0000e-04\n",
      "Epoch 33/100\n",
      "1695/1695 [==============================] - 228s 134ms/step - loss: 0.0193 - accuracy: 0.9641 - val_loss: 0.0136 - val_accuracy: 0.9751 - lr: 5.0000e-04\n",
      "Epoch 34/100\n",
      "1695/1695 [==============================] - ETA: 0s - loss: 0.0193 - accuracy: 0.9638\n",
      "Epoch 34: ReduceLROnPlateau reducing learning rate to 0.0002500000118743628.\n",
      "1695/1695 [==============================] - 228s 134ms/step - loss: 0.0193 - accuracy: 0.9638 - val_loss: 0.0138 - val_accuracy: 0.9727 - lr: 5.0000e-04\n",
      "Epoch 35/100\n",
      "1695/1695 [==============================] - 228s 135ms/step - loss: 0.0178 - accuracy: 0.9678 - val_loss: 0.0152 - val_accuracy: 0.9704 - lr: 2.5000e-04\n",
      "Epoch 36/100\n",
      "1695/1695 [==============================] - 227s 134ms/step - loss: 0.0176 - accuracy: 0.9671 - val_loss: 0.0115 - val_accuracy: 0.9781 - lr: 2.5000e-04\n",
      "Epoch 37/100\n",
      "1695/1695 [==============================] - 228s 134ms/step - loss: 0.0162 - accuracy: 0.9698 - val_loss: 0.0123 - val_accuracy: 0.9757 - lr: 2.5000e-04\n",
      "Epoch 38/100\n",
      "1695/1695 [==============================] - 227s 134ms/step - loss: 0.0168 - accuracy: 0.9688 - val_loss: 0.0112 - val_accuracy: 0.9790 - lr: 2.5000e-04\n",
      "Epoch 39/100\n",
      "1695/1695 [==============================] - 228s 134ms/step - loss: 0.0159 - accuracy: 0.9706 - val_loss: 0.0114 - val_accuracy: 0.9778 - lr: 2.5000e-04\n",
      "Epoch 40/100\n",
      "1695/1695 [==============================] - 227s 134ms/step - loss: 0.0160 - accuracy: 0.9694 - val_loss: 0.0110 - val_accuracy: 0.9805 - lr: 2.5000e-04\n",
      "Epoch 41/100\n",
      "1695/1695 [==============================] - ETA: 0s - loss: 0.0161 - accuracy: 0.9701\n",
      "Epoch 41: ReduceLROnPlateau reducing learning rate to 0.0001250000059371814.\n",
      "1695/1695 [==============================] - 228s 135ms/step - loss: 0.0161 - accuracy: 0.9701 - val_loss: 0.0114 - val_accuracy: 0.9778 - lr: 2.5000e-04\n",
      "Epoch 42/100\n",
      "1695/1695 [==============================] - 227s 134ms/step - loss: 0.0148 - accuracy: 0.9724 - val_loss: 0.0110 - val_accuracy: 0.9799 - lr: 1.2500e-04\n",
      "Epoch 43/100\n",
      "1695/1695 [==============================] - 228s 134ms/step - loss: 0.0140 - accuracy: 0.9740 - val_loss: 0.0107 - val_accuracy: 0.9805 - lr: 1.2500e-04\n",
      "Epoch 44/100\n",
      "1695/1695 [==============================] - 246s 145ms/step - loss: 0.0137 - accuracy: 0.9741 - val_loss: 0.0108 - val_accuracy: 0.9802 - lr: 1.2500e-04\n",
      "Epoch 45/100\n",
      "1695/1695 [==============================] - 233s 138ms/step - loss: 0.0140 - accuracy: 0.9739 - val_loss: 0.0114 - val_accuracy: 0.9781 - lr: 1.2500e-04\n",
      "Epoch 46/100\n",
      "1695/1695 [==============================] - 227s 134ms/step - loss: 0.0130 - accuracy: 0.9758 - val_loss: 0.0121 - val_accuracy: 0.9751 - lr: 1.2500e-04\n",
      "Epoch 47/100\n",
      "1695/1695 [==============================] - 229s 135ms/step - loss: 0.0132 - accuracy: 0.9763 - val_loss: 0.0094 - val_accuracy: 0.9834 - lr: 1.2500e-04\n",
      "Epoch 48/100\n",
      "1695/1695 [==============================] - 228s 134ms/step - loss: 0.0141 - accuracy: 0.9735 - val_loss: 0.0134 - val_accuracy: 0.9730 - lr: 1.2500e-04\n",
      "Epoch 49/100\n",
      "1695/1695 [==============================] - ETA: 0s - loss: 0.0128 - accuracy: 0.9762\n",
      "Epoch 49: ReduceLROnPlateau reducing learning rate to 6.25000029685907e-05.\n",
      "1695/1695 [==============================] - 228s 135ms/step - loss: 0.0128 - accuracy: 0.9762 - val_loss: 0.0098 - val_accuracy: 0.9810 - lr: 1.2500e-04\n",
      "Epoch 50/100\n",
      "1695/1695 [==============================] - 227s 134ms/step - loss: 0.0127 - accuracy: 0.9765 - val_loss: 0.0107 - val_accuracy: 0.9796 - lr: 6.2500e-05\n",
      "Epoch 51/100\n",
      "1695/1695 [==============================] - 227s 134ms/step - loss: 0.0129 - accuracy: 0.9761 - val_loss: 0.0114 - val_accuracy: 0.9760 - lr: 6.2500e-05\n",
      "Epoch 52/100\n",
      "1695/1695 [==============================] - 227s 134ms/step - loss: 0.0123 - accuracy: 0.9775 - val_loss: 0.0113 - val_accuracy: 0.9775 - lr: 6.2500e-05\n",
      "Epoch 53/100\n",
      "1695/1695 [==============================] - 227s 134ms/step - loss: 0.0123 - accuracy: 0.9768 - val_loss: 0.0101 - val_accuracy: 0.9799 - lr: 6.2500e-05\n",
      "Epoch 54/100\n",
      "1695/1695 [==============================] - ETA: 0s - loss: 0.0122 - accuracy: 0.9773\n",
      "Epoch 54: ReduceLROnPlateau reducing learning rate to 3.125000148429535e-05.\n",
      "1695/1695 [==============================] - 227s 134ms/step - loss: 0.0122 - accuracy: 0.9773 - val_loss: 0.0104 - val_accuracy: 0.9796 - lr: 6.2500e-05\n",
      "Epoch 55/100\n",
      "1695/1695 [==============================] - 228s 134ms/step - loss: 0.0123 - accuracy: 0.9777 - val_loss: 0.0092 - val_accuracy: 0.9810 - lr: 3.1250e-05\n",
      "Epoch 56/100\n",
      "1695/1695 [==============================] - 226s 133ms/step - loss: 0.0125 - accuracy: 0.9768 - val_loss: 0.0098 - val_accuracy: 0.9819 - lr: 3.1250e-05\n",
      "Epoch 57/100\n",
      "1695/1695 [==============================] - 228s 134ms/step - loss: 0.0114 - accuracy: 0.9793 - val_loss: 0.0102 - val_accuracy: 0.9813 - lr: 3.1250e-05\n",
      "Epoch 58/100\n",
      "1695/1695 [==============================] - 226s 133ms/step - loss: 0.0120 - accuracy: 0.9782 - val_loss: 0.0101 - val_accuracy: 0.9807 - lr: 3.1250e-05\n",
      "Epoch 59/100\n",
      "1695/1695 [==============================] - ETA: 0s - loss: 0.0121 - accuracy: 0.9775\n",
      "Epoch 59: ReduceLROnPlateau reducing learning rate to 1.5625000742147677e-05.\n",
      "1695/1695 [==============================] - 228s 134ms/step - loss: 0.0121 - accuracy: 0.9775 - val_loss: 0.0095 - val_accuracy: 0.9822 - lr: 3.1250e-05\n",
      "Epoch 60/100\n",
      "1695/1695 [==============================] - 228s 134ms/step - loss: 0.0120 - accuracy: 0.9783 - val_loss: 0.0097 - val_accuracy: 0.9816 - lr: 1.5625e-05\n",
      "Epoch 61/100\n",
      "1695/1695 [==============================] - ETA: 0s - loss: 0.0118 - accuracy: 0.9779\n",
      "Epoch 61: ReduceLROnPlateau reducing learning rate to 7.812500371073838e-06.\n",
      "1695/1695 [==============================] - 228s 135ms/step - loss: 0.0118 - accuracy: 0.9779 - val_loss: 0.0102 - val_accuracy: 0.9810 - lr: 1.5625e-05\n",
      "Epoch 62/100\n",
      "1695/1695 [==============================] - 227s 134ms/step - loss: 0.0121 - accuracy: 0.9771 - val_loss: 0.0101 - val_accuracy: 0.9810 - lr: 7.8125e-06\n",
      "Epoch 63/100\n",
      "1695/1695 [==============================] - ETA: 0s - loss: 0.0117 - accuracy: 0.9787\n",
      "Epoch 63: ReduceLROnPlateau reducing learning rate to 3.906250185536919e-06.\n",
      "1695/1695 [==============================] - 228s 134ms/step - loss: 0.0117 - accuracy: 0.9787 - val_loss: 0.0101 - val_accuracy: 0.9810 - lr: 7.8125e-06\n",
      "Epoch 64/100\n",
      "1695/1695 [==============================] - 227s 134ms/step - loss: 0.0116 - accuracy: 0.9790 - val_loss: 0.0103 - val_accuracy: 0.9805 - lr: 3.9063e-06\n",
      "Epoch 65/100\n",
      "1695/1695 [==============================] - ETA: 0s - loss: 0.0119 - accuracy: 0.9781Restoring model weights from the end of the best epoch: 55.\n",
      "\n",
      "Epoch 65: ReduceLROnPlateau reducing learning rate to 1.9531250927684596e-06.\n",
      "1695/1695 [==============================] - 229s 135ms/step - loss: 0.0119 - accuracy: 0.9781 - val_loss: 0.0101 - val_accuracy: 0.9810 - lr: 3.9063e-06\n",
      "Epoch 65: early stopping\n"
     ]
    }
   ],
   "source": [
    "# Fit the model\n",
    "epochs = 100\n",
    "\n",
    "history = model.fit_generator(\n",
    "    train_generator,\n",
    "    epochs=epochs,\n",
    "    validation_data=validation_generator,\n",
    "    validation_steps=total_validate // batch_size,\n",
    "    steps_per_epoch=total_train // batch_size,\n",
    "    callbacks=callbacks\n",
    ")"
   ]
  },
  {
   "cell_type": "code",
   "execution_count": 17,
   "metadata": {},
   "outputs": [],
   "source": [
    "model.save('cnn3281135.h5')\n"
   ]
  },
  {
   "cell_type": "code",
   "execution_count": 21,
   "metadata": {},
   "outputs": [],
   "source": [
    "actual_epochs = len(history.history['loss'])"
   ]
  },
  {
   "cell_type": "code",
   "execution_count": 22,
   "metadata": {},
   "outputs": [
    {
     "data": {
      "image/png": "[encoded data removed]",
      "text/plain": [
       "<Figure size 640x480 with 1 Axes>"
      ]
     },
     "metadata": {},
     "output_type": "display_data"
    }
   ],
   "source": [
    "import matplotlib.pyplot as plt\n",
    "\n",
    "# Plot training & validation accuracy values\n",
    "numEpochs = range(1,  actual_epochs + 1)\n",
    "plt.plot(numEpochs,history.history['accuracy'])\n",
    "plt.plot(numEpochs,history.history['val_accuracy'])\n",
    "plt.title('Model accuracy')\n",
    "plt.xlabel('Epoch')\n",
    "plt.ylabel('Accuracy')\n",
    "plt.legend(['Train', 'Validation'], loc='upper left')\n",
    "plt.show()"
   ]
  },
  {
   "cell_type": "code",
   "execution_count": 23,
   "metadata": {},
   "outputs": [
    {
     "data": {
      "image/png": "[encoded data removed]",
      "text/plain": [
       "<Figure size 640x480 with 1 Axes>"
      ]
     },
     "metadata": {},
     "output_type": "display_data"
    }
   ],
   "source": [
    "loss = history.history['loss']\n",
    "val_loss = history.history['val_loss']\n",
    "numEpochs = range(1,  actual_epochs + 1)\n",
    "plt.plot( numEpochs,loss, 'g', label='Training Loss')\n",
    "plt.plot(numEpochs,val_loss, 'b', label='Validation Loss')\n",
    "plt.title('Training and Validation Loss')\n",
    "plt.xlabel('Epochs')\n",
    "plt.ylabel('Loss')\n",
    "plt.legend()\n",
    "plt.show()"
   ]
  },
  {
   "cell_type": "code",
   "execution_count": 24,
   "metadata": {},
   "outputs": [
    {
     "data": {
      "text/html": [
       "<div>\n",
       "<style scoped>\n",
       "    .dataframe tbody tr th:only-of-type {\n",
       "        vertical-align: middle;\n",
       "    }\n",
       "\n",
       "    .dataframe tbody tr th {\n",
       "        vertical-align: top;\n",
       "    }\n",
       "\n",
       "    .dataframe thead th {\n",
       "        text-align: right;\n",
       "    }\n",
       "</style>\n",
       "<table border=\"1\" class=\"dataframe\">\n",
       "  <thead>\n",
       "    <tr style=\"text-align: right;\">\n",
       "      <th></th>\n",
       "      <th>filename</th>\n",
       "      <th>category</th>\n",
       "    </tr>\n",
       "  </thead>\n",
       "  <tbody>\n",
       "    <tr>\n",
       "      <th>0</th>\n",
       "      <td>Datasets\\COVID-19_Radiography_Dataset\\Normal\\i...</td>\n",
       "      <td>Normal</td>\n",
       "    </tr>\n",
       "    <tr>\n",
       "      <th>1</th>\n",
       "      <td>Datasets\\COVID-19_Radiography_Dataset\\Normal\\i...</td>\n",
       "      <td>Normal</td>\n",
       "    </tr>\n",
       "    <tr>\n",
       "      <th>2</th>\n",
       "      <td>CLAHE\\COVID-19_Radiography_Dataset\\Viral Pneum...</td>\n",
       "      <td>Viral Pneumonia</td>\n",
       "    </tr>\n",
       "    <tr>\n",
       "      <th>3</th>\n",
       "      <td>Datasets\\Pneumonia\\Viral Pneumonia\\images\\pers...</td>\n",
       "      <td>Viral Pneumonia</td>\n",
       "    </tr>\n",
       "    <tr>\n",
       "      <th>4</th>\n",
       "      <td>CL+MEDIAN\\COVID-19_Radiography_Dataset\\COVID\\i...</td>\n",
       "      <td>COVID-19</td>\n",
       "    </tr>\n",
       "    <tr>\n",
       "      <th>...</th>\n",
       "      <td>...</td>\n",
       "      <td>...</td>\n",
       "    </tr>\n",
       "    <tr>\n",
       "      <th>3386</th>\n",
       "      <td>CL+MEDIAN\\COVID-19_Radiography_Dataset\\COVID\\i...</td>\n",
       "      <td>COVID-19</td>\n",
       "    </tr>\n",
       "    <tr>\n",
       "      <th>3387</th>\n",
       "      <td>HE\\COVID-19_Radiography_Dataset\\Viral Pneumoni...</td>\n",
       "      <td>Viral Pneumonia</td>\n",
       "    </tr>\n",
       "    <tr>\n",
       "      <th>3388</th>\n",
       "      <td>CLAHE\\COVID-19_Radiography_Dataset\\Viral Pneum...</td>\n",
       "      <td>Viral Pneumonia</td>\n",
       "    </tr>\n",
       "    <tr>\n",
       "      <th>3389</th>\n",
       "      <td>Datasets\\COVID-19_Radiography_Dataset\\COVID\\im...</td>\n",
       "      <td>COVID-19</td>\n",
       "    </tr>\n",
       "    <tr>\n",
       "      <th>3390</th>\n",
       "      <td>Datasets\\COVID-19_Radiography_Dataset\\Normal\\i...</td>\n",
       "      <td>Normal</td>\n",
       "    </tr>\n",
       "  </tbody>\n",
       "</table>\n",
       "<p>3391 rows × 2 columns</p>\n",
       "</div>"
      ],
      "text/plain": [
       "                                               filename         category\n",
       "0     Datasets\\COVID-19_Radiography_Dataset\\Normal\\i...           Normal\n",
       "1     Datasets\\COVID-19_Radiography_Dataset\\Normal\\i...           Normal\n",
       "2     CLAHE\\COVID-19_Radiography_Dataset\\Viral Pneum...  Viral Pneumonia\n",
       "3     Datasets\\Pneumonia\\Viral Pneumonia\\images\\pers...  Viral Pneumonia\n",
       "4     CL+MEDIAN\\COVID-19_Radiography_Dataset\\COVID\\i...         COVID-19\n",
       "...                                                 ...              ...\n",
       "3386  CL+MEDIAN\\COVID-19_Radiography_Dataset\\COVID\\i...         COVID-19\n",
       "3387  HE\\COVID-19_Radiography_Dataset\\Viral Pneumoni...  Viral Pneumonia\n",
       "3388  CLAHE\\COVID-19_Radiography_Dataset\\Viral Pneum...  Viral Pneumonia\n",
       "3389  Datasets\\COVID-19_Radiography_Dataset\\COVID\\im...         COVID-19\n",
       "3390  Datasets\\COVID-19_Radiography_Dataset\\Normal\\i...           Normal\n",
       "\n",
       "[3391 rows x 2 columns]"
      ]
     },
     "execution_count": 24,
     "metadata": {},
     "output_type": "execute_result"
    }
   ],
   "source": [
    "test_df = test_df.sample(frac=1).reset_index(drop=True)\n",
    "test_df"
   ]
  },
  {
   "cell_type": "code",
   "execution_count": 25,
   "metadata": {},
   "outputs": [],
   "source": [
    "nb_samples = test_df.shape[0]"
   ]
  },
  {
   "cell_type": "code",
   "execution_count": 28,
   "metadata": {},
   "outputs": [
    {
     "name": "stdout",
     "output_type": "stream",
     "text": [
      "Found 3391 validated image filenames belonging to 3 classes.\n"
     ]
    }
   ],
   "source": [
    "test_gen = ImageDataGenerator(rescale = 1./255)\n",
    "test_generator = test_gen.flow_from_dataframe(    \n",
    "    test_df, \n",
    "    directory=None,\n",
    "    x_col='filename',\n",
    "    y_col='category',\n",
    "    target_size = IMAGE_SIZE,\n",
    "    \n",
    "    class_mode='categorical',\n",
    "    batch_size = batch_size,\n",
    "    shuffle = False,\n",
    ")"
   ]
  },
  {
   "cell_type": "code",
   "execution_count": 29,
   "metadata": {},
   "outputs": [
    {
     "name": "stderr",
     "output_type": "stream",
     "text": [
      "C:\\Users\\Iftek\\AppData\\Local\\Temp\\ipykernel_13488\\1469141313.py:1: UserWarning: `Model.predict_generator` is deprecated and will be removed in a future version. Please use `Model.predict`, which supports generators.\n",
      "  predict = model.predict_generator(test_generator, steps = np.ceil(nb_samples/batch_size))\n"
     ]
    },
    {
     "data": {
      "text/plain": [
       "array([[4.8790153e-04, 9.9946874e-01, 4.3314009e-05],\n",
       "       [2.6513559e-05, 9.9997222e-01, 1.2530684e-06],\n",
       "       [1.0095834e-28, 8.4008062e-20, 1.0000000e+00],\n",
       "       ...,\n",
       "       [5.2155411e-28, 7.6871607e-21, 1.0000000e+00],\n",
       "       [9.9874830e-01, 1.0947236e-03, 1.5687928e-04],\n",
       "       [1.7699744e-03, 9.9385989e-01, 4.3701399e-03]], dtype=float32)"
      ]
     },
     "execution_count": 29,
     "metadata": {},
     "output_type": "execute_result"
    }
   ],
   "source": [
    "predict = model.predict_generator(test_generator, steps = np.ceil(nb_samples/batch_size))\n",
    "predict"
   ]
  },
  {
   "cell_type": "code",
   "execution_count": 30,
   "metadata": {},
   "outputs": [],
   "source": [
    "test_df['predict_category'] = np.argmax(predict, axis=-1)"
   ]
  },
  {
   "cell_type": "code",
   "execution_count": 31,
   "metadata": {},
   "outputs": [
    {
     "data": {
      "text/html": [
       "<div>\n",
       "<style scoped>\n",
       "    .dataframe tbody tr th:only-of-type {\n",
       "        vertical-align: middle;\n",
       "    }\n",
       "\n",
       "    .dataframe tbody tr th {\n",
       "        vertical-align: top;\n",
       "    }\n",
       "\n",
       "    .dataframe thead th {\n",
       "        text-align: right;\n",
       "    }\n",
       "</style>\n",
       "<table border=\"1\" class=\"dataframe\">\n",
       "  <thead>\n",
       "    <tr style=\"text-align: right;\">\n",
       "      <th></th>\n",
       "      <th>filename</th>\n",
       "      <th>category</th>\n",
       "      <th>predict_category</th>\n",
       "    </tr>\n",
       "  </thead>\n",
       "  <tbody>\n",
       "    <tr>\n",
       "      <th>0</th>\n",
       "      <td>Datasets\\COVID-19_Radiography_Dataset\\Normal\\i...</td>\n",
       "      <td>Normal</td>\n",
       "      <td>1</td>\n",
       "    </tr>\n",
       "    <tr>\n",
       "      <th>1</th>\n",
       "      <td>Datasets\\COVID-19_Radiography_Dataset\\Normal\\i...</td>\n",
       "      <td>Normal</td>\n",
       "      <td>1</td>\n",
       "    </tr>\n",
       "    <tr>\n",
       "      <th>2</th>\n",
       "      <td>CLAHE\\COVID-19_Radiography_Dataset\\Viral Pneum...</td>\n",
       "      <td>Viral Pneumonia</td>\n",
       "      <td>2</td>\n",
       "    </tr>\n",
       "    <tr>\n",
       "      <th>3</th>\n",
       "      <td>Datasets\\Pneumonia\\Viral Pneumonia\\images\\pers...</td>\n",
       "      <td>Viral Pneumonia</td>\n",
       "      <td>1</td>\n",
       "    </tr>\n",
       "    <tr>\n",
       "      <th>4</th>\n",
       "      <td>CL+MEDIAN\\COVID-19_Radiography_Dataset\\COVID\\i...</td>\n",
       "      <td>COVID-19</td>\n",
       "      <td>0</td>\n",
       "    </tr>\n",
       "  </tbody>\n",
       "</table>\n",
       "</div>"
      ],
      "text/plain": [
       "                                            filename         category  \\\n",
       "0  Datasets\\COVID-19_Radiography_Dataset\\Normal\\i...           Normal   \n",
       "1  Datasets\\COVID-19_Radiography_Dataset\\Normal\\i...           Normal   \n",
       "2  CLAHE\\COVID-19_Radiography_Dataset\\Viral Pneum...  Viral Pneumonia   \n",
       "3  Datasets\\Pneumonia\\Viral Pneumonia\\images\\pers...  Viral Pneumonia   \n",
       "4  CL+MEDIAN\\COVID-19_Radiography_Dataset\\COVID\\i...         COVID-19   \n",
       "\n",
       "   predict_category  \n",
       "0                 1  \n",
       "1                 1  \n",
       "2                 2  \n",
       "3                 1  \n",
       "4                 0  "
      ]
     },
     "execution_count": 31,
     "metadata": {},
     "output_type": "execute_result"
    }
   ],
   "source": [
    "test_df.head()"
   ]
  },
  {
   "cell_type": "code",
   "execution_count": 32,
   "metadata": {},
   "outputs": [],
   "source": [
    "label_map = dict((v,k) for k,v in train_generator.class_indices.items())\n",
    "test_df['predict_category'] = test_df['predict_category'].replace(label_map)"
   ]
  },
  {
   "cell_type": "code",
   "execution_count": 33,
   "metadata": {},
   "outputs": [
    {
     "data": {
      "text/html": [
       "<div>\n",
       "<style scoped>\n",
       "    .dataframe tbody tr th:only-of-type {\n",
       "        vertical-align: middle;\n",
       "    }\n",
       "\n",
       "    .dataframe tbody tr th {\n",
       "        vertical-align: top;\n",
       "    }\n",
       "\n",
       "    .dataframe thead th {\n",
       "        text-align: right;\n",
       "    }\n",
       "</style>\n",
       "<table border=\"1\" class=\"dataframe\">\n",
       "  <thead>\n",
       "    <tr style=\"text-align: right;\">\n",
       "      <th></th>\n",
       "      <th>filename</th>\n",
       "      <th>category</th>\n",
       "      <th>predict_category</th>\n",
       "    </tr>\n",
       "  </thead>\n",
       "  <tbody>\n",
       "    <tr>\n",
       "      <th>0</th>\n",
       "      <td>Datasets\\COVID-19_Radiography_Dataset\\Normal\\i...</td>\n",
       "      <td>Normal</td>\n",
       "      <td>Normal</td>\n",
       "    </tr>\n",
       "    <tr>\n",
       "      <th>1</th>\n",
       "      <td>Datasets\\COVID-19_Radiography_Dataset\\Normal\\i...</td>\n",
       "      <td>Normal</td>\n",
       "      <td>Normal</td>\n",
       "    </tr>\n",
       "    <tr>\n",
       "      <th>2</th>\n",
       "      <td>CLAHE\\COVID-19_Radiography_Dataset\\Viral Pneum...</td>\n",
       "      <td>Viral Pneumonia</td>\n",
       "      <td>Viral Pneumonia</td>\n",
       "    </tr>\n",
       "    <tr>\n",
       "      <th>3</th>\n",
       "      <td>Datasets\\Pneumonia\\Viral Pneumonia\\images\\pers...</td>\n",
       "      <td>Viral Pneumonia</td>\n",
       "      <td>Normal</td>\n",
       "    </tr>\n",
       "    <tr>\n",
       "      <th>4</th>\n",
       "      <td>CL+MEDIAN\\COVID-19_Radiography_Dataset\\COVID\\i...</td>\n",
       "      <td>COVID-19</td>\n",
       "      <td>COVID-19</td>\n",
       "    </tr>\n",
       "  </tbody>\n",
       "</table>\n",
       "</div>"
      ],
      "text/plain": [
       "                                            filename         category  \\\n",
       "0  Datasets\\COVID-19_Radiography_Dataset\\Normal\\i...           Normal   \n",
       "1  Datasets\\COVID-19_Radiography_Dataset\\Normal\\i...           Normal   \n",
       "2  CLAHE\\COVID-19_Radiography_Dataset\\Viral Pneum...  Viral Pneumonia   \n",
       "3  Datasets\\Pneumonia\\Viral Pneumonia\\images\\pers...  Viral Pneumonia   \n",
       "4  CL+MEDIAN\\COVID-19_Radiography_Dataset\\COVID\\i...         COVID-19   \n",
       "\n",
       "  predict_category  \n",
       "0           Normal  \n",
       "1           Normal  \n",
       "2  Viral Pneumonia  \n",
       "3           Normal  \n",
       "4         COVID-19  "
      ]
     },
     "execution_count": 33,
     "metadata": {},
     "output_type": "execute_result"
    }
   ],
   "source": [
    "test_df.head()"
   ]
  },
  {
   "cell_type": "code",
   "execution_count": 34,
   "metadata": {},
   "outputs": [],
   "source": [
    "test_df['predict_category'] = test_df['predict_category'].replace({'Normal': 0, 'COVID-19': 1, 'Viral Pneumonia': 2})"
   ]
  },
  {
   "cell_type": "code",
   "execution_count": 35,
   "metadata": {},
   "outputs": [
    {
     "data": {
      "text/plain": [
       "<Axes: xlabel='category'>"
      ]
     },
     "execution_count": 35,
     "metadata": {},
     "output_type": "execute_result"
    },
    {
     "data": {
      "image/png": "[encoded data removed]",
      "text/plain": [
       "<Figure size 640x480 with 1 Axes>"
      ]
     },
     "metadata": {},
     "output_type": "display_data"
    }
   ],
   "source": [
    "test_df['category'].value_counts().plot.bar()"
   ]
  },
  {
   "cell_type": "code",
   "execution_count": 38,
   "metadata": {},
   "outputs": [],
   "source": [
    "sample_test = test_df\n",
    "correctPredictions = 0\n",
    "\n",
    "correctNormalPred = 0\n",
    "correctCovidPred = 0\n",
    "correctPneuPred = 0\n",
    "\n",
    "totalNormalPred = 0\n",
    "totalCovidPred = 0\n",
    "totalPneuPred = 0\n",
    "\n",
    "for index, row in sample_test.iterrows():\n",
    "    \n",
    "    filename = row['filename']\n",
    "    prediction = row['predict_category']\n",
    "    \n",
    "    # img = load_img(filename, target_size=IMAGE_SIZE)\n",
    "    path_parts = filename.split('\\\\')\n",
    "    third_phrase = path_parts[2]\n",
    "    # print(third_phrase)\n",
    "\n",
    "    if 'Normal' in third_phrase:\n",
    "        \n",
    "        if prediction == 0:\n",
    "            correctPredictions += 1\n",
    "            correctNormalPred += 1\n",
    "            \n",
    "        totalNormalPred += 1\n",
    "    \n",
    "    if 'COVID' in third_phrase:\n",
    "        \n",
    "        if prediction == 1: \n",
    "            correctPredictions += 1\n",
    "            correctCovidPred += 1\n",
    "            \n",
    "        totalCovidPred += 1\n",
    "    \n",
    "    if 'Viral Pneumonia' in third_phrase:\n",
    "        \n",
    "        if prediction == 2: \n",
    "            correctPredictions += 1\n",
    "            correctPneuPred += 1\n",
    "            \n",
    "        totalPneuPred += 1\n",
    "    "
   ]
  },
  {
   "cell_type": "code",
   "execution_count": 39,
   "metadata": {},
   "outputs": [
    {
     "name": "stdout",
     "output_type": "stream",
     "text": [
      "Model Accuracy: 98.11%\n",
      "Correct Predictions: 3327 Total Predictions: 3391\n",
      "\n",
      "Normal Predictions: 1151 Accuracy 98.88%\n",
      "COVID-19 Predictions: 1058 Accuracy 97.69%\n",
      "Viral Pneumonia Predictions: 1118 Accuracy 97.73%\n"
     ]
    }
   ],
   "source": [
    "print('Model Accuracy:', \"{:.2%}\".format(correctPredictions / test_df.shape[0]))\n",
    "print('Correct Predictions:', correctPredictions, 'Total Predictions:', test_df.shape[0])\n",
    "\n",
    "print('\\nNormal Predictions:', correctNormalPred, 'Accuracy', \"{:.2%}\".format(correctNormalPred /  totalNormalPred))\n",
    "print('COVID-19 Predictions:', correctCovidPred, 'Accuracy', \"{:.2%}\".format(correctCovidPred /  totalCovidPred))\n",
    "print('Viral Pneumonia Predictions:', correctPneuPred, 'Accuracy', \"{:.2%}\".format(correctPneuPred / totalPneuPred))"
   ]
  },
  {
   "cell_type": "code",
   "execution_count": 44,
   "metadata": {},
   "outputs": [
    {
     "name": "stderr",
     "output_type": "stream",
     "text": [
      "C:\\Users\\Iftek\\AppData\\Local\\Temp\\ipykernel_13488\\4069215994.py:6: FutureWarning: Series.__getitem__ treating keys as positions is deprecated. In a future version, integer keys will always be treated as labels (consistent with DataFrame behavior). To access a value by position, use `ser.iloc[pos]`\n",
      "  filename = row[1][0]\n",
      "C:\\Users\\Iftek\\AppData\\Local\\Temp\\ipykernel_13488\\4069215994.py:15: FutureWarning: Series.__getitem__ treating keys as positions is deprecated. In a future version, integer keys will always be treated as labels (consistent with DataFrame behavior). To access a value by position, use `ser.iloc[pos]`\n",
      "  pred.append(row[1][2])\n"
     ]
    }
   ],
   "source": [
    "actual = []\n",
    "pred = []\n",
    "\n",
    "for row in test_df.iterrows():\n",
    "    \n",
    "    filename = row[1][0]\n",
    "    # print(filename)\n",
    "    path_parts = filename.split('\\\\')\n",
    "    third_phrase = path_parts[2]\n",
    "    if 'Normal' in third_phrase: actual.append(0)\n",
    "    if 'COVID' in third_phrase: actual.append(1)\n",
    "    if 'Viral Pneumonia' in third_phrase: actual.append(2)\n",
    "    # print(f'Actual :{row[1][1]}')   \n",
    "    # print(f'prediction :{row[1][2]}')   \n",
    "    pred.append(row[1][2])"
   ]
  },
  {
   "cell_type": "code",
   "execution_count": 52,
   "metadata": {},
   "outputs": [],
   "source": [
    "from sklearn.metrics import classification_report,confusion_matrix\n",
    "from sklearn.metrics import accuracy_score, precision_score, recall_score, f1_score\n",
    "import seaborn as sns"
   ]
  },
  {
   "cell_type": "code",
   "execution_count": 47,
   "metadata": {},
   "outputs": [
    {
     "name": "stdout",
     "output_type": "stream",
     "text": [
      "              precision    recall  f1-score   support\n",
      "\n",
      "           0       0.96      0.99      0.98      1164\n",
      "           1       0.99      0.98      0.99      1083\n",
      "           2       0.99      0.98      0.98      1144\n",
      "\n",
      "    accuracy                           0.98      3391\n",
      "   macro avg       0.98      0.98      0.98      3391\n",
      "weighted avg       0.98      0.98      0.98      3391\n",
      "\n"
     ]
    }
   ],
   "source": [
    "print(classification_report(actual, pred))"
   ]
  },
  {
   "cell_type": "code",
   "execution_count": 53,
   "metadata": {},
   "outputs": [
    {
     "data": {
      "image/png": "[encoded data removed]",
      "text/plain": [
       "<Figure size 640x480 with 1 Axes>"
      ]
     },
     "metadata": {},
     "output_type": "display_data"
    }
   ],
   "source": [
    "conf_matrix = confusion_matrix(actual, pred)\n",
    "sns.heatmap(conf_matrix, annot=True, fmt='d', cmap='Blues', cbar=False)\n",
    "plt.xlabel('Predicted')\n",
    "plt.ylabel('Actual')\n",
    "plt.savefig('cm.pdf')\n",
    "plt.show()"
   ]
  },
  {
   "cell_type": "code",
   "execution_count": 6,
   "metadata": {},
   "outputs": [
    {
     "data": {
      "image/png": "[encoded data removed]",
      "text/plain": [
       "<Figure size 640x480 with 1 Axes>"
      ]
     },
     "metadata": {},
     "output_type": "display_data"
    }
   ],
   "source": [
    "import seaborn as sns\n",
    "import matplotlib.pyplot as plt\n",
    "\n",
    "conf_matrix = [[1151, 6, 7], [20, 1058, 5], [25, 1, 1118]]\n",
    "sns.heatmap(conf_matrix, annot=True, fmt='d', cmap='Blues', cbar=False, annot_kws={\"fontsize\": 18})\n",
    "plt.xlabel('Predicted', fontsize=14)  # Adjust the font size as needed\n",
    "plt.ylabel('Actual', fontsize=14)  # Adjust the font size as needed\n",
    "plt.savefig('cm_first.pdf')\n",
    "plt.show()"
   ]
  }
 ],
 "metadata": {
  "kernelspec": {
   "display_name": "tf",
   "language": "python",
   "name": "python3"
  },
  "language_info": {
   "codemirror_mode": {
    "name": "ipython",
    "version": 3
   },
   "file_extension": ".py",
   "mimetype": "text/x-python",
   "name": "python",
   "nbconvert_exporter": "python",
   "pygments_lexer": "ipython3",
   "version": "3.9.18"
  }
 },
 "nbformat": 4,
 "nbformat_minor": 2
}
