{
 "cells": [
  {
   "cell_type": "code",
   "execution_count": 1,
   "metadata": {},
   "outputs": [],
   "source": [
    "import numpy as np\n",
    "import os\n",
    "import pandas as pd\n",
    "from PIL import Image\n",
    "from PIL import ImageOps , ImageFilter\n",
    "import tensorflow as tf\n",
    "import matplotlib.pyplot as plt\n",
    "import cv2"
   ]
  },
  {
   "cell_type": "code",
   "execution_count": 2,
   "metadata": {},
   "outputs": [],
   "source": [
    "# base_paths = ['COVID-19_Radiography_Dataset','Pneumonia']\n",
    "base_paths = ['Lungs X Ray']\n",
    "IMAGE_WIDTH = 200\n",
    "IMAGE_HEIGHT = 200\n",
    "\n",
    "batch_size = 16\n",
    "# batch_size = 5\n",
    "\n",
    "IMAGE_SIZE = (IMAGE_WIDTH, IMAGE_HEIGHT)\n",
    "IMAGE_CHANNELS = 3"
   ]
  },
  {
   "cell_type": "code",
   "execution_count": 3,
   "metadata": {},
   "outputs": [],
   "source": [
    "directories = ['Normal', 'COVID', 'Viral Pneumonia']\n",
    "# categories = []\n",
    "    \n",
    "# Create a list to store file information\n",
    "data = []"
   ]
  },
  {
   "cell_type": "code",
   "execution_count": 5,
   "metadata": {},
   "outputs": [
    {
     "name": "stdout",
     "output_type": "stream",
     "text": [
      "                                      filename  category\n",
      "0  Lungs X Ray\\Normal\\images\\IM-0214-0001.jpeg         0\n",
      "1  Lungs X Ray\\Normal\\images\\IM-0215-0001.jpeg         0\n",
      "2  Lungs X Ray\\Normal\\images\\IM-0216-0001.jpeg         0\n",
      "3  Lungs X Ray\\Normal\\images\\IM-0217-0001.jpeg         0\n",
      "4  Lungs X Ray\\Normal\\images\\IM-0218-0001.jpeg         0\n"
     ]
    }
   ],
   "source": [
    "# Iterate through the directories and collect file information\n",
    "for i, category in enumerate(directories):\n",
    "    for base_path in base_paths:\n",
    "        category_path = os.path.join(base_path, category, \"images\")\n",
    "        if os.path.exists(category_path):\n",
    "            for filename in os.listdir(category_path):\n",
    "                data.append({'filename': os.path.join(base_path,category, \"images\", filename), 'category': i})\n",
    "\n",
    "# Create a DataFrame from the collected data\n",
    "df = pd.DataFrame(data)\n",
    "\n",
    "# Display the first few rows of the DataFrame\n",
    "print(df.head())"
   ]
  },
  {
   "cell_type": "code",
   "execution_count": 6,
   "metadata": {},
   "outputs": [
    {
     "data": {
      "text/html": [
       "<div>\n",
       "<style scoped>\n",
       "    .dataframe tbody tr th:only-of-type {\n",
       "        vertical-align: middle;\n",
       "    }\n",
       "\n",
       "    .dataframe tbody tr th {\n",
       "        vertical-align: top;\n",
       "    }\n",
       "\n",
       "    .dataframe thead th {\n",
       "        text-align: right;\n",
       "    }\n",
       "</style>\n",
       "<table border=\"1\" class=\"dataframe\">\n",
       "  <thead>\n",
       "    <tr style=\"text-align: right;\">\n",
       "      <th></th>\n",
       "      <th>filename</th>\n",
       "      <th>category</th>\n",
       "    </tr>\n",
       "  </thead>\n",
       "  <tbody>\n",
       "    <tr>\n",
       "      <th>93</th>\n",
       "      <td>Lungs X Ray\\COVID\\images\\covid (8).jpg</td>\n",
       "      <td>1</td>\n",
       "    </tr>\n",
       "    <tr>\n",
       "      <th>94</th>\n",
       "      <td>Lungs X Ray\\COVID\\images\\covid (8).png</td>\n",
       "      <td>1</td>\n",
       "    </tr>\n",
       "    <tr>\n",
       "      <th>95</th>\n",
       "      <td>Lungs X Ray\\COVID\\images\\covid (9).jpeg</td>\n",
       "      <td>1</td>\n",
       "    </tr>\n",
       "    <tr>\n",
       "      <th>96</th>\n",
       "      <td>Lungs X Ray\\COVID\\images\\covid (9).jpg</td>\n",
       "      <td>1</td>\n",
       "    </tr>\n",
       "    <tr>\n",
       "      <th>97</th>\n",
       "      <td>Lungs X Ray\\COVID\\images\\covid (9).png</td>\n",
       "      <td>1</td>\n",
       "    </tr>\n",
       "  </tbody>\n",
       "</table>\n",
       "</div>"
      ],
      "text/plain": [
       "                                   filename  category\n",
       "93   Lungs X Ray\\COVID\\images\\covid (8).jpg         1\n",
       "94   Lungs X Ray\\COVID\\images\\covid (8).png         1\n",
       "95  Lungs X Ray\\COVID\\images\\covid (9).jpeg         1\n",
       "96   Lungs X Ray\\COVID\\images\\covid (9).jpg         1\n",
       "97   Lungs X Ray\\COVID\\images\\covid (9).png         1"
      ]
     },
     "execution_count": 6,
     "metadata": {},
     "output_type": "execute_result"
    }
   ],
   "source": [
    "df.tail()"
   ]
  },
  {
   "cell_type": "code",
   "execution_count": 7,
   "metadata": {},
   "outputs": [
    {
     "data": {
      "text/plain": [
       "1    70\n",
       "0    28\n",
       "Name: category, dtype: int64"
      ]
     },
     "execution_count": 7,
     "metadata": {},
     "output_type": "execute_result"
    }
   ],
   "source": [
    "df['category'].value_counts()"
   ]
  },
  {
   "cell_type": "code",
   "execution_count": 8,
   "metadata": {},
   "outputs": [
    {
     "data": {
      "text/html": [
       "<div>\n",
       "<style scoped>\n",
       "    .dataframe tbody tr th:only-of-type {\n",
       "        vertical-align: middle;\n",
       "    }\n",
       "\n",
       "    .dataframe tbody tr th {\n",
       "        vertical-align: top;\n",
       "    }\n",
       "\n",
       "    .dataframe thead th {\n",
       "        text-align: right;\n",
       "    }\n",
       "</style>\n",
       "<table border=\"1\" class=\"dataframe\">\n",
       "  <thead>\n",
       "    <tr style=\"text-align: right;\">\n",
       "      <th></th>\n",
       "      <th>filename</th>\n",
       "      <th>category</th>\n",
       "    </tr>\n",
       "  </thead>\n",
       "  <tbody>\n",
       "    <tr>\n",
       "      <th>28</th>\n",
       "      <td>Lungs X Ray\\COVID\\images\\covid (1).jpeg</td>\n",
       "      <td>1</td>\n",
       "    </tr>\n",
       "    <tr>\n",
       "      <th>29</th>\n",
       "      <td>Lungs X Ray\\COVID\\images\\covid (1).jpg</td>\n",
       "      <td>1</td>\n",
       "    </tr>\n",
       "    <tr>\n",
       "      <th>30</th>\n",
       "      <td>Lungs X Ray\\COVID\\images\\covid (1).png</td>\n",
       "      <td>1</td>\n",
       "    </tr>\n",
       "    <tr>\n",
       "      <th>31</th>\n",
       "      <td>Lungs X Ray\\COVID\\images\\covid (10).jpeg</td>\n",
       "      <td>1</td>\n",
       "    </tr>\n",
       "    <tr>\n",
       "      <th>32</th>\n",
       "      <td>Lungs X Ray\\COVID\\images\\covid (10).jpg</td>\n",
       "      <td>1</td>\n",
       "    </tr>\n",
       "  </tbody>\n",
       "</table>\n",
       "</div>"
      ],
      "text/plain": [
       "                                    filename  category\n",
       "28   Lungs X Ray\\COVID\\images\\covid (1).jpeg         1\n",
       "29    Lungs X Ray\\COVID\\images\\covid (1).jpg         1\n",
       "30    Lungs X Ray\\COVID\\images\\covid (1).png         1\n",
       "31  Lungs X Ray\\COVID\\images\\covid (10).jpeg         1\n",
       "32   Lungs X Ray\\COVID\\images\\covid (10).jpg         1"
      ]
     },
     "execution_count": 8,
     "metadata": {},
     "output_type": "execute_result"
    }
   ],
   "source": [
    "Covid_df = df[df['category'] == 1]\n",
    "Covid_df.head()"
   ]
  },
  {
   "cell_type": "code",
   "execution_count": 9,
   "metadata": {},
   "outputs": [],
   "source": [
    "# Define the CLAHE function\n",
    "def apply_clahe(image):\n",
    "    # Convert the image to LAB color space\n",
    "    lab = cv2.cvtColor(image, cv2.COLOR_RGB2LAB)\n",
    "\n",
    "    # Split the LAB image into channels\n",
    "    l, a, b = cv2.split(lab)\n",
    "\n",
    "    # Apply CLAHE to the L-channel\n",
    "    clahe = cv2.createCLAHE(clipLimit=3.0, tileGridSize=(8, 8))\n",
    "    cl = clahe.apply(l)\n",
    "\n",
    "    # Merge the CLAHE-enhanced L-channel with the original A and B channels\n",
    "    limg = cv2.merge((cl, a, b))\n",
    "\n",
    "    # Convert LAB back to RGB\n",
    "    clahe_image = cv2.cvtColor(limg, cv2.COLOR_LAB2RGB)\n",
    "\n",
    "    return clahe_image"
   ]
  },
  {
   "cell_type": "code",
   "execution_count": 9,
   "metadata": {},
   "outputs": [],
   "source": [
    "def contrast_stretching(image):\n",
    "    # Convert image to NumPy array\n",
    "    img_array = tf.keras.preprocessing.image.img_to_array(image)\n",
    "    \n",
    "    # Normalize pixel values to the range [0, 1]\n",
    "    # img_array = img_array / 255.0\n",
    "    \n",
    "    # Apply contrast stretching\n",
    "    img_array = ((img_array - img_array.min()) / (img_array.max() - img_array.min()))*255.0\n",
    "    \n",
    "    # Convert back to image\n",
    "    stretched_image = tf.keras.preprocessing.image.array_to_img(img_array)\n",
    "    \n",
    "    return stretched_image"
   ]
  },
  {
   "cell_type": "code",
   "execution_count": 10,
   "metadata": {},
   "outputs": [],
   "source": [
    "def histogram_equalization(image):\n",
    "    img_array = tf.keras.preprocessing.image.img_to_array(image)\n",
    "    img_array = (img_array - img_array.min()) / (img_array.max() - img_array.min())  # Normalize pixel values\n",
    "    img_array = (img_array * 255).astype(np.uint8)\n",
    "    \n",
    "    img_pil = Image.fromarray(img_array.astype('uint8'))  \n",
    "    img_equalized = ImageOps.equalize(img_pil)\n",
    "    \n",
    "    return img_equalized"
   ]
  },
  {
   "cell_type": "code",
   "execution_count": 11,
   "metadata": {},
   "outputs": [],
   "source": [
    "#HE with Median Filter\n",
    "def he_Median(image, median_kernel_size=3):\n",
    "    # Convert image to NumPy array\n",
    "    img_array = tf.keras.preprocessing.image.img_to_array(image)\n",
    "    \n",
    "    # Normalize pixel values to the range [0, 1]\n",
    "    img_array = (img_array - img_array.min()) / (img_array.max() - img_array.min())  \n",
    "    \n",
    "    # Scale to the range [0, 255]\n",
    "    img_array = (img_array * 255).astype(np.uint8)\n",
    "    \n",
    "    # Convert back to image\n",
    "    img_pil = Image.fromarray(img_array.astype('uint8'))  \n",
    "    \n",
    "    # Perform histogram equalization\n",
    "    img_equalized = ImageOps.equalize(img_pil)\n",
    "    \n",
    "    # Apply median filter\n",
    "    img_equalized_median = img_equalized.filter(ImageFilter.MedianFilter(size=median_kernel_size))\n",
    "    \n",
    "    return img_equalized_median"
   ]
  },
  {
   "cell_type": "code",
   "execution_count": 12,
   "metadata": {},
   "outputs": [],
   "source": [
    "#Contrast Streching with Median Filter\n",
    "def contrast_stretching_and_median(image, median_kernel_size=3):\n",
    "    # Convert image to NumPy array\n",
    "    img_array = tf.keras.preprocessing.image.img_to_array(image)\n",
    "    \n",
    "    \n",
    "    img_array = ((img_array - img_array.min()) / (img_array.max() - img_array.min())) * 255.0\n",
    "    \n",
    "    # Apply contrast stretching\n",
    "    img_array_stretched = img_array\n",
    "    \n",
    "    # Apply median filter\n",
    "    img_array_median = cv2.medianBlur(img_array_stretched, median_kernel_size)\n",
    "    \n",
    "    # Combine the stretched and median filtered images (you can adjust this combination as needed)\n",
    "    # img_array_combined = (img_array_stretched + img_array_median) / 2.0\n",
    "    img_array_combined = img_array_median\n",
    "    \n",
    "    # Convert back to image\n",
    "    combined_image = tf.keras.preprocessing.image.array_to_img(img_array_combined)\n",
    "    \n",
    "    return combined_image\n"
   ]
  },
  {
   "cell_type": "code",
   "execution_count": 12,
   "metadata": {},
   "outputs": [],
   "source": [
    "output_dir1 = \"CLAHE\""
   ]
  },
  {
   "cell_type": "code",
   "execution_count": 10,
   "metadata": {},
   "outputs": [],
   "source": [
    "# CLAHE Preprocessing and Save\n",
    "def clahe_prep(idf,path):\n",
    "    for index, row in idf.iterrows():\n",
    "        file = row['filename']  # Assuming the file name is in a column named 'filename'\n",
    "        \n",
    "        subdirectories = file.split(os.path.sep)  # Split the file path using the platform-specific separator\n",
    "        filename = subdirectories[-1]\n",
    "        subdirectories = subdirectories[:-1]  # Exclude the filename itself\n",
    "        output_subdir1 = os.path.join(path, *subdirectories)\n",
    "        \n",
    "        # Create the subdirectories if they don't exist\n",
    "        if not os.path.exists(output_subdir1):\n",
    "            os.makedirs(output_subdir1)\n",
    "        # print(file)\n",
    "        # input_path = os.path.join(base_path, file)\n",
    "        \n",
    "        # Load the image using OpenCV\n",
    "        image = cv2.imread(file)\n",
    "        image = cv2.cvtColor(image, cv2.COLOR_BGR2RGB)  # Convert BGR to RGB\n",
    "\n",
    "        # Apply CLAHE preprocessing\n",
    "        clahe_image = apply_clahe(image)\n",
    "        \n",
    "        # Save the processed image to the output directory\n",
    "        output_path1 = os.path.join(output_subdir1, f\"CLAHE-{filename}\")\n",
    "        cv2.imwrite(output_path1, cv2.cvtColor(clahe_image, cv2.COLOR_RGB2BGR))"
   ]
  },
  {
   "cell_type": "code",
   "execution_count": 15,
   "metadata": {},
   "outputs": [],
   "source": [
    "#CLAHE + MEDIAN\n",
    "def apply_clahe_and_median(image, median_kernel_size=3):\n",
    "    # Convert the image to LAB color space\n",
    "    lab = cv2.cvtColor(image, cv2.COLOR_RGB2LAB)\n",
    "\n",
    "    # Split the LAB image into channels\n",
    "    l, a, b = cv2.split(lab)\n",
    "\n",
    "    # Apply CLAHE to the L-channel\n",
    "    clahe = cv2.createCLAHE(clipLimit=3.0, tileGridSize=(8, 8))\n",
    "    cl = clahe.apply(l)\n",
    "\n",
    "    # Merge the CLAHE-enhanced L-channel with the original A and B channels\n",
    "    limg = cv2.merge((cl, a, b))\n",
    "\n",
    "    # Convert LAB back to RGB\n",
    "    clahe_image = cv2.cvtColor(limg, cv2.COLOR_LAB2RGB)\n",
    "    \n",
    "    # Apply median filter\n",
    "    clahe_median = cv2.medianBlur(clahe_image, median_kernel_size)\n",
    "\n",
    "    return clahe_median"
   ]
  },
  {
   "cell_type": "code",
   "execution_count": 32,
   "metadata": {},
   "outputs": [],
   "source": [
    "# CLAHE+MEDIAN Preprocessing and Save\n",
    "def clahe_median_prep(idf,path):\n",
    "    for index, row in idf.iterrows():\n",
    "        file = row['filename']  # Assuming the file name is in a column named 'filename'\n",
    "        \n",
    "        subdirectories = file.split(os.path.sep)  # Split the file path using the platform-specific separator\n",
    "        filename = subdirectories[-1]\n",
    "        subdirectories = subdirectories[:-1]  # Exclude the filename itself\n",
    "        output_subdir1 = os.path.join(path, *subdirectories)\n",
    "        \n",
    "        # Create the subdirectories if they don't exist\n",
    "        if not os.path.exists(output_subdir1):\n",
    "            os.makedirs(output_subdir1)\n",
    "\n",
    "        # input_path = os.path.join(base_path, file)\n",
    "        \n",
    "        # Load the image using OpenCV\n",
    "        image = cv2.imread(file)\n",
    "        image = cv2.cvtColor(image, cv2.COLOR_BGR2RGB)  # Convert BGR to RGB\n",
    "\n",
    "        # Apply CLAHE preprocessing\n",
    "        clahe_image = apply_clahe_and_median(image)\n",
    "        \n",
    "        # Save the processed image to the output directory\n",
    "        output_path1 = os.path.join(output_subdir1, f\"CLAHE+MEDIAN-{filename}\")\n",
    "        cv2.imwrite(output_path1, cv2.cvtColor(clahe_image, cv2.COLOR_RGB2BGR))"
   ]
  },
  {
   "cell_type": "code",
   "execution_count": 37,
   "metadata": {},
   "outputs": [],
   "source": [
    "#Histogram Preprocessing and Save\n",
    "def histogramEQ(idf,path):\n",
    "    for index, row in idf.iterrows():\n",
    "        file = row['filename']  # Assuming the file name is in a column named 'filename'\n",
    "        \n",
    "        subdirectories = file.split(os.path.sep)  # Split the file path using the platform-specific separator\n",
    "        filename = subdirectories[-1]\n",
    "        subdirectories = subdirectories[:-1]  # Exclude the filename itself\n",
    "        output_subdir1 = os.path.join(path, *subdirectories)\n",
    "        \n",
    "        # Create the subdirectories if they don't exist\n",
    "        if not os.path.exists(output_subdir1):\n",
    "            os.makedirs(output_subdir1)\n",
    "\n",
    "        # input_path = os.path.join(base_path, file)\n",
    "        \n",
    "        # Load the image using tf\n",
    "        image = tf.keras.preprocessing.image.load_img(file)\n",
    "        # image = cv2.cvtColor(image, cv2.COLOR_BGR2RGB)  # Convert BGR to RGB\n",
    "\n",
    "        # Apply CLAHE preprocessing\n",
    "        histo_image = histogram_equalization(image)\n",
    "        \n",
    "        # Save the processed image to the output directory\n",
    "        output_path1 = os.path.join(output_subdir1, f\"HE-{filename}\")\n",
    "        histo_image.save(output_path1)"
   ]
  },
  {
   "cell_type": "code",
   "execution_count": 18,
   "metadata": {},
   "outputs": [],
   "source": [
    "#Histogram Preprocessing + Median Filter and Save\n",
    "def histogramEQ_M(idf,path):\n",
    "    for index, row in idf.iterrows():\n",
    "        file = row['filename']  # Assuming the file name is in a column named 'filename'\n",
    "        \n",
    "        subdirectories = file.split(os.path.sep)  # Split the file path using the platform-specific separator\n",
    "        filename = subdirectories[-1]\n",
    "        subdirectories = subdirectories[:-1]  # Exclude the filename itself\n",
    "        output_subdir1 = os.path.join(path, *subdirectories)\n",
    "        \n",
    "        # Create the subdirectories if they don't exist\n",
    "        if not os.path.exists(output_subdir1):\n",
    "            os.makedirs(output_subdir1)\n",
    "\n",
    "        input_path = os.path.join(base_path, file)\n",
    "        \n",
    "        # Load the image using tf\n",
    "        image = tf.keras.preprocessing.image.load_img(input_path)\n",
    "        # image = cv2.cvtColor(image, cv2.COLOR_BGR2RGB)  # Convert BGR to RGB\n",
    "\n",
    "        # Apply CLAHE preprocessing\n",
    "        histo_image = he_Median(image)\n",
    "        \n",
    "        # Save the processed image to the output directory\n",
    "        output_path1 = os.path.join(output_subdir1, f\"HE+M-{filename}\")\n",
    "        histo_image.save(output_path1)"
   ]
  },
  {
   "cell_type": "code",
   "execution_count": 19,
   "metadata": {},
   "outputs": [],
   "source": [
    "output_CS = 'Constrast_Streched'"
   ]
  },
  {
   "cell_type": "code",
   "execution_count": 20,
   "metadata": {},
   "outputs": [],
   "source": [
    "#Contrast Streching Save\n",
    "def constrast_ST(idf,path):\n",
    "    for index, row in idf.iterrows():\n",
    "        file = row['filename']  # Assuming the file name is in a column named 'filename'\n",
    "\n",
    "\n",
    "        subdirectories = file.split(os.path.sep)  # Split the file path using the platform-specific separator\n",
    "        filename = subdirectories[-1]\n",
    "        subdirectories = subdirectories[:-1]  # Exclude the filename itself\n",
    "        output_subdir1 = os.path.join(path, *subdirectories)\n",
    "\n",
    "        if not os.path.exists(output_subdir1):\n",
    "            os.makedirs(output_subdir1)\n",
    "\n",
    "\n",
    "        input_path = os.path.join(base_path, file)\n",
    "        \n",
    "        # Load the image using TensorFlow\n",
    "        image = tf.keras.preprocessing.image.load_img(input_path)\n",
    "        \n",
    "        # Apply contrast stretching\n",
    "        stretched_image_cov = contrast_stretching(image)\n",
    "        # equalized_image = histogram_equalization(image)\n",
    "        \n",
    "        # Save the processed image to the output directory\n",
    "    \n",
    "        output_path1 = os.path.join(output_subdir1,f\"CS-{filename}\")\n",
    "        # output_path2 = os.path.join(output_subdir2,f\"COVID-EQ-{index}.png\")\n",
    "        stretched_image_cov.save(output_path1)\n",
    "    # equalized_image.save(output_path2)"
   ]
  },
  {
   "cell_type": "code",
   "execution_count": 30,
   "metadata": {},
   "outputs": [],
   "source": [
    "#Contrast Streching With Median Filter\n",
    "def constrast_ST_Median(idf,path):\n",
    "    for index, row in idf.iterrows():\n",
    "        file = row['filename']  # Assuming the file name is in a column named 'filename'\n",
    "\n",
    "\n",
    "        subdirectories = file.split(os.path.sep)  # Split the file path using the platform-specific separator\n",
    "        filename = subdirectories[-1]\n",
    "        subdirectories = subdirectories[:-1]  # Exclude the filename itself\n",
    "        output_subdir1 = os.path.join(path, *subdirectories)\n",
    "\n",
    "        if not os.path.exists(output_subdir1):\n",
    "            os.makedirs(output_subdir1)\n",
    "\n",
    "\n",
    "        # input_path = os.path.join(base_path, file)\n",
    "        \n",
    "        # Load the image using TensorFlow\n",
    "        image = tf.keras.preprocessing.image.load_img(file)\n",
    "        \n",
    "        # Apply contrast stretching with Median Filter\n",
    "        stretched_image_cov = contrast_stretching_and_median(image)\n",
    "        \n",
    "        # equalized_image = histogram_equalization(image)\n",
    "        \n",
    "        # Save the processed image to the output directory\n",
    "    \n",
    "        output_path1 = os.path.join(output_subdir1,f\"CS+MEDIAN-{filename}\")\n",
    "        # output_path2 = os.path.join(output_subdir2,f\"COVID-EQ-{index}.png\")\n",
    "        stretched_image_cov.save(output_path1)\n",
    "    # equalized_image.save(output_path2)"
   ]
  },
  {
   "cell_type": "code",
   "execution_count": null,
   "metadata": {},
   "outputs": [],
   "source": []
  },
  {
   "cell_type": "code",
   "execution_count": 31,
   "metadata": {},
   "outputs": [],
   "source": [
    "constrast_ST_Median(Covid_df,'CS+MEDIAN')\n",
    "# constrast_ST_Median(pneum_df,'CS+MEDIAN')"
   ]
  },
  {
   "cell_type": "code",
   "execution_count": 40,
   "metadata": {},
   "outputs": [],
   "source": [
    "# clahe_median_prep(Covid_df,'CL+MEDIAN')\n",
    "clahe_median_prep(pneum_df,'CL+MEDIAN')"
   ]
  },
  {
   "cell_type": "code",
   "execution_count": 38,
   "metadata": {},
   "outputs": [],
   "source": [
    "histogramEQ(pneum_df,'HE')"
   ]
  },
  {
   "cell_type": "code",
   "execution_count": 79,
   "metadata": {},
   "outputs": [],
   "source": [
    "histogramEQ_M(pneum_df,'HE+M')"
   ]
  },
  {
   "cell_type": "code",
   "execution_count": 37,
   "metadata": {},
   "outputs": [],
   "source": [
    "constrast_ST(Covid_df,output_CS)"
   ]
  },
  {
   "cell_type": "code",
   "execution_count": 36,
   "metadata": {},
   "outputs": [
    {
     "data": {
      "text/html": [
       "<div>\n",
       "<style scoped>\n",
       "    .dataframe tbody tr th:only-of-type {\n",
       "        vertical-align: middle;\n",
       "    }\n",
       "\n",
       "    .dataframe tbody tr th {\n",
       "        vertical-align: top;\n",
       "    }\n",
       "\n",
       "    .dataframe thead th {\n",
       "        text-align: right;\n",
       "    }\n",
       "</style>\n",
       "<table border=\"1\" class=\"dataframe\">\n",
       "  <thead>\n",
       "    <tr style=\"text-align: right;\">\n",
       "      <th></th>\n",
       "      <th>filename</th>\n",
       "      <th>category</th>\n",
       "    </tr>\n",
       "  </thead>\n",
       "  <tbody>\n",
       "    <tr>\n",
       "      <th>15149</th>\n",
       "      <td>COVID-19_Radiography_Dataset\\Viral Pneumonia\\i...</td>\n",
       "      <td>2</td>\n",
       "    </tr>\n",
       "    <tr>\n",
       "      <th>15150</th>\n",
       "      <td>COVID-19_Radiography_Dataset\\Viral Pneumonia\\i...</td>\n",
       "      <td>2</td>\n",
       "    </tr>\n",
       "    <tr>\n",
       "      <th>15151</th>\n",
       "      <td>COVID-19_Radiography_Dataset\\Viral Pneumonia\\i...</td>\n",
       "      <td>2</td>\n",
       "    </tr>\n",
       "    <tr>\n",
       "      <th>15152</th>\n",
       "      <td>COVID-19_Radiography_Dataset\\Viral Pneumonia\\i...</td>\n",
       "      <td>2</td>\n",
       "    </tr>\n",
       "    <tr>\n",
       "      <th>15153</th>\n",
       "      <td>COVID-19_Radiography_Dataset\\Viral Pneumonia\\i...</td>\n",
       "      <td>2</td>\n",
       "    </tr>\n",
       "  </tbody>\n",
       "</table>\n",
       "</div>"
      ],
      "text/plain": [
       "                                                filename  category\n",
       "15149  COVID-19_Radiography_Dataset\\Viral Pneumonia\\i...         2\n",
       "15150  COVID-19_Radiography_Dataset\\Viral Pneumonia\\i...         2\n",
       "15151  COVID-19_Radiography_Dataset\\Viral Pneumonia\\i...         2\n",
       "15152  COVID-19_Radiography_Dataset\\Viral Pneumonia\\i...         2\n",
       "15153  COVID-19_Radiography_Dataset\\Viral Pneumonia\\i...         2"
      ]
     },
     "execution_count": 36,
     "metadata": {},
     "output_type": "execute_result"
    }
   ],
   "source": [
    "pneum_df =df[df['category'] == 2]\n",
    "pneum_df.head()"
   ]
  },
  {
   "cell_type": "code",
   "execution_count": 13,
   "metadata": {},
   "outputs": [],
   "source": [
    "clahe_prep(Covid_df,output_dir1)\n",
    "# clahe_prep(pneum_df,output_dir1)"
   ]
  },
  {
   "cell_type": "code",
   "execution_count": 32,
   "metadata": {},
   "outputs": [],
   "source": [
    "constrast_ST(pneum_df,output_CS)"
   ]
  },
  {
   "cell_type": "code",
   "execution_count": null,
   "metadata": {},
   "outputs": [],
   "source": []
  }
 ],
 "metadata": {
  "kernelspec": {
   "display_name": "tf",
   "language": "python",
   "name": "python3"
  },
  "language_info": {
   "codemirror_mode": {
    "name": "ipython",
    "version": 3
   },
   "file_extension": ".py",
   "mimetype": "text/x-python",
   "name": "python",
   "nbconvert_exporter": "python",
   "pygments_lexer": "ipython3",
   "version": "3.10.11"
  }
 },
 "nbformat": 4,
 "nbformat_minor": 2
}
