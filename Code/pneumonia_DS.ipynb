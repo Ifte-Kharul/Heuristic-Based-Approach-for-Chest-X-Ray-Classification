{
 "cells": [
  {
   "cell_type": "code",
   "execution_count": 1,
   "metadata": {},
   "outputs": [],
   "source": [
    "import os\n",
    "import pandas as pd\n",
    "from sklearn.model_selection import train_test_split\n",
    "from tensorflow.keras.models import load_model\n",
    "from keras.preprocessing.image import ImageDataGenerator\n",
    "from keras.applications import ResNet50 ,DenseNet121, EfficientNetB7,VGG16\n",
    "from keras.models import Sequential, Model\n",
    "from keras.layers import GlobalAveragePooling2D, Dense, Dropout, BatchNormalization\n",
    "from keras.optimizers import Adam ,RMSprop\n",
    "from keras.callbacks import ModelCheckpoint , ReduceLROnPlateau, EarlyStopping\n",
    "import numpy as np"
   ]
  },
  {
   "cell_type": "code",
   "execution_count": 2,
   "metadata": {},
   "outputs": [],
   "source": [
    "import tensorflow as tf"
   ]
  },
  {
   "cell_type": "code",
   "execution_count": 3,
   "metadata": {},
   "outputs": [],
   "source": [
    "df = pd.read_csv('Pneumonia.csv')\n",
    "df[\"category\"] = df[\"category\"].replace({0: 'Normal', 1: 'COVID-19', 2: 'Viral Pneumonia'})"
   ]
  },
  {
   "cell_type": "code",
   "execution_count": 4,
   "metadata": {},
   "outputs": [
    {
     "data": {
      "text/plain": [
       "category\n",
       "Viral Pneumonia    5972\n",
       "Normal             1341\n",
       "Name: count, dtype: int64"
      ]
     },
     "execution_count": 4,
     "metadata": {},
     "output_type": "execute_result"
    }
   ],
   "source": [
    "df['category'].value_counts()"
   ]
  },
  {
   "cell_type": "code",
   "execution_count": 5,
   "metadata": {},
   "outputs": [
    {
     "data": {
      "text/plain": [
       "<Axes: xlabel='category'>"
      ]
     },
     "execution_count": 5,
     "metadata": {},
     "output_type": "execute_result"
    },
    {
     "data": {
      "image/png": "[encoded data removed]",
      "text/plain": [
       "<Figure size 640x480 with 1 Axes>"
      ]
     },
     "metadata": {},
     "output_type": "display_data"
    }
   ],
   "source": [
    "df['category'].value_counts().plot.bar()"
   ]
  },
  {
   "cell_type": "code",
   "execution_count": 8,
   "metadata": {},
   "outputs": [],
   "source": [
    "class_counts = df['category'].value_counts()\n"
   ]
  },
  {
   "cell_type": "code",
   "execution_count": 10,
   "metadata": {},
   "outputs": [
    {
     "name": "stdout",
     "output_type": "stream",
     "text": [
      "category\n",
      "Normal             5972\n",
      "Viral Pneumonia    5972\n",
      "Name: count, dtype: int64\n"
     ]
    }
   ],
   "source": [
    "from imblearn.over_sampling import RandomOverSampler\n",
    "\n",
    "# Oversample the 'Normal' class to match the count of the majority class ('COVID-19')\n",
    "oversample = RandomOverSampler(sampling_strategy={'Normal': class_counts['Viral Pneumonia']})\n",
    "X_resampled, y_resampled = oversample.fit_resample(df.drop(columns=['category']), df['category'])\n",
    "\n",
    "# Combine the resampled data into a DataFrame\n",
    "df_resampled = pd.DataFrame(X_resampled, columns=df.columns.drop('category'))\n",
    "df_resampled['category'] = y_resampled\n",
    "\n",
    "# Check the class distribution after oversampling\n",
    "print(df_resampled['category'].value_counts())"
   ]
  },
  {
   "cell_type": "code",
   "execution_count": 14,
   "metadata": {},
   "outputs": [],
   "source": [
    "df_resampled = df_resampled.sample(frac=1).reset_index(drop=True)"
   ]
  },
  {
   "cell_type": "code",
   "execution_count": 15,
   "metadata": {},
   "outputs": [],
   "source": [
    "# Divide the dataset into training and validation sets\n",
    "train_df, val_df = train_test_split(df_resampled, test_size=0.20, random_state=42)\n",
    "validate_df,test_df = train_test_split(val_df, test_size=0.50, random_state=42)\n",
    "train_df = train_df.reset_index(drop=True)\n",
    "validate_df = validate_df.reset_index(drop=True)"
   ]
  },
  {
   "cell_type": "code",
   "execution_count": 16,
   "metadata": {},
   "outputs": [],
   "source": [
    "# Set your IMAGE_SIZE and other parameters\n",
    "IMAGE_SIZE = (180,180)\n",
    "batch_size = 16"
   ]
  },
  {
   "cell_type": "code",
   "execution_count": 17,
   "metadata": {},
   "outputs": [
    {
     "name": "stdout",
     "output_type": "stream",
     "text": [
      "Found 9555 validated image filenames belonging to 2 classes.\n",
      "Found 1194 validated image filenames belonging to 2 classes.\n"
     ]
    }
   ],
   "source": [
    "#Create data generators\n",
    "train_datagen = ImageDataGenerator(\n",
    "    rotation_range=15,\n",
    "    rescale=1./255,\n",
    "    shear_range=0.1,\n",
    "    zoom_range=0.2,\n",
    "    horizontal_flip=True,\n",
    "    width_shift_range=0.1,\n",
    "    height_shift_range=0.1\n",
    ")\n",
    "# train_datagen = ImageDataGenerator(\n",
    "#     rotation_range=15,\n",
    "#     rescale=1./255,\n",
    "#     shear_range=0.1,\n",
    "#     # zoom_range=0.2,\n",
    "#     horizontal_flip=True,\n",
    "    \n",
    "#     brightness_range=[0.5, 1.5],\n",
    "#     channel_shift_range=0.2,\n",
    "#     vertical_flip=True,\n",
    "#     preprocessing_function=lambda x: x + 0.01 * np.random.randn(*x.shape),\n",
    "#     # random_rotation=30,\n",
    "#     height_shift_range=0.1,\n",
    "#     width_shift_range=0.1,\n",
    "#     zoom_range=[0.8, 1.2],\n",
    "#     # Exclude unsupported parameter\n",
    "# )\n",
    "\n",
    "train_generator = train_datagen.flow_from_dataframe(\n",
    "    train_df,\n",
    "    directory=None,\n",
    "    x_col='filename',\n",
    "    y_col='category',\n",
    "    target_size=IMAGE_SIZE,\n",
    "    class_mode='categorical',\n",
    "    batch_size=batch_size\n",
    ")\n",
    "\n",
    "validation_datagen = ImageDataGenerator(rescale=1./255)\n",
    "\n",
    "validation_generator = validation_datagen.flow_from_dataframe(\n",
    "    validate_df,\n",
    "    directory=None,\n",
    "    x_col='filename',\n",
    "    y_col='category',\n",
    "    target_size=IMAGE_SIZE,\n",
    "    class_mode='categorical',\n",
    "      batch_size=batch_size\n",
    ")\n",
    "   "
   ]
  },
  {
   "cell_type": "code",
   "execution_count": 18,
   "metadata": {},
   "outputs": [],
   "source": [
    "class CustomLoss(tf.keras.losses.Loss):\n",
    "    def __init__(self, reduction=tf.keras.losses.Reduction.AUTO, name=\"custom_loss\"):\n",
    "        super().__init__(reduction=reduction, name=name)\n",
    "\n",
    "    def call(self, y_true, y_pred):\n",
    "        return tf.reduce_mean(tf.square(y_true - y_pred))"
   ]
  },
  {
   "cell_type": "code",
   "execution_count": 19,
   "metadata": {},
   "outputs": [],
   "source": [
    "custom_loss = CustomLoss()"
   ]
  },
  {
   "cell_type": "code",
   "execution_count": 20,
   "metadata": {},
   "outputs": [],
   "source": [
    "previous_model = load_model('lung_ds.h5',custom_objects={'CustomLoss': CustomLoss})"
   ]
  },
  {
   "cell_type": "code",
   "execution_count": 21,
   "metadata": {},
   "outputs": [
    {
     "name": "stderr",
     "output_type": "stream",
     "text": [
      "c:\\Users\\Iftek\\anaconda3\\envs\\tf\\lib\\site-packages\\keras\\optimizers\\optimizer_v2\\adam.py:114: UserWarning: The `lr` argument is deprecated, use `learning_rate` instead.\n",
      "  super().__init__(name, **kwargs)\n"
     ]
    }
   ],
   "source": [
    "previous_model.compile(optimizer=Adam(lr=0.001), loss=custom_loss, metrics=['accuracy'])"
   ]
  },
  {
   "cell_type": "code",
   "execution_count": 22,
   "metadata": {},
   "outputs": [
    {
     "name": "stdout",
     "output_type": "stream",
     "text": [
      "Model: \"sequential\"\n",
      "_________________________________________________________________\n",
      " Layer (type)                Output Shape              Param #   \n",
      "=================================================================\n",
      " conv2d (Conv2D)             (None, 180, 180, 16)      448       \n",
      "                                                                 \n",
      " conv2d_1 (Conv2D)           (None, 180, 180, 16)      2320      \n",
      "                                                                 \n",
      " max_pooling2d (MaxPooling2D  (None, 90, 90, 16)       0         \n",
      " )                                                               \n",
      "                                                                 \n",
      " conv2d_2 (Conv2D)           (None, 90, 90, 32)        4640      \n",
      "                                                                 \n",
      " conv2d_3 (Conv2D)           (None, 90, 90, 32)        9248      \n",
      "                                                                 \n",
      " batch_normalization (BatchN  (None, 90, 90, 32)       128       \n",
      " ormalization)                                                   \n",
      "                                                                 \n",
      " max_pooling2d_1 (MaxPooling  (None, 45, 45, 32)       0         \n",
      " 2D)                                                             \n",
      "                                                                 \n",
      " conv2d_4 (Conv2D)           (None, 45, 45, 64)        18496     \n",
      "                                                                 \n",
      " conv2d_5 (Conv2D)           (None, 45, 45, 64)        36928     \n",
      "                                                                 \n",
      " batch_normalization_1 (Batc  (None, 45, 45, 64)       256       \n",
      " hNormalization)                                                 \n",
      "                                                                 \n",
      " max_pooling2d_2 (MaxPooling  (None, 22, 22, 64)       0         \n",
      " 2D)                                                             \n",
      "                                                                 \n",
      " conv2d_6 (Conv2D)           (None, 22, 22, 128)       73856     \n",
      "                                                                 \n",
      " conv2d_7 (Conv2D)           (None, 22, 22, 128)       147584    \n",
      "                                                                 \n",
      " batch_normalization_2 (Batc  (None, 22, 22, 128)      512       \n",
      " hNormalization)                                                 \n",
      "                                                                 \n",
      " max_pooling2d_3 (MaxPooling  (None, 11, 11, 128)      0         \n",
      " 2D)                                                             \n",
      "                                                                 \n",
      " dropout (Dropout)           (None, 11, 11, 128)       0         \n",
      "                                                                 \n",
      " conv2d_8 (Conv2D)           (None, 11, 11, 256)       295168    \n",
      "                                                                 \n",
      " conv2d_9 (Conv2D)           (None, 11, 11, 256)       590080    \n",
      "                                                                 \n",
      " batch_normalization_3 (Batc  (None, 11, 11, 256)      1024      \n",
      " hNormalization)                                                 \n",
      "                                                                 \n",
      " max_pooling2d_4 (MaxPooling  (None, 5, 5, 256)        0         \n",
      " 2D)                                                             \n",
      "                                                                 \n",
      " dropout_1 (Dropout)         (None, 5, 5, 256)         0         \n",
      "                                                                 \n",
      " flatten (Flatten)           (None, 6400)              0         \n",
      "                                                                 \n",
      " dense (Dense)               (None, 512)               3277312   \n",
      "                                                                 \n",
      " dense_1 (Dense)             (None, 512)               262656    \n",
      "                                                                 \n",
      " batch_normalization_4 (Batc  (None, 512)              2048      \n",
      " hNormalization)                                                 \n",
      "                                                                 \n",
      " dropout_2 (Dropout)         (None, 512)               0         \n",
      "                                                                 \n",
      " dense_2 (Dense)             (None, 128)               65664     \n",
      "                                                                 \n",
      " dense_3 (Dense)             (None, 128)               16512     \n",
      "                                                                 \n",
      " batch_normalization_5 (Batc  (None, 128)              512       \n",
      " hNormalization)                                                 \n",
      "                                                                 \n",
      " dropout_3 (Dropout)         (None, 128)               0         \n",
      "                                                                 \n",
      " dense_4 (Dense)             (None, 64)                8256      \n",
      "                                                                 \n",
      " dense_5 (Dense)             (None, 64)                4160      \n",
      "                                                                 \n",
      " batch_normalization_6 (Batc  (None, 64)               256       \n",
      " hNormalization)                                                 \n",
      "                                                                 \n",
      " dropout_4 (Dropout)         (None, 64)                0         \n",
      "                                                                 \n",
      " dense_6 (Dense)             (None, 512)               33280     \n",
      "                                                                 \n",
      " dense_7 (Dense)             (None, 2)                 1026      \n",
      "                                                                 \n",
      "=================================================================\n",
      "Total params: 4,852,370\n",
      "Trainable params: 4,850,002\n",
      "Non-trainable params: 2,368\n",
      "_________________________________________________________________\n"
     ]
    }
   ],
   "source": [
    "previous_model.summary()"
   ]
  },
  {
   "cell_type": "code",
   "execution_count": 23,
   "metadata": {},
   "outputs": [],
   "source": [
    "learning_rate_reduction = ReduceLROnPlateau(monitor = 'accuracy', \n",
    "                                            patience = 2, \n",
    "                                            verbose = 1, \n",
    "                                            factor = 0.5, \n",
    "                                            min_lr = 0.000001)\n",
    "earlystop = EarlyStopping(\n",
    "    monitor='val_loss',  # You can change this to another metric like 'val_accuracy'\n",
    "    patience=10,  # Wait for 10 epochs to see if overfitting is resolved\n",
    "    restore_best_weights=True,\n",
    "    verbose=1\n",
    ")\n",
    "callbacks = [earlystop, learning_rate_reduction]"
   ]
  },
  {
   "cell_type": "code",
   "execution_count": 24,
   "metadata": {},
   "outputs": [],
   "source": [
    "total_train = train_df.shape[0]\n",
    "total_validate = validate_df.shape[0]"
   ]
  },
  {
   "cell_type": "code",
   "execution_count": 25,
   "metadata": {},
   "outputs": [
    {
     "name": "stdout",
     "output_type": "stream",
     "text": [
      "Epoch 1/100\n",
      "597/597 [==============================] - 171s 275ms/step - loss: 0.1626 - accuracy: 0.7696 - val_loss: 0.1059 - val_accuracy: 0.8564 - lr: 0.0010\n",
      "Epoch 2/100\n",
      "597/597 [==============================] - 163s 273ms/step - loss: 0.0874 - accuracy: 0.8849 - val_loss: 0.0302 - val_accuracy: 0.9654 - lr: 0.0010\n",
      "Epoch 3/100\n",
      "597/597 [==============================] - 159s 267ms/step - loss: 0.0844 - accuracy: 0.8891 - val_loss: 0.0532 - val_accuracy: 0.9333 - lr: 0.0010\n",
      "Epoch 4/100\n",
      "597/597 [==============================] - 161s 270ms/step - loss: 0.0674 - accuracy: 0.9124 - val_loss: 0.3524 - val_accuracy: 0.6047 - lr: 0.0010\n",
      "Epoch 5/100\n",
      "597/597 [==============================] - 161s 269ms/step - loss: 0.0540 - accuracy: 0.9303 - val_loss: 0.5009 - val_accuracy: 0.4983 - lr: 0.0010\n",
      "Epoch 6/100\n",
      "597/597 [==============================] - 162s 270ms/step - loss: 0.0535 - accuracy: 0.9307 - val_loss: 0.3114 - val_accuracy: 0.6706 - lr: 0.0010\n",
      "Epoch 7/100\n",
      "597/597 [==============================] - 159s 266ms/step - loss: 0.0492 - accuracy: 0.9395 - val_loss: 0.0232 - val_accuracy: 0.9730 - lr: 0.0010\n",
      "Epoch 8/100\n",
      "597/597 [==============================] - 159s 266ms/step - loss: 0.0453 - accuracy: 0.9431 - val_loss: 0.1289 - val_accuracy: 0.8159 - lr: 0.0010\n",
      "Epoch 9/100\n",
      "597/597 [==============================] - 156s 261ms/step - loss: 0.0406 - accuracy: 0.9498 - val_loss: 0.0495 - val_accuracy: 0.9485 - lr: 0.0010\n",
      "Epoch 10/100\n",
      "597/597 [==============================] - 156s 262ms/step - loss: 0.0409 - accuracy: 0.9503 - val_loss: 0.0340 - val_accuracy: 0.9603 - lr: 0.0010\n",
      "Epoch 11/100\n",
      "597/597 [==============================] - 157s 263ms/step - loss: 0.0407 - accuracy: 0.9506 - val_loss: 0.0390 - val_accuracy: 0.9502 - lr: 0.0010\n",
      "Epoch 12/100\n",
      "597/597 [==============================] - 156s 262ms/step - loss: 0.0368 - accuracy: 0.9563 - val_loss: 0.0738 - val_accuracy: 0.9088 - lr: 0.0010\n",
      "Epoch 13/100\n",
      "597/597 [==============================] - 156s 261ms/step - loss: 0.0341 - accuracy: 0.9593 - val_loss: 0.2194 - val_accuracy: 0.7272 - lr: 0.0010\n",
      "Epoch 14/100\n",
      "597/597 [==============================] - 157s 263ms/step - loss: 0.0314 - accuracy: 0.9616 - val_loss: 0.0212 - val_accuracy: 0.9730 - lr: 0.0010\n",
      "Epoch 15/100\n",
      "597/597 [==============================] - 156s 261ms/step - loss: 0.0307 - accuracy: 0.9641 - val_loss: 0.0906 - val_accuracy: 0.8826 - lr: 0.0010\n",
      "Epoch 16/100\n",
      "597/597 [==============================] - 160s 268ms/step - loss: 0.0336 - accuracy: 0.9598 - val_loss: 0.0439 - val_accuracy: 0.9434 - lr: 0.0010\n",
      "Epoch 17/100\n",
      "597/597 [==============================] - ETA: 0s - loss: 0.0330 - accuracy: 0.9597\n",
      "Epoch 17: ReduceLROnPlateau reducing learning rate to 0.0005000000237487257.\n",
      "597/597 [==============================] - 161s 270ms/step - loss: 0.0330 - accuracy: 0.9597 - val_loss: 0.1505 - val_accuracy: 0.8260 - lr: 0.0010\n",
      "Epoch 18/100\n",
      "597/597 [==============================] - 160s 268ms/step - loss: 0.0262 - accuracy: 0.9690 - val_loss: 0.0491 - val_accuracy: 0.9358 - lr: 5.0000e-04\n",
      "Epoch 19/100\n",
      "597/597 [==============================] - 163s 273ms/step - loss: 0.0249 - accuracy: 0.9699 - val_loss: 0.0200 - val_accuracy: 0.9747 - lr: 5.0000e-04\n",
      "Epoch 20/100\n",
      "597/597 [==============================] - 159s 266ms/step - loss: 0.0263 - accuracy: 0.9695 - val_loss: 0.0239 - val_accuracy: 0.9721 - lr: 5.0000e-04\n",
      "Epoch 21/100\n",
      "597/597 [==============================] - ETA: 0s - loss: 0.0261 - accuracy: 0.9683\n",
      "Epoch 21: ReduceLROnPlateau reducing learning rate to 0.0002500000118743628.\n",
      "597/597 [==============================] - 159s 266ms/step - loss: 0.0261 - accuracy: 0.9683 - val_loss: 0.0498 - val_accuracy: 0.9358 - lr: 5.0000e-04\n",
      "Epoch 22/100\n",
      "597/597 [==============================] - 155s 259ms/step - loss: 0.0224 - accuracy: 0.9738 - val_loss: 0.0216 - val_accuracy: 0.9747 - lr: 2.5000e-04\n",
      "Epoch 23/100\n",
      "597/597 [==============================] - 155s 260ms/step - loss: 0.0208 - accuracy: 0.9754 - val_loss: 0.0166 - val_accuracy: 0.9797 - lr: 2.5000e-04\n",
      "Epoch 24/100\n",
      "597/597 [==============================] - 159s 266ms/step - loss: 0.0208 - accuracy: 0.9760 - val_loss: 0.0268 - val_accuracy: 0.9645 - lr: 2.5000e-04\n",
      "Epoch 25/100\n",
      "597/597 [==============================] - 162s 271ms/step - loss: 0.0195 - accuracy: 0.9766 - val_loss: 0.0176 - val_accuracy: 0.9747 - lr: 2.5000e-04\n",
      "Epoch 26/100\n",
      "597/597 [==============================] - 163s 272ms/step - loss: 0.0179 - accuracy: 0.9786 - val_loss: 0.0167 - val_accuracy: 0.9797 - lr: 2.5000e-04\n",
      "Epoch 27/100\n",
      "597/597 [==============================] - 160s 268ms/step - loss: 0.0208 - accuracy: 0.9747 - val_loss: 0.0269 - val_accuracy: 0.9662 - lr: 2.5000e-04\n",
      "Epoch 28/100\n",
      "597/597 [==============================] - ETA: 0s - loss: 0.0193 - accuracy: 0.9764\n",
      "Epoch 28: ReduceLROnPlateau reducing learning rate to 0.0001250000059371814.\n",
      "597/597 [==============================] - 160s 268ms/step - loss: 0.0193 - accuracy: 0.9764 - val_loss: 0.0172 - val_accuracy: 0.9764 - lr: 2.5000e-04\n",
      "Epoch 29/100\n",
      "597/597 [==============================] - 160s 268ms/step - loss: 0.0192 - accuracy: 0.9774 - val_loss: 0.0155 - val_accuracy: 0.9797 - lr: 1.2500e-04\n",
      "Epoch 30/100\n",
      "597/597 [==============================] - 159s 266ms/step - loss: 0.0178 - accuracy: 0.9787 - val_loss: 0.0136 - val_accuracy: 0.9823 - lr: 1.2500e-04\n",
      "Epoch 31/100\n",
      "597/597 [==============================] - 156s 261ms/step - loss: 0.0181 - accuracy: 0.9784 - val_loss: 0.0180 - val_accuracy: 0.9789 - lr: 1.2500e-04\n",
      "Epoch 32/100\n",
      "597/597 [==============================] - 166s 278ms/step - loss: 0.0167 - accuracy: 0.9800 - val_loss: 0.0164 - val_accuracy: 0.9797 - lr: 1.2500e-04\n",
      "Epoch 33/100\n",
      "597/597 [==============================] - 168s 281ms/step - loss: 0.0166 - accuracy: 0.9802 - val_loss: 0.0152 - val_accuracy: 0.9797 - lr: 1.2500e-04\n",
      "Epoch 34/100\n",
      "597/597 [==============================] - 172s 289ms/step - loss: 0.0178 - accuracy: 0.9778 - val_loss: 0.0157 - val_accuracy: 0.9797 - lr: 1.2500e-04\n",
      "Epoch 35/100\n",
      "597/597 [==============================] - 168s 281ms/step - loss: 0.0162 - accuracy: 0.9808 - val_loss: 0.0171 - val_accuracy: 0.9780 - lr: 1.2500e-04\n",
      "Epoch 36/100\n",
      "597/597 [==============================] - 171s 286ms/step - loss: 0.0160 - accuracy: 0.9813 - val_loss: 0.0181 - val_accuracy: 0.9797 - lr: 1.2500e-04\n",
      "Epoch 37/100\n",
      "597/597 [==============================] - 172s 288ms/step - loss: 0.0171 - accuracy: 0.9798 - val_loss: 0.0153 - val_accuracy: 0.9806 - lr: 1.2500e-04\n",
      "Epoch 38/100\n",
      "597/597 [==============================] - ETA: 0s - loss: 0.0163 - accuracy: 0.9795\n",
      "Epoch 38: ReduceLROnPlateau reducing learning rate to 6.25000029685907e-05.\n",
      "597/597 [==============================] - 169s 283ms/step - loss: 0.0163 - accuracy: 0.9795 - val_loss: 0.0174 - val_accuracy: 0.9789 - lr: 1.2500e-04\n",
      "Epoch 39/100\n",
      "597/597 [==============================] - 168s 281ms/step - loss: 0.0158 - accuracy: 0.9802 - val_loss: 0.0173 - val_accuracy: 0.9772 - lr: 6.2500e-05\n",
      "Epoch 40/100\n",
      "597/597 [==============================] - ETA: 0s - loss: 0.0161 - accuracy: 0.9811Restoring model weights from the end of the best epoch: 30.\n",
      "\n",
      "Epoch 40: ReduceLROnPlateau reducing learning rate to 3.125000148429535e-05.\n",
      "597/597 [==============================] - 156s 262ms/step - loss: 0.0161 - accuracy: 0.9811 - val_loss: 0.0164 - val_accuracy: 0.9806 - lr: 6.2500e-05\n",
      "Epoch 40: early stopping\n"
     ]
    }
   ],
   "source": [
    "# Fit the model\n",
    "epochs = 100\n",
    "\n",
    "# history = model.fit_generator(\n",
    "#     train_generator,\n",
    "#     epochs=epochs,\n",
    "#     validation_data=validation_generator,\n",
    "#     validation_steps=total_validate // batch_size,\n",
    "#     steps_per_epoch=total_train // batch_size,\n",
    "#     callbacks=callbacks\n",
    "# )\n",
    "history = previous_model.fit(\n",
    "    train_generator,\n",
    "    epochs=epochs,\n",
    "    validation_data=validation_generator,\n",
    "    validation_steps=total_validate // batch_size,\n",
    "    steps_per_epoch=total_train // batch_size,\n",
    "    callbacks=callbacks\n",
    ")"
   ]
  },
  {
   "cell_type": "code",
   "execution_count": 29,
   "metadata": {},
   "outputs": [],
   "source": [
    "previous_model.save('pneumonia_ds.h5')"
   ]
  },
  {
   "cell_type": "code",
   "execution_count": 30,
   "metadata": {},
   "outputs": [],
   "source": [
    "actual_epochs = len(history.history['loss'])"
   ]
  },
  {
   "cell_type": "code",
   "execution_count": 31,
   "metadata": {},
   "outputs": [
    {
     "data": {
      "image/png": "[encoded data removed]",
      "text/plain": [
       "<Figure size 640x480 with 1 Axes>"
      ]
     },
     "metadata": {},
     "output_type": "display_data"
    }
   ],
   "source": [
    "import matplotlib.pyplot as plt\n",
    "\n",
    "# Plot training & validation accuracy values\n",
    "numEpochs = range(1,  actual_epochs + 1)\n",
    "plt.plot(numEpochs,history.history['accuracy'])\n",
    "plt.plot(numEpochs,history.history['val_accuracy'])\n",
    "plt.title('Model accuracy')\n",
    "plt.xlabel('Epoch')\n",
    "plt.ylabel('Accuracy')\n",
    "plt.legend(['Train', 'Validation'], loc='upper left')\n",
    "plt.show()"
   ]
  },
  {
   "cell_type": "code",
   "execution_count": 32,
   "metadata": {},
   "outputs": [
    {
     "data": {
      "image/png": "[encoded data removed]",
      "text/plain": [
       "<Figure size 640x480 with 1 Axes>"
      ]
     },
     "metadata": {},
     "output_type": "display_data"
    }
   ],
   "source": [
    "loss = history.history['loss']\n",
    "val_loss = history.history['val_loss']\n",
    "numEpochs = range(1,  actual_epochs + 1)\n",
    "plt.plot( numEpochs,loss, 'g', label='Training Loss')\n",
    "plt.plot(numEpochs,val_loss, 'b', label='Validation Loss')\n",
    "plt.title('Training and Validation Loss')\n",
    "plt.xlabel('Epochs')\n",
    "plt.ylabel('Loss')\n",
    "plt.legend()\n",
    "plt.show()"
   ]
  },
  {
   "cell_type": "code",
   "execution_count": 33,
   "metadata": {},
   "outputs": [
    {
     "data": {
      "text/html": [
       "<div>\n",
       "<style scoped>\n",
       "    .dataframe tbody tr th:only-of-type {\n",
       "        vertical-align: middle;\n",
       "    }\n",
       "\n",
       "    .dataframe tbody tr th {\n",
       "        vertical-align: top;\n",
       "    }\n",
       "\n",
       "    .dataframe thead th {\n",
       "        text-align: right;\n",
       "    }\n",
       "</style>\n",
       "<table border=\"1\" class=\"dataframe\">\n",
       "  <thead>\n",
       "    <tr style=\"text-align: right;\">\n",
       "      <th></th>\n",
       "      <th>filename</th>\n",
       "      <th>category</th>\n",
       "    </tr>\n",
       "  </thead>\n",
       "  <tbody>\n",
       "    <tr>\n",
       "      <th>0</th>\n",
       "      <td>CLAHE\\Pneumonia\\Viral Pneumonia\\images\\CLAHE-p...</td>\n",
       "      <td>Viral Pneumonia</td>\n",
       "    </tr>\n",
       "    <tr>\n",
       "      <th>1</th>\n",
       "      <td>HE\\Pneumonia\\Viral Pneumonia\\images\\HE-person3...</td>\n",
       "      <td>Viral Pneumonia</td>\n",
       "    </tr>\n",
       "    <tr>\n",
       "      <th>2</th>\n",
       "      <td>CL+MEDIAN\\Pneumonia\\Viral Pneumonia\\images\\CLA...</td>\n",
       "      <td>Viral Pneumonia</td>\n",
       "    </tr>\n",
       "    <tr>\n",
       "      <th>3</th>\n",
       "      <td>Datasets\\Pneumonia\\Normal\\images\\NORMAL2-IM-05...</td>\n",
       "      <td>Normal</td>\n",
       "    </tr>\n",
       "    <tr>\n",
       "      <th>4</th>\n",
       "      <td>Datasets\\Pneumonia\\Normal\\images\\IM-0224-0001....</td>\n",
       "      <td>Normal</td>\n",
       "    </tr>\n",
       "    <tr>\n",
       "      <th>...</th>\n",
       "      <td>...</td>\n",
       "      <td>...</td>\n",
       "    </tr>\n",
       "    <tr>\n",
       "      <th>1190</th>\n",
       "      <td>Datasets\\Pneumonia\\Normal\\images\\NORMAL2-IM-12...</td>\n",
       "      <td>Normal</td>\n",
       "    </tr>\n",
       "    <tr>\n",
       "      <th>1191</th>\n",
       "      <td>Datasets\\Pneumonia\\Normal\\images\\NORMAL2-IM-05...</td>\n",
       "      <td>Normal</td>\n",
       "    </tr>\n",
       "    <tr>\n",
       "      <th>1192</th>\n",
       "      <td>CLAHE\\Pneumonia\\Viral Pneumonia\\images\\CLAHE-p...</td>\n",
       "      <td>Viral Pneumonia</td>\n",
       "    </tr>\n",
       "    <tr>\n",
       "      <th>1193</th>\n",
       "      <td>HE\\Pneumonia\\Viral Pneumonia\\images\\HE-person1...</td>\n",
       "      <td>Viral Pneumonia</td>\n",
       "    </tr>\n",
       "    <tr>\n",
       "      <th>1194</th>\n",
       "      <td>Datasets\\Pneumonia\\Normal\\images\\NORMAL2-IM-05...</td>\n",
       "      <td>Normal</td>\n",
       "    </tr>\n",
       "  </tbody>\n",
       "</table>\n",
       "<p>1195 rows × 2 columns</p>\n",
       "</div>"
      ],
      "text/plain": [
       "                                               filename         category\n",
       "0     CLAHE\\Pneumonia\\Viral Pneumonia\\images\\CLAHE-p...  Viral Pneumonia\n",
       "1     HE\\Pneumonia\\Viral Pneumonia\\images\\HE-person3...  Viral Pneumonia\n",
       "2     CL+MEDIAN\\Pneumonia\\Viral Pneumonia\\images\\CLA...  Viral Pneumonia\n",
       "3     Datasets\\Pneumonia\\Normal\\images\\NORMAL2-IM-05...           Normal\n",
       "4     Datasets\\Pneumonia\\Normal\\images\\IM-0224-0001....           Normal\n",
       "...                                                 ...              ...\n",
       "1190  Datasets\\Pneumonia\\Normal\\images\\NORMAL2-IM-12...           Normal\n",
       "1191  Datasets\\Pneumonia\\Normal\\images\\NORMAL2-IM-05...           Normal\n",
       "1192  CLAHE\\Pneumonia\\Viral Pneumonia\\images\\CLAHE-p...  Viral Pneumonia\n",
       "1193  HE\\Pneumonia\\Viral Pneumonia\\images\\HE-person1...  Viral Pneumonia\n",
       "1194  Datasets\\Pneumonia\\Normal\\images\\NORMAL2-IM-05...           Normal\n",
       "\n",
       "[1195 rows x 2 columns]"
      ]
     },
     "execution_count": 33,
     "metadata": {},
     "output_type": "execute_result"
    }
   ],
   "source": [
    "test_df = test_df.sample(frac=1).reset_index(drop=True)\n",
    "test_df"
   ]
  },
  {
   "cell_type": "code",
   "execution_count": 34,
   "metadata": {},
   "outputs": [],
   "source": [
    "nb_samples = test_df.shape[0]"
   ]
  },
  {
   "cell_type": "code",
   "execution_count": 35,
   "metadata": {},
   "outputs": [
    {
     "name": "stdout",
     "output_type": "stream",
     "text": [
      "Found 1195 validated image filenames belonging to 2 classes.\n"
     ]
    }
   ],
   "source": [
    "test_gen = ImageDataGenerator(rescale = 1./255)\n",
    "test_generator = test_gen.flow_from_dataframe(    \n",
    "    test_df, \n",
    "    directory=None,\n",
    "    x_col='filename',\n",
    "    y_col='category',\n",
    "    target_size = IMAGE_SIZE,\n",
    "    \n",
    "    class_mode='categorical',\n",
    "    batch_size = batch_size,\n",
    "    shuffle = False,\n",
    ")"
   ]
  },
  {
   "cell_type": "code",
   "execution_count": 36,
   "metadata": {},
   "outputs": [
    {
     "name": "stderr",
     "output_type": "stream",
     "text": [
      "C:\\Users\\Iftek\\AppData\\Local\\Temp\\ipykernel_13492\\2406046781.py:1: UserWarning: `Model.predict_generator` is deprecated and will be removed in a future version. Please use `Model.predict`, which supports generators.\n",
      "  predict = previous_model.predict_generator(test_generator, steps = np.ceil(nb_samples/batch_size))\n"
     ]
    }
   ],
   "source": [
    "predict = previous_model.predict_generator(test_generator, steps = np.ceil(nb_samples/batch_size))"
   ]
  },
  {
   "cell_type": "code",
   "execution_count": 37,
   "metadata": {},
   "outputs": [],
   "source": [
    "test_df['predict_category'] = np.argmax(predict, axis=-1)"
   ]
  },
  {
   "cell_type": "code",
   "execution_count": 38,
   "metadata": {},
   "outputs": [],
   "source": [
    "label_map = dict((v,k) for k,v in train_generator.class_indices.items())\n",
    "test_df['predict_category'] = test_df['predict_category'].replace(label_map)"
   ]
  },
  {
   "cell_type": "code",
   "execution_count": 39,
   "metadata": {},
   "outputs": [
    {
     "data": {
      "text/html": [
       "<div>\n",
       "<style scoped>\n",
       "    .dataframe tbody tr th:only-of-type {\n",
       "        vertical-align: middle;\n",
       "    }\n",
       "\n",
       "    .dataframe tbody tr th {\n",
       "        vertical-align: top;\n",
       "    }\n",
       "\n",
       "    .dataframe thead th {\n",
       "        text-align: right;\n",
       "    }\n",
       "</style>\n",
       "<table border=\"1\" class=\"dataframe\">\n",
       "  <thead>\n",
       "    <tr style=\"text-align: right;\">\n",
       "      <th></th>\n",
       "      <th>filename</th>\n",
       "      <th>category</th>\n",
       "      <th>predict_category</th>\n",
       "    </tr>\n",
       "  </thead>\n",
       "  <tbody>\n",
       "    <tr>\n",
       "      <th>0</th>\n",
       "      <td>CLAHE\\Pneumonia\\Viral Pneumonia\\images\\CLAHE-p...</td>\n",
       "      <td>Viral Pneumonia</td>\n",
       "      <td>Viral Pneumonia</td>\n",
       "    </tr>\n",
       "    <tr>\n",
       "      <th>1</th>\n",
       "      <td>HE\\Pneumonia\\Viral Pneumonia\\images\\HE-person3...</td>\n",
       "      <td>Viral Pneumonia</td>\n",
       "      <td>Viral Pneumonia</td>\n",
       "    </tr>\n",
       "    <tr>\n",
       "      <th>2</th>\n",
       "      <td>CL+MEDIAN\\Pneumonia\\Viral Pneumonia\\images\\CLA...</td>\n",
       "      <td>Viral Pneumonia</td>\n",
       "      <td>Viral Pneumonia</td>\n",
       "    </tr>\n",
       "    <tr>\n",
       "      <th>3</th>\n",
       "      <td>Datasets\\Pneumonia\\Normal\\images\\NORMAL2-IM-05...</td>\n",
       "      <td>Normal</td>\n",
       "      <td>Normal</td>\n",
       "    </tr>\n",
       "    <tr>\n",
       "      <th>4</th>\n",
       "      <td>Datasets\\Pneumonia\\Normal\\images\\IM-0224-0001....</td>\n",
       "      <td>Normal</td>\n",
       "      <td>Normal</td>\n",
       "    </tr>\n",
       "  </tbody>\n",
       "</table>\n",
       "</div>"
      ],
      "text/plain": [
       "                                            filename         category  \\\n",
       "0  CLAHE\\Pneumonia\\Viral Pneumonia\\images\\CLAHE-p...  Viral Pneumonia   \n",
       "1  HE\\Pneumonia\\Viral Pneumonia\\images\\HE-person3...  Viral Pneumonia   \n",
       "2  CL+MEDIAN\\Pneumonia\\Viral Pneumonia\\images\\CLA...  Viral Pneumonia   \n",
       "3  Datasets\\Pneumonia\\Normal\\images\\NORMAL2-IM-05...           Normal   \n",
       "4  Datasets\\Pneumonia\\Normal\\images\\IM-0224-0001....           Normal   \n",
       "\n",
       "  predict_category  \n",
       "0  Viral Pneumonia  \n",
       "1  Viral Pneumonia  \n",
       "2  Viral Pneumonia  \n",
       "3           Normal  \n",
       "4           Normal  "
      ]
     },
     "execution_count": 39,
     "metadata": {},
     "output_type": "execute_result"
    }
   ],
   "source": [
    "test_df.head()"
   ]
  },
  {
   "cell_type": "code",
   "execution_count": 40,
   "metadata": {},
   "outputs": [],
   "source": [
    "test_df['predict_category'] = test_df['predict_category'].replace({'Normal': 0, 'COVID-19': 1, 'Viral Pneumonia': 2})"
   ]
  },
  {
   "cell_type": "code",
   "execution_count": 41,
   "metadata": {},
   "outputs": [
    {
     "data": {
      "text/plain": [
       "<Axes: xlabel='category'>"
      ]
     },
     "execution_count": 41,
     "metadata": {},
     "output_type": "execute_result"
    },
    {
     "data": {
      "image/png": "[encoded data removed]",
      "text/plain": [
       "<Figure size 640x480 with 1 Axes>"
      ]
     },
     "metadata": {},
     "output_type": "display_data"
    }
   ],
   "source": [
    "test_df['category'].value_counts().plot.bar()"
   ]
  },
  {
   "cell_type": "code",
   "execution_count": 42,
   "metadata": {},
   "outputs": [],
   "source": [
    "sample_test = test_df\n",
    "correctPredictions = 0\n",
    "\n",
    "correctNormalPred = 0\n",
    "correctCovidPred = 0\n",
    "correctPneuPred = 0\n",
    "\n",
    "totalNormalPred = 0\n",
    "totalCovidPred = 0\n",
    "totalPneuPred = 0\n",
    "\n",
    "for index, row in sample_test.iterrows():\n",
    "    \n",
    "    filename = row['filename']\n",
    "    prediction = row['predict_category']\n",
    "    \n",
    "    # img = load_img(filename, target_size=IMAGE_SIZE)\n",
    "    path_parts = filename.split('\\\\')\n",
    "    third_phrase = path_parts[2]\n",
    "    # print(third_phrase)\n",
    "\n",
    "    if 'Normal' in third_phrase:\n",
    "        \n",
    "        if prediction == 0:\n",
    "            correctPredictions += 1\n",
    "            correctNormalPred += 1\n",
    "            \n",
    "        totalNormalPred += 1\n",
    "    \n",
    "    if 'COVID' in third_phrase:\n",
    "        \n",
    "        if prediction == 1: \n",
    "            correctPredictions += 1\n",
    "            correctCovidPred += 1\n",
    "            \n",
    "        totalCovidPred += 1\n",
    "    \n",
    "    if 'Viral Pneumonia' in third_phrase:\n",
    "        \n",
    "        if prediction == 2: \n",
    "            correctPredictions += 1\n",
    "            correctPneuPred += 1\n",
    "            \n",
    "        totalPneuPred += 1\n",
    "    "
   ]
  },
  {
   "cell_type": "code",
   "execution_count": 43,
   "metadata": {},
   "outputs": [
    {
     "name": "stdout",
     "output_type": "stream",
     "text": [
      "Model Accuracy: 97.99%\n",
      "Correct Predictions: 1171 Total Predictions: 1195\n",
      "\n",
      "Normal Predictions: 584 Accuracy 98.48%\n",
      "Viral Pneumonia Predictions: 587 Accuracy 97.51%\n"
     ]
    }
   ],
   "source": [
    "print('Model Accuracy:', \"{:.2%}\".format(correctPredictions / test_df.shape[0]))\n",
    "print('Correct Predictions:', correctPredictions, 'Total Predictions:', test_df.shape[0])\n",
    "\n",
    "print('\\nNormal Predictions:', correctNormalPred, 'Accuracy', \"{:.2%}\".format(correctNormalPred /  totalNormalPred))\n",
    "# print('COVID-19 Predictions:', correctCovidPred, 'Accuracy', \"{:.2%}\".format(correctCovidPred /  totalCovidPred))\n",
    "print('Viral Pneumonia Predictions:', correctPneuPred, 'Accuracy', \"{:.2%}\".format(correctPneuPred / totalPneuPred))"
   ]
  },
  {
   "cell_type": "code",
   "execution_count": 44,
   "metadata": {},
   "outputs": [
    {
     "name": "stderr",
     "output_type": "stream",
     "text": [
      "C:\\Users\\Iftek\\AppData\\Local\\Temp\\ipykernel_13492\\4069215994.py:6: FutureWarning: Series.__getitem__ treating keys as positions is deprecated. In a future version, integer keys will always be treated as labels (consistent with DataFrame behavior). To access a value by position, use `ser.iloc[pos]`\n",
      "  filename = row[1][0]\n",
      "C:\\Users\\Iftek\\AppData\\Local\\Temp\\ipykernel_13492\\4069215994.py:15: FutureWarning: Series.__getitem__ treating keys as positions is deprecated. In a future version, integer keys will always be treated as labels (consistent with DataFrame behavior). To access a value by position, use `ser.iloc[pos]`\n",
      "  pred.append(row[1][2])\n"
     ]
    }
   ],
   "source": [
    "actual = []\n",
    "pred = []\n",
    "\n",
    "for row in test_df.iterrows():\n",
    "    \n",
    "    filename = row[1][0]\n",
    "    # print(filename)\n",
    "    path_parts = filename.split('\\\\')\n",
    "    third_phrase = path_parts[2]\n",
    "    if 'Normal' in third_phrase: actual.append(0)\n",
    "    if 'COVID' in third_phrase: actual.append(1)\n",
    "    if 'Viral Pneumonia' in third_phrase: actual.append(2)\n",
    "    # print(f'Actual :{row[1][1]}')   \n",
    "    # print(f'prediction :{row[1][2]}')   \n",
    "    pred.append(row[1][2])"
   ]
  },
  {
   "cell_type": "code",
   "execution_count": 45,
   "metadata": {},
   "outputs": [],
   "source": [
    "from sklearn.metrics import classification_report,confusion_matrix\n",
    "from sklearn.metrics import accuracy_score, precision_score, recall_score, f1_score\n",
    "import seaborn as sns"
   ]
  },
  {
   "cell_type": "code",
   "execution_count": 46,
   "metadata": {},
   "outputs": [
    {
     "name": "stdout",
     "output_type": "stream",
     "text": [
      "              precision    recall  f1-score   support\n",
      "\n",
      "           0       0.97      0.98      0.98       593\n",
      "           2       0.98      0.98      0.98       602\n",
      "\n",
      "    accuracy                           0.98      1195\n",
      "   macro avg       0.98      0.98      0.98      1195\n",
      "weighted avg       0.98      0.98      0.98      1195\n",
      "\n"
     ]
    }
   ],
   "source": [
    "print(classification_report(actual, pred))"
   ]
  },
  {
   "cell_type": "code",
   "execution_count": 47,
   "metadata": {},
   "outputs": [
    {
     "data": {
      "image/png": "[encoded data removed]",
      "text/plain": [
       "<Figure size 640x480 with 1 Axes>"
      ]
     },
     "metadata": {},
     "output_type": "display_data"
    }
   ],
   "source": [
    "conf_matrix = confusion_matrix(actual, pred)\n",
    "sns.heatmap(conf_matrix, annot=True, fmt='d', cmap='Blues', cbar=False)\n",
    "plt.xlabel('Predicted')\n",
    "plt.ylabel('Actual')\n",
    "plt.show()"
   ]
  },
  {
   "cell_type": "code",
   "execution_count": 48,
   "metadata": {},
   "outputs": [],
   "source": [
    "# from keras.models import load_model\n",
    "# previous_model.load_weights('pneumonia_ds.h5')"
   ]
  },
  {
   "cell_type": "markdown",
   "metadata": {},
   "source": [
    "#Visualize The Model"
   ]
  },
  {
   "cell_type": "code",
   "execution_count": 49,
   "metadata": {},
   "outputs": [],
   "source": [
    "# pip install tf-keras-vis\n"
   ]
  },
  {
   "cell_type": "code",
   "execution_count": 50,
   "metadata": {},
   "outputs": [
    {
     "ename": "TypeError",
     "evalue": "__call__() got an unexpected keyword argument 'loss'",
     "output_type": "error",
     "traceback": [
      "\u001b[1;31m---------------------------------------------------------------------------\u001b[0m",
      "\u001b[1;31mTypeError\u001b[0m                                 Traceback (most recent call last)",
      "Cell \u001b[1;32mIn[50], line 23\u001b[0m\n\u001b[0;32m     17\u001b[0m saliency \u001b[38;5;241m=\u001b[39m Saliency(model)\n\u001b[0;32m     21\u001b[0m \u001b[38;5;66;03m# Compute saliency map with the desired loss function\u001b[39;00m\n\u001b[1;32m---> 23\u001b[0m saliency_map \u001b[38;5;241m=\u001b[39m \u001b[43msaliency\u001b[49m\u001b[43m(\u001b[49m\u001b[43mloss\u001b[49m\u001b[38;5;241;43m=\u001b[39;49m\u001b[43mcustom_loss\u001b[49m\u001b[43m,\u001b[49m\u001b[43m \u001b[49m\u001b[43mseed_input\u001b[49m\u001b[38;5;241;43m=\u001b[39;49m\u001b[43mimage\u001b[49m\u001b[43m)\u001b[49m\n\u001b[0;32m     25\u001b[0m \u001b[38;5;66;03m# Normalize the saliency map\u001b[39;00m\n\u001b[0;32m     26\u001b[0m saliency_map \u001b[38;5;241m=\u001b[39m normalize(saliency_map)\n",
      "\u001b[1;31mTypeError\u001b[0m: __call__() got an unexpected keyword argument 'loss'"
     ]
    }
   ],
   "source": [
    "import tensorflow as tf\n",
    "# from tensorflow.keras.models import load_model\n",
    "from tf_keras_vis.saliency import Saliency\n",
    "from tf_keras_vis.utils import normalize\n",
    "import matplotlib.pyplot as plt\n",
    "import cv2\n",
    "\n",
    "# Load the model\n",
    "model = load_model('pneumonia_ds.h5',custom_objects={'CustomLoss': CustomLoss})\n",
    "\n",
    "# Load the image\n",
    "image_path = 'Datasets\\Pneumonia\\Viral Pneumonia\\images\\person1_virus_12.jpeg'\n",
    "image = cv2.imread(image_path)\n",
    "image = cv2.resize(image, (200, 200))  # Resize if needed\n",
    "\n",
    "# Define the saliency object\n",
    "saliency = Saliency(model)\n",
    "\n",
    "\n",
    "\n",
    "# Compute saliency map with the desired loss function\n",
    "\n",
    "saliency_map = saliency(loss=custom_loss, seed_input=image)\n",
    "\n",
    "# Normalize the saliency map\n",
    "saliency_map = normalize(saliency_map)\n",
    "\n",
    "# Visualize the original image and the saliency map\n",
    "fig, axes = plt.subplots(1, 2, figsize=(15, 5))\n",
    "axes[0].imshow(image)\n",
    "axes[0].set_title('Original Image')\n",
    "axes[1].imshow(saliency_map.squeeze(), cmap='jet', alpha=0.6)\n",
    "axes[1].imshow(image, alpha=0.4)  # Overlay the original image\n",
    "axes[1].set_title('Saliency Map')\n",
    "plt.show()\n"
   ]
  }
 ],
 "metadata": {
  "kernelspec": {
   "display_name": "tf",
   "language": "python",
   "name": "python3"
  },
  "language_info": {
   "codemirror_mode": {
    "name": "ipython",
    "version": 3
   },
   "file_extension": ".py",
   "mimetype": "text/x-python",
   "name": "python",
   "nbconvert_exporter": "python",
   "pygments_lexer": "ipython3",
   "version": "3.9.18"
  }
 },
 "nbformat": 4,
 "nbformat_minor": 2
}
