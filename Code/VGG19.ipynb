{
 "cells": [
  {
   "cell_type": "code",
   "execution_count": 1,
   "metadata": {},
   "outputs": [],
   "source": [
    "import os\n",
    "import pandas as pd\n",
    "from sklearn.model_selection import train_test_split\n",
    "from keras.preprocessing.image import ImageDataGenerator\n",
    "from keras.applications import ResNet50 ,DenseNet121, EfficientNetB7,VGG16 ,VGG19\n",
    "from keras.models import Sequential, Model\n",
    "from keras.layers import GlobalAveragePooling2D, Dense, Dropout, BatchNormalization\n",
    "from keras.optimizers import Adam ,RMSprop\n",
    "from keras.callbacks import ModelCheckpoint , ReduceLROnPlateau , EarlyStopping"
   ]
  },
  {
   "cell_type": "code",
   "execution_count": 2,
   "metadata": {},
   "outputs": [],
   "source": [
    "# Load the dataset\n",
    "df = pd.read_csv('sufffle_image.csv')\n",
    "df[\"category\"] = df[\"category\"].replace({0: 'Normal', 1: 'COVID-19', 2: 'Viral Pneumonia'})"
   ]
  },
  {
   "cell_type": "code",
   "execution_count": 3,
   "metadata": {},
   "outputs": [],
   "source": [
    "# Divide the dataset into training and validation sets\n",
    "train_df, val_df = train_test_split(df, test_size=0.20, random_state=42)\n",
    "validate_df,test_df = train_test_split(val_df, test_size=0.50, random_state=42)\n",
    "train_df = train_df.reset_index(drop=True)\n",
    "validate_df = validate_df.reset_index(drop=True)"
   ]
  },
  {
   "cell_type": "code",
   "execution_count": 4,
   "metadata": {},
   "outputs": [],
   "source": [
    "# Set your IMAGE_SIZE and other parameters\n",
    "IMAGE_SIZE = (180,180)\n",
    "batch_size = 16"
   ]
  },
  {
   "cell_type": "code",
   "execution_count": 5,
   "metadata": {},
   "outputs": [
    {
     "name": "stdout",
     "output_type": "stream",
     "text": [
      "Found 27120 validated image filenames belonging to 3 classes.\n",
      "Found 3390 validated image filenames belonging to 3 classes.\n"
     ]
    }
   ],
   "source": [
    "#Create data generators\n",
    "train_datagen = ImageDataGenerator(\n",
    "    rotation_range=15,\n",
    "    rescale=1./255,\n",
    "    shear_range=0.1,\n",
    "    zoom_range=0.2,\n",
    "    horizontal_flip=True,\n",
    "    width_shift_range=0.1,\n",
    "    height_shift_range=0.1\n",
    ")\n",
    "\n",
    "train_generator = train_datagen.flow_from_dataframe(\n",
    "    train_df,\n",
    "    directory=None,\n",
    "    x_col='filename',\n",
    "    y_col='category',\n",
    "    target_size=IMAGE_SIZE,\n",
    "    class_mode='categorical',\n",
    "    batch_size=batch_size\n",
    ")\n",
    "\n",
    "validation_datagen = ImageDataGenerator(rescale=1./255)\n",
    "\n",
    "validation_generator = validation_datagen.flow_from_dataframe(\n",
    "    validate_df,\n",
    "    directory=None,\n",
    "    x_col='filename',\n",
    "    y_col='category',\n",
    "    target_size=IMAGE_SIZE,\n",
    "    class_mode='categorical',\n",
    "      batch_size=batch_size\n",
    ")\n",
    "   "
   ]
  },
  {
   "cell_type": "code",
   "execution_count": 6,
   "metadata": {},
   "outputs": [],
   "source": [
    "# Build DenseNet-121 model with ImageNet weights\n",
    "base_model = VGG16(weights='imagenet', include_top=False, input_shape=(180, 180, 3))"
   ]
  },
  {
   "cell_type": "code",
   "execution_count": 7,
   "metadata": {},
   "outputs": [
    {
     "name": "stdout",
     "output_type": "stream",
     "text": [
      "Model: \"vgg16\"\n",
      "_________________________________________________________________\n",
      " Layer (type)                Output Shape              Param #   \n",
      "=================================================================\n",
      " input_1 (InputLayer)        [(None, 180, 180, 3)]     0         \n",
      "                                                                 \n",
      " block1_conv1 (Conv2D)       (None, 180, 180, 64)      1792      \n",
      "                                                                 \n",
      " block1_conv2 (Conv2D)       (None, 180, 180, 64)      36928     \n",
      "                                                                 \n",
      " block1_pool (MaxPooling2D)  (None, 90, 90, 64)        0         \n",
      "                                                                 \n",
      " block2_conv1 (Conv2D)       (None, 90, 90, 128)       73856     \n",
      "                                                                 \n",
      " block2_conv2 (Conv2D)       (None, 90, 90, 128)       147584    \n",
      "                                                                 \n",
      " block2_pool (MaxPooling2D)  (None, 45, 45, 128)       0         \n",
      "                                                                 \n",
      " block3_conv1 (Conv2D)       (None, 45, 45, 256)       295168    \n",
      "                                                                 \n",
      " block3_conv2 (Conv2D)       (None, 45, 45, 256)       590080    \n",
      "                                                                 \n",
      " block3_conv3 (Conv2D)       (None, 45, 45, 256)       590080    \n",
      "                                                                 \n",
      " block3_pool (MaxPooling2D)  (None, 22, 22, 256)       0         \n",
      "                                                                 \n",
      " block4_conv1 (Conv2D)       (None, 22, 22, 512)       1180160   \n",
      "                                                                 \n",
      " block4_conv2 (Conv2D)       (None, 22, 22, 512)       2359808   \n",
      "                                                                 \n",
      " block4_conv3 (Conv2D)       (None, 22, 22, 512)       2359808   \n",
      "                                                                 \n",
      " block4_pool (MaxPooling2D)  (None, 11, 11, 512)       0         \n",
      "                                                                 \n",
      " block5_conv1 (Conv2D)       (None, 11, 11, 512)       2359808   \n",
      "                                                                 \n",
      " block5_conv2 (Conv2D)       (None, 11, 11, 512)       2359808   \n",
      "                                                                 \n",
      " block5_conv3 (Conv2D)       (None, 11, 11, 512)       2359808   \n",
      "                                                                 \n",
      " block5_pool (MaxPooling2D)  (None, 5, 5, 512)         0         \n",
      "                                                                 \n",
      "=================================================================\n",
      "Total params: 14,714,688\n",
      "Trainable params: 14,714,688\n",
      "Non-trainable params: 0\n",
      "_________________________________________________________________\n"
     ]
    }
   ],
   "source": [
    "base_model.summary()"
   ]
  },
  {
   "cell_type": "code",
   "execution_count": 8,
   "metadata": {},
   "outputs": [],
   "source": [
    "for layer in base_model.layers[:-2]:\n",
    "    layer.trainable = False"
   ]
  },
  {
   "cell_type": "code",
   "execution_count": 9,
   "metadata": {},
   "outputs": [],
   "source": [
    "# Adding my custom head\n",
    "x = base_model.output\n",
    "x = GlobalAveragePooling2D()(x)\n",
    "x = Dense(512, activation='relu')(x)\n",
    "x = BatchNormalization()(x)\n",
    "x = Dropout(0.5)(x)\n",
    "predictions = Dense(3, activation='softmax')(x)"
   ]
  },
  {
   "cell_type": "code",
   "execution_count": 10,
   "metadata": {},
   "outputs": [],
   "source": [
    "# Combine base model and custom head\n",
    "model = Model(inputs=base_model.input, outputs=predictions)"
   ]
  },
  {
   "cell_type": "code",
   "execution_count": 11,
   "metadata": {},
   "outputs": [
    {
     "name": "stdout",
     "output_type": "stream",
     "text": [
      "Model: \"model\"\n",
      "_________________________________________________________________\n",
      " Layer (type)                Output Shape              Param #   \n",
      "=================================================================\n",
      " input_1 (InputLayer)        [(None, 180, 180, 3)]     0         \n",
      "                                                                 \n",
      " block1_conv1 (Conv2D)       (None, 180, 180, 64)      1792      \n",
      "                                                                 \n",
      " block1_conv2 (Conv2D)       (None, 180, 180, 64)      36928     \n",
      "                                                                 \n",
      " block1_pool (MaxPooling2D)  (None, 90, 90, 64)        0         \n",
      "                                                                 \n",
      " block2_conv1 (Conv2D)       (None, 90, 90, 128)       73856     \n",
      "                                                                 \n",
      " block2_conv2 (Conv2D)       (None, 90, 90, 128)       147584    \n",
      "                                                                 \n",
      " block2_pool (MaxPooling2D)  (None, 45, 45, 128)       0         \n",
      "                                                                 \n",
      " block3_conv1 (Conv2D)       (None, 45, 45, 256)       295168    \n",
      "                                                                 \n",
      " block3_conv2 (Conv2D)       (None, 45, 45, 256)       590080    \n",
      "                                                                 \n",
      " block3_conv3 (Conv2D)       (None, 45, 45, 256)       590080    \n",
      "                                                                 \n",
      " block3_pool (MaxPooling2D)  (None, 22, 22, 256)       0         \n",
      "                                                                 \n",
      " block4_conv1 (Conv2D)       (None, 22, 22, 512)       1180160   \n"
     ]
    },
    {
     "name": "stdout",
     "output_type": "stream",
     "text": [
      "                                                                 \n",
      " block4_conv2 (Conv2D)       (None, 22, 22, 512)       2359808   \n",
      "                                                                 \n",
      " block4_conv3 (Conv2D)       (None, 22, 22, 512)       2359808   \n",
      "                                                                 \n",
      " block4_pool (MaxPooling2D)  (None, 11, 11, 512)       0         \n",
      "                                                                 \n",
      " block5_conv1 (Conv2D)       (None, 11, 11, 512)       2359808   \n",
      "                                                                 \n",
      " block5_conv2 (Conv2D)       (None, 11, 11, 512)       2359808   \n",
      "                                                                 \n",
      " block5_conv3 (Conv2D)       (None, 11, 11, 512)       2359808   \n",
      "                                                                 \n",
      " block5_pool (MaxPooling2D)  (None, 5, 5, 512)         0         \n",
      "                                                                 \n",
      " global_average_pooling2d (G  (None, 512)              0         \n",
      " lobalAveragePooling2D)                                          \n",
      "                                                                 \n",
      " dense (Dense)               (None, 512)               262656    \n",
      "                                                                 \n",
      " batch_normalization (BatchN  (None, 512)              2048      \n",
      " ormalization)                                                   \n",
      "                                                                 \n",
      " dropout (Dropout)           (None, 512)               0         \n",
      "                                                                 \n",
      " dense_1 (Dense)             (None, 3)                 1539      \n",
      "                                                                 \n",
      "=================================================================\n",
      "Total params: 14,980,931\n",
      "Trainable params: 2,625,027\n",
      "Non-trainable params: 12,355,904\n",
      "_________________________________________________________________\n"
     ]
    },
    {
     "name": "stderr",
     "output_type": "stream",
     "text": [
      "c:\\Users\\Iftek\\anaconda3\\envs\\tf\\lib\\site-packages\\keras\\optimizers\\optimizer_v2\\adam.py:114: UserWarning: The `lr` argument is deprecated, use `learning_rate` instead.\n",
      "  super().__init__(name, **kwargs)\n"
     ]
    }
   ],
   "source": [
    "# Compile the model\n",
    "model.compile(optimizer=Adam(lr=0.001), loss='categorical_crossentropy', metrics=['accuracy'])\n",
    "\n",
    "# Summary of the model\n",
    "model.summary()"
   ]
  },
  {
   "cell_type": "code",
   "execution_count": 12,
   "metadata": {},
   "outputs": [],
   "source": [
    "learning_rate_reduction = ReduceLROnPlateau(monitor = 'accuracy', \n",
    "                                            patience = 2, \n",
    "                                            verbose = 1, \n",
    "                                            factor = 0.5, \n",
    "                                            min_lr = 0.000001)\n",
    "earlystop = EarlyStopping(\n",
    "    monitor='val_loss',  # You can change this to another metric like 'val_accuracy'\n",
    "    patience=10,  # Wait for 10 epochs to see if overfitting is resolved\n",
    "    restore_best_weights=True,\n",
    "    verbose=1\n",
    ")\n",
    "callbacks = [earlystop, learning_rate_reduction]"
   ]
  },
  {
   "cell_type": "code",
   "execution_count": 13,
   "metadata": {},
   "outputs": [],
   "source": [
    "total_train = train_df.shape[0]\n",
    "total_validate = validate_df.shape[0]"
   ]
  },
  {
   "cell_type": "code",
   "execution_count": 14,
   "metadata": {},
   "outputs": [
    {
     "name": "stderr",
     "output_type": "stream",
     "text": [
      "C:\\Users\\Iftek\\AppData\\Local\\Temp\\ipykernel_16840\\4127188724.py:3: UserWarning: `Model.fit_generator` is deprecated and will be removed in a future version. Please use `Model.fit`, which supports generators.\n",
      "  history = model.fit_generator(\n"
     ]
    },
    {
     "name": "stdout",
     "output_type": "stream",
     "text": [
      "Epoch 1/100\n",
      "1695/1695 [==============================] - 282s 162ms/step - loss: 0.3532 - accuracy: 0.8629 - val_loss: 0.3722 - val_accuracy: 0.8560 - lr: 0.0010\n",
      "Epoch 2/100\n",
      "1695/1695 [==============================] - 295s 174ms/step - loss: 0.2517 - accuracy: 0.9050 - val_loss: 0.2135 - val_accuracy: 0.9206 - lr: 0.0010\n",
      "Epoch 3/100\n",
      "1695/1695 [==============================] - 301s 177ms/step - loss: 0.2218 - accuracy: 0.9183 - val_loss: 0.3355 - val_accuracy: 0.8809 - lr: 0.0010\n",
      "Epoch 4/100\n",
      "1695/1695 [==============================] - 298s 176ms/step - loss: 0.1949 - accuracy: 0.9282 - val_loss: 3.2070 - val_accuracy: 0.5803 - lr: 0.0010\n",
      "Epoch 5/100\n",
      "1695/1695 [==============================] - 295s 174ms/step - loss: 0.1917 - accuracy: 0.9304 - val_loss: 0.2625 - val_accuracy: 0.9052 - lr: 0.0010\n",
      "Epoch 6/100\n",
      "1695/1695 [==============================] - 294s 173ms/step - loss: 0.1752 - accuracy: 0.9369 - val_loss: 0.3475 - val_accuracy: 0.8646 - lr: 0.0010\n",
      "Epoch 7/100\n",
      "1695/1695 [==============================] - 293s 173ms/step - loss: 0.1603 - accuracy: 0.9436 - val_loss: 0.4959 - val_accuracy: 0.8489 - lr: 0.0010\n",
      "Epoch 8/100\n",
      "1695/1695 [==============================] - 291s 172ms/step - loss: 0.1557 - accuracy: 0.9434 - val_loss: 0.1992 - val_accuracy: 0.9331 - lr: 0.0010\n",
      "Epoch 9/100\n",
      "1695/1695 [==============================] - 291s 172ms/step - loss: 0.1526 - accuracy: 0.9454 - val_loss: 0.1944 - val_accuracy: 0.9313 - lr: 0.0010\n",
      "Epoch 10/100\n",
      "1695/1695 [==============================] - 291s 172ms/step - loss: 0.1486 - accuracy: 0.9478 - val_loss: 0.1322 - val_accuracy: 0.9523 - lr: 0.0010\n",
      "Epoch 11/100\n",
      "1695/1695 [==============================] - 294s 173ms/step - loss: 0.1352 - accuracy: 0.9532 - val_loss: 0.1588 - val_accuracy: 0.9434 - lr: 0.0010\n",
      "Epoch 12/100\n",
      "1695/1695 [==============================] - 290s 171ms/step - loss: 0.1315 - accuracy: 0.9532 - val_loss: 0.1578 - val_accuracy: 0.9428 - lr: 0.0010\n",
      "Epoch 13/100\n",
      "1695/1695 [==============================] - 293s 173ms/step - loss: 0.1258 - accuracy: 0.9563 - val_loss: 0.4020 - val_accuracy: 0.8640 - lr: 0.0010\n",
      "Epoch 14/100\n",
      "1695/1695 [==============================] - 292s 172ms/step - loss: 0.1222 - accuracy: 0.9580 - val_loss: 0.0617 - val_accuracy: 0.9781 - lr: 0.0010\n",
      "Epoch 15/100\n",
      "1695/1695 [==============================] - 293s 173ms/step - loss: 0.1195 - accuracy: 0.9591 - val_loss: 0.0785 - val_accuracy: 0.9748 - lr: 0.0010\n",
      "Epoch 16/100\n",
      "1695/1695 [==============================] - 293s 173ms/step - loss: 0.1202 - accuracy: 0.9573 - val_loss: 0.0609 - val_accuracy: 0.9799 - lr: 0.0010\n",
      "Epoch 17/100\n",
      "1695/1695 [==============================] - 294s 174ms/step - loss: 0.1125 - accuracy: 0.9606 - val_loss: 0.0824 - val_accuracy: 0.9683 - lr: 0.0010\n",
      "Epoch 18/100\n",
      "1695/1695 [==============================] - 296s 175ms/step - loss: 0.1093 - accuracy: 0.9633 - val_loss: 0.0747 - val_accuracy: 0.9722 - lr: 0.0010\n",
      "Epoch 19/100\n",
      "1695/1695 [==============================] - 310s 183ms/step - loss: 0.1082 - accuracy: 0.9621 - val_loss: 0.1854 - val_accuracy: 0.9351 - lr: 0.0010\n",
      "Epoch 20/100\n",
      "1695/1695 [==============================] - 333s 196ms/step - loss: 0.1029 - accuracy: 0.9652 - val_loss: 0.0829 - val_accuracy: 0.9671 - lr: 0.0010\n",
      "Epoch 21/100\n",
      "1695/1695 [==============================] - 332s 196ms/step - loss: 0.1015 - accuracy: 0.9645 - val_loss: 0.0897 - val_accuracy: 0.9704 - lr: 0.0010\n",
      "Epoch 22/100\n",
      "1695/1695 [==============================] - 309s 182ms/step - loss: 0.0972 - accuracy: 0.9664 - val_loss: 0.0853 - val_accuracy: 0.9730 - lr: 0.0010\n",
      "Epoch 23/100\n",
      "1695/1695 [==============================] - 295s 174ms/step - loss: 0.1023 - accuracy: 0.9659 - val_loss: 0.1249 - val_accuracy: 0.9576 - lr: 0.0010\n",
      "Epoch 24/100\n",
      "1695/1695 [==============================] - 293s 173ms/step - loss: 0.0935 - accuracy: 0.9685 - val_loss: 0.2325 - val_accuracy: 0.9194 - lr: 0.0010\n",
      "Epoch 25/100\n",
      "1695/1695 [==============================] - 295s 174ms/step - loss: 0.0952 - accuracy: 0.9686 - val_loss: 0.0474 - val_accuracy: 0.9840 - lr: 0.0010\n",
      "Epoch 26/100\n",
      "1695/1695 [==============================] - 293s 173ms/step - loss: 0.0953 - accuracy: 0.9682 - val_loss: 0.0546 - val_accuracy: 0.9828 - lr: 0.0010\n",
      "Epoch 27/100\n",
      "1695/1695 [==============================] - ETA: 0s - loss: 0.0928 - accuracy: 0.9674\n",
      "Epoch 27: ReduceLROnPlateau reducing learning rate to 0.0005000000237487257.\n",
      "1695/1695 [==============================] - 294s 174ms/step - loss: 0.0928 - accuracy: 0.9674 - val_loss: 0.0695 - val_accuracy: 0.9757 - lr: 0.0010\n",
      "Epoch 28/100\n",
      "1695/1695 [==============================] - 291s 172ms/step - loss: 0.0786 - accuracy: 0.9740 - val_loss: 0.0680 - val_accuracy: 0.9778 - lr: 5.0000e-04\n",
      "Epoch 29/100\n",
      "1695/1695 [==============================] - 295s 174ms/step - loss: 0.0801 - accuracy: 0.9732 - val_loss: 0.0495 - val_accuracy: 0.9852 - lr: 5.0000e-04\n",
      "Epoch 30/100\n",
      "1695/1695 [==============================] - 294s 174ms/step - loss: 0.0707 - accuracy: 0.9758 - val_loss: 0.1217 - val_accuracy: 0.9627 - lr: 5.0000e-04\n",
      "Epoch 31/100\n",
      "1695/1695 [==============================] - 296s 175ms/step - loss: 0.0706 - accuracy: 0.9772 - val_loss: 0.0556 - val_accuracy: 0.9828 - lr: 5.0000e-04\n",
      "Epoch 32/100\n",
      "1695/1695 [==============================] - 295s 174ms/step - loss: 0.0685 - accuracy: 0.9778 - val_loss: 0.0797 - val_accuracy: 0.9736 - lr: 5.0000e-04\n",
      "Epoch 33/100\n",
      "1695/1695 [==============================] - 294s 174ms/step - loss: 0.0711 - accuracy: 0.9763 - val_loss: 0.0647 - val_accuracy: 0.9787 - lr: 5.0000e-04\n",
      "Epoch 34/100\n",
      "1695/1695 [==============================] - ETA: 0s - loss: 0.0705 - accuracy: 0.9765\n",
      "Epoch 34: ReduceLROnPlateau reducing learning rate to 0.0002500000118743628.\n",
      "1695/1695 [==============================] - 294s 173ms/step - loss: 0.0705 - accuracy: 0.9765 - val_loss: 0.0552 - val_accuracy: 0.9828 - lr: 5.0000e-04\n",
      "Epoch 35/100\n",
      "1695/1695 [==============================] - ETA: 0s - loss: 0.0616 - accuracy: 0.9798Restoring model weights from the end of the best epoch: 25.\n",
      "1695/1695 [==============================] - 294s 174ms/step - loss: 0.0616 - accuracy: 0.9798 - val_loss: 0.0535 - val_accuracy: 0.9837 - lr: 2.5000e-04\n",
      "Epoch 35: early stopping\n"
     ]
    }
   ],
   "source": [
    "epochs = 100\n",
    "\n",
    "history = model.fit_generator(\n",
    "    train_generator,\n",
    "    epochs=epochs,\n",
    "    validation_data=validation_generator,\n",
    "    validation_steps=total_validate // batch_size,\n",
    "    steps_per_epoch=total_train // batch_size,\n",
    "    callbacks=callbacks\n",
    ")\n",
    "model.save('transfer_VGG.h5')"
   ]
  },
  {
   "cell_type": "code",
   "execution_count": 15,
   "metadata": {},
   "outputs": [],
   "source": [
    "actual_epochs = len(history.history['loss'])"
   ]
  },
  {
   "cell_type": "code",
   "execution_count": 16,
   "metadata": {},
   "outputs": [
    {
     "data": {
      "image/png": "[encoded data removed]",
      "text/plain": [
       "<Figure size 640x480 with 1 Axes>"
      ]
     },
     "metadata": {},
     "output_type": "display_data"
    }
   ],
   "source": [
    "import matplotlib.pyplot as plt\n",
    "\n",
    "# Plot training & validation accuracy values\n",
    "numEpochs = range(1,  actual_epochs + 1)\n",
    "plt.plot(numEpochs,history.history['accuracy'])\n",
    "plt.plot(numEpochs,history.history['val_accuracy'])\n",
    "plt.title('Model accuracy')\n",
    "plt.xlabel('Epoch')\n",
    "plt.ylabel('Accuracy')\n",
    "plt.legend(['Train', 'Validation'], loc='upper left')\n",
    "plt.show()"
   ]
  },
  {
   "cell_type": "code",
   "execution_count": 17,
   "metadata": {},
   "outputs": [
    {
     "data": {
      "image/png": "[encoded data removed]",
      "text/plain": [
       "<Figure size 640x480 with 1 Axes>"
      ]
     },
     "metadata": {},
     "output_type": "display_data"
    }
   ],
   "source": [
    "loss = history.history['loss']\n",
    "val_loss = history.history['val_loss']\n",
    "numEpochs = range(1,  actual_epochs + 1)\n",
    "plt.plot( numEpochs,loss, 'g', label='Training Loss')\n",
    "plt.plot(numEpochs,val_loss, 'b', label='Validation Loss')\n",
    "plt.title('Training and Validation Loss')\n",
    "plt.xlabel('Epochs')\n",
    "plt.ylabel('Loss')\n",
    "plt.legend()\n",
    "plt.show()"
   ]
  },
  {
   "cell_type": "code",
   "execution_count": 18,
   "metadata": {},
   "outputs": [
    {
     "data": {
      "text/html": [
       "<div>\n",
       "<style scoped>\n",
       "    .dataframe tbody tr th:only-of-type {\n",
       "        vertical-align: middle;\n",
       "    }\n",
       "\n",
       "    .dataframe tbody tr th {\n",
       "        vertical-align: top;\n",
       "    }\n",
       "\n",
       "    .dataframe thead th {\n",
       "        text-align: right;\n",
       "    }\n",
       "</style>\n",
       "<table border=\"1\" class=\"dataframe\">\n",
       "  <thead>\n",
       "    <tr style=\"text-align: right;\">\n",
       "      <th></th>\n",
       "      <th>filename</th>\n",
       "      <th>category</th>\n",
       "    </tr>\n",
       "  </thead>\n",
       "  <tbody>\n",
       "    <tr>\n",
       "      <th>0</th>\n",
       "      <td>HE\\Pneumonia\\Viral Pneumonia\\images\\HE-person1...</td>\n",
       "      <td>Viral Pneumonia</td>\n",
       "    </tr>\n",
       "    <tr>\n",
       "      <th>1</th>\n",
       "      <td>Datasets\\COVID-19_Radiography_Dataset\\COVID\\im...</td>\n",
       "      <td>COVID-19</td>\n",
       "    </tr>\n",
       "    <tr>\n",
       "      <th>2</th>\n",
       "      <td>CL+MEDIAN\\COVID-19_Radiography_Dataset\\COVID\\i...</td>\n",
       "      <td>COVID-19</td>\n",
       "    </tr>\n",
       "    <tr>\n",
       "      <th>3</th>\n",
       "      <td>Datasets\\COVID-19_Radiography_Dataset\\COVID\\im...</td>\n",
       "      <td>COVID-19</td>\n",
       "    </tr>\n",
       "    <tr>\n",
       "      <th>4</th>\n",
       "      <td>HE\\Pneumonia\\Viral Pneumonia\\images\\HE-person1...</td>\n",
       "      <td>Viral Pneumonia</td>\n",
       "    </tr>\n",
       "    <tr>\n",
       "      <th>...</th>\n",
       "      <td>...</td>\n",
       "      <td>...</td>\n",
       "    </tr>\n",
       "    <tr>\n",
       "      <th>3386</th>\n",
       "      <td>Datasets\\COVID-19_Radiography_Dataset\\Normal\\i...</td>\n",
       "      <td>Normal</td>\n",
       "    </tr>\n",
       "    <tr>\n",
       "      <th>3387</th>\n",
       "      <td>HE\\Pneumonia\\Viral Pneumonia\\images\\HE-person6...</td>\n",
       "      <td>Viral Pneumonia</td>\n",
       "    </tr>\n",
       "    <tr>\n",
       "      <th>3388</th>\n",
       "      <td>CL+MEDIAN\\COVID-19_Radiography_Dataset\\Viral P...</td>\n",
       "      <td>Viral Pneumonia</td>\n",
       "    </tr>\n",
       "    <tr>\n",
       "      <th>3389</th>\n",
       "      <td>Datasets\\COVID-19_Radiography_Dataset\\Normal\\i...</td>\n",
       "      <td>Normal</td>\n",
       "    </tr>\n",
       "    <tr>\n",
       "      <th>3390</th>\n",
       "      <td>CL+MEDIAN\\COVID-19_Radiography_Dataset\\COVID\\i...</td>\n",
       "      <td>COVID-19</td>\n",
       "    </tr>\n",
       "  </tbody>\n",
       "</table>\n",
       "<p>3391 rows × 2 columns</p>\n",
       "</div>"
      ],
      "text/plain": [
       "                                               filename         category\n",
       "0     HE\\Pneumonia\\Viral Pneumonia\\images\\HE-person1...  Viral Pneumonia\n",
       "1     Datasets\\COVID-19_Radiography_Dataset\\COVID\\im...         COVID-19\n",
       "2     CL+MEDIAN\\COVID-19_Radiography_Dataset\\COVID\\i...         COVID-19\n",
       "3     Datasets\\COVID-19_Radiography_Dataset\\COVID\\im...         COVID-19\n",
       "4     HE\\Pneumonia\\Viral Pneumonia\\images\\HE-person1...  Viral Pneumonia\n",
       "...                                                 ...              ...\n",
       "3386  Datasets\\COVID-19_Radiography_Dataset\\Normal\\i...           Normal\n",
       "3387  HE\\Pneumonia\\Viral Pneumonia\\images\\HE-person6...  Viral Pneumonia\n",
       "3388  CL+MEDIAN\\COVID-19_Radiography_Dataset\\Viral P...  Viral Pneumonia\n",
       "3389  Datasets\\COVID-19_Radiography_Dataset\\Normal\\i...           Normal\n",
       "3390  CL+MEDIAN\\COVID-19_Radiography_Dataset\\COVID\\i...         COVID-19\n",
       "\n",
       "[3391 rows x 2 columns]"
      ]
     },
     "execution_count": 18,
     "metadata": {},
     "output_type": "execute_result"
    }
   ],
   "source": [
    "test_df = test_df.sample(frac=1).reset_index(drop=True)\n",
    "test_df"
   ]
  },
  {
   "cell_type": "code",
   "execution_count": 19,
   "metadata": {},
   "outputs": [],
   "source": [
    "nb_samples = test_df.shape[0]"
   ]
  },
  {
   "cell_type": "code",
   "execution_count": 20,
   "metadata": {},
   "outputs": [
    {
     "name": "stdout",
     "output_type": "stream",
     "text": [
      "Found 3391 validated image filenames belonging to 3 classes.\n"
     ]
    }
   ],
   "source": [
    "test_gen = ImageDataGenerator(rescale = 1./255)\n",
    "test_generator = test_gen.flow_from_dataframe(    \n",
    "    test_df, \n",
    "    directory=None,\n",
    "    x_col='filename',\n",
    "    y_col='category',\n",
    "    target_size = IMAGE_SIZE,\n",
    "    \n",
    "    class_mode='categorical',\n",
    "    batch_size = batch_size,\n",
    "    shuffle = False,\n",
    ")"
   ]
  },
  {
   "cell_type": "code",
   "execution_count": 21,
   "metadata": {},
   "outputs": [],
   "source": [
    "import numpy as np"
   ]
  },
  {
   "cell_type": "code",
   "execution_count": 22,
   "metadata": {},
   "outputs": [
    {
     "name": "stderr",
     "output_type": "stream",
     "text": [
      "C:\\Users\\Iftek\\AppData\\Local\\Temp\\ipykernel_16840\\1469141313.py:1: UserWarning: `Model.predict_generator` is deprecated and will be removed in a future version. Please use `Model.predict`, which supports generators.\n",
      "  predict = model.predict_generator(test_generator, steps = np.ceil(nb_samples/batch_size))\n"
     ]
    },
    {
     "data": {
      "text/plain": [
       "array([[7.2208328e-05, 1.3426445e-01, 8.6566329e-01],\n",
       "       [9.9877661e-01, 8.4077183e-04, 3.8259148e-04],\n",
       "       [9.9845874e-01, 1.0908316e-03, 4.5040404e-04],\n",
       "       ...,\n",
       "       [2.0443542e-07, 3.1890879e-06, 9.9999666e-01],\n",
       "       [1.3245823e-04, 9.9978727e-01, 8.0382670e-05],\n",
       "       [9.9999201e-01, 1.9553606e-06, 6.0709426e-06]], dtype=float32)"
      ]
     },
     "execution_count": 22,
     "metadata": {},
     "output_type": "execute_result"
    }
   ],
   "source": [
    "predict = model.predict_generator(test_generator, steps = np.ceil(nb_samples/batch_size))\n",
    "predict"
   ]
  },
  {
   "cell_type": "code",
   "execution_count": 23,
   "metadata": {},
   "outputs": [],
   "source": [
    "test_df['predict_category'] = np.argmax(predict, axis=-1)"
   ]
  },
  {
   "cell_type": "code",
   "execution_count": 24,
   "metadata": {},
   "outputs": [],
   "source": [
    "label_map = dict((v,k) for k,v in train_generator.class_indices.items())\n",
    "test_df['predict_category'] = test_df['predict_category'].replace(label_map)"
   ]
  },
  {
   "cell_type": "code",
   "execution_count": 25,
   "metadata": {},
   "outputs": [],
   "source": [
    "test_df['predict_category'] = test_df['predict_category'].replace({'Normal': 0, 'COVID-19': 1, 'Viral Pneumonia': 2})"
   ]
  },
  {
   "cell_type": "code",
   "execution_count": 26,
   "metadata": {},
   "outputs": [],
   "source": [
    "sample_test = test_df\n",
    "correctPredictions = 0\n",
    "\n",
    "correctNormalPred = 0\n",
    "correctCovidPred = 0\n",
    "correctPneuPred = 0\n",
    "\n",
    "totalNormalPred = 0\n",
    "totalCovidPred = 0\n",
    "totalPneuPred = 0\n",
    "\n",
    "for index, row in sample_test.iterrows():\n",
    "    \n",
    "    filename = row['filename']\n",
    "    prediction = row['predict_category']\n",
    "    \n",
    "    # img = load_img(filename, target_size=IMAGE_SIZE)\n",
    "    path_parts = filename.split('\\\\')\n",
    "    third_phrase = path_parts[2]\n",
    "    # print(third_phrase)\n",
    "\n",
    "    if 'Normal' in third_phrase:\n",
    "        \n",
    "        if prediction == 0:\n",
    "            correctPredictions += 1\n",
    "            correctNormalPred += 1\n",
    "            \n",
    "        totalNormalPred += 1\n",
    "    \n",
    "    if 'COVID' in third_phrase:\n",
    "        \n",
    "        if prediction == 1: \n",
    "            correctPredictions += 1\n",
    "            correctCovidPred += 1\n",
    "            \n",
    "        totalCovidPred += 1\n",
    "    \n",
    "    if 'Viral Pneumonia' in third_phrase:\n",
    "        \n",
    "        if prediction == 2: \n",
    "            correctPredictions += 1\n",
    "            correctPneuPred += 1\n",
    "            \n",
    "        totalPneuPred += 1\n",
    "    "
   ]
  },
  {
   "cell_type": "code",
   "execution_count": 27,
   "metadata": {},
   "outputs": [
    {
     "name": "stdout",
     "output_type": "stream",
     "text": [
      "Model Accuracy: 97.70%\n",
      "Correct Predictions: 3313 Total Predictions: 3391\n",
      "\n",
      "Normal Predictions: 1131 Accuracy 97.16%\n",
      "COVID-19 Predictions: 1056 Accuracy 97.51%\n",
      "Viral Pneumonia Predictions: 1126 Accuracy 98.43%\n"
     ]
    }
   ],
   "source": [
    "print('Model Accuracy:', \"{:.2%}\".format(correctPredictions / test_df.shape[0]))\n",
    "print('Correct Predictions:', correctPredictions, 'Total Predictions:', test_df.shape[0])\n",
    "\n",
    "print('\\nNormal Predictions:', correctNormalPred, 'Accuracy', \"{:.2%}\".format(correctNormalPred /  totalNormalPred))\n",
    "print('COVID-19 Predictions:', correctCovidPred, 'Accuracy', \"{:.2%}\".format(correctCovidPred /  totalCovidPred))\n",
    "print('Viral Pneumonia Predictions:', correctPneuPred, 'Accuracy', \"{:.2%}\".format(correctPneuPred / totalPneuPred))"
   ]
  },
  {
   "cell_type": "code",
   "execution_count": 28,
   "metadata": {},
   "outputs": [
    {
     "name": "stderr",
     "output_type": "stream",
     "text": [
      "C:\\Users\\Iftek\\AppData\\Local\\Temp\\ipykernel_16840\\4069215994.py:6: FutureWarning: Series.__getitem__ treating keys as positions is deprecated. In a future version, integer keys will always be treated as labels (consistent with DataFrame behavior). To access a value by position, use `ser.iloc[pos]`\n",
      "  filename = row[1][0]\n",
      "C:\\Users\\Iftek\\AppData\\Local\\Temp\\ipykernel_16840\\4069215994.py:15: FutureWarning: Series.__getitem__ treating keys as positions is deprecated. In a future version, integer keys will always be treated as labels (consistent with DataFrame behavior). To access a value by position, use `ser.iloc[pos]`\n",
      "  pred.append(row[1][2])\n"
     ]
    }
   ],
   "source": [
    "actual = []\n",
    "pred = []\n",
    "\n",
    "for row in test_df.iterrows():\n",
    "    \n",
    "    filename = row[1][0]\n",
    "    # print(filename)\n",
    "    path_parts = filename.split('\\\\')\n",
    "    third_phrase = path_parts[2]\n",
    "    if 'Normal' in third_phrase: actual.append(0)\n",
    "    if 'COVID' in third_phrase: actual.append(1)\n",
    "    if 'Viral Pneumonia' in third_phrase: actual.append(2)\n",
    "    # print(f'Actual :{row[1][1]}')   \n",
    "    # print(f'prediction :{row[1][2]}')   \n",
    "    pred.append(row[1][2])"
   ]
  },
  {
   "cell_type": "code",
   "execution_count": 29,
   "metadata": {},
   "outputs": [],
   "source": [
    "from sklearn.metrics import classification_report,confusion_matrix\n",
    "from sklearn.metrics import accuracy_score, precision_score, recall_score, f1_score\n",
    "import seaborn as sns"
   ]
  },
  {
   "cell_type": "code",
   "execution_count": 30,
   "metadata": {},
   "outputs": [
    {
     "name": "stdout",
     "output_type": "stream",
     "text": [
      "              precision    recall  f1-score   support\n",
      "\n",
      "           0       0.97      0.97      0.97      1164\n",
      "           1       0.98      0.98      0.98      1083\n",
      "           2       0.99      0.98      0.99      1144\n",
      "\n",
      "    accuracy                           0.98      3391\n",
      "   macro avg       0.98      0.98      0.98      3391\n",
      "weighted avg       0.98      0.98      0.98      3391\n",
      "\n"
     ]
    }
   ],
   "source": [
    "print(classification_report(actual, pred))"
   ]
  },
  {
   "cell_type": "code",
   "execution_count": 31,
   "metadata": {},
   "outputs": [
    {
     "data": {
      "image/png": "[encoded data removed]",
      "text/plain": [
       "<Figure size 640x480 with 1 Axes>"
      ]
     },
     "metadata": {},
     "output_type": "display_data"
    }
   ],
   "source": [
    "conf_matrix = confusion_matrix(actual, pred)\n",
    "sns.heatmap(conf_matrix, annot=True, fmt='d', cmap='Blues', cbar=False)\n",
    "plt.xlabel('Predicted')\n",
    "plt.ylabel('Actual')\n",
    "plt.show()"
   ]
  },
  {
   "cell_type": "code",
   "execution_count": 1,
   "metadata": {},
   "outputs": [
    {
     "data": {
      "image/png": "[encoded data removed]",
      "text/plain": [
       "<Figure size 640x480 with 1 Axes>"
      ]
     },
     "metadata": {},
     "output_type": "display_data"
    }
   ],
   "source": [
    "import seaborn as sns\n",
    "import matplotlib.pyplot as plt\n",
    "\n",
    "conf_matrix = [[1131, 24, 9], [21, 1056, 6], [18, 0, 1126]]\n",
    "sns.heatmap(conf_matrix, annot=True, fmt='d', cmap='Blues', cbar=False, annot_kws={\"fontsize\": 18})\n",
    "plt.xlabel('Predicted', fontsize=14)  # Adjust the font size as needed\n",
    "plt.ylabel('Actual', fontsize=14)  # Adjust the font size as needed\n",
    "plt.savefig('vgg19.pdf')\n",
    "plt.show()"
   ]
  }
 ],
 "metadata": {
  "kernelspec": {
   "display_name": "tf",
   "language": "python",
   "name": "python3"
  },
  "language_info": {
   "codemirror_mode": {
    "name": "ipython",
    "version": 3
   },
   "file_extension": ".py",
   "mimetype": "text/x-python",
   "name": "python",
   "nbconvert_exporter": "python",
   "pygments_lexer": "ipython3",
   "version": "3.9.18"
  }
 },
 "nbformat": 4,
 "nbformat_minor": 2
}
