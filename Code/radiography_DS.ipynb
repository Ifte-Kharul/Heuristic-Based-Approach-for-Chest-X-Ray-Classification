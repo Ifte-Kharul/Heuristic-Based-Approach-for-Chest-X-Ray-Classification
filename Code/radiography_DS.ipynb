{
 "cells": [
  {
   "cell_type": "code",
   "execution_count": 1,
   "metadata": {},
   "outputs": [],
   "source": [
    "import os\n",
    "import pandas as pd\n",
    "from sklearn.model_selection import train_test_split\n",
    "from tensorflow.keras.models import load_model\n",
    "from keras.preprocessing.image import ImageDataGenerator\n",
    "from keras.applications import ResNet50 ,DenseNet121, EfficientNetB7,VGG16\n",
    "from keras.models import Sequential, Model\n",
    "from keras.layers import GlobalAveragePooling2D, Dense, Dropout, BatchNormalization\n",
    "from keras.optimizers import Adam ,RMSprop\n",
    "from keras.callbacks import ModelCheckpoint , ReduceLROnPlateau, EarlyStopping\n",
    "import tensorflow as tf"
   ]
  },
  {
   "cell_type": "code",
   "execution_count": 2,
   "metadata": {},
   "outputs": [],
   "source": [
    "df = pd.read_csv('COVID-19_Radiography_Dataset.csv')\n",
    "df[\"category\"] = df[\"category\"].replace({0: 'Normal', 1: 'COVID-19', 2: 'Viral Pneumonia'})"
   ]
  },
  {
   "cell_type": "code",
   "execution_count": 3,
   "metadata": {},
   "outputs": [
    {
     "data": {
      "text/plain": [
       "category\n",
       "COVID-19           10848\n",
       "Normal             10192\n",
       "Viral Pneumonia     5380\n",
       "Name: count, dtype: int64"
      ]
     },
     "execution_count": 3,
     "metadata": {},
     "output_type": "execute_result"
    }
   ],
   "source": [
    "df['category'].value_counts()"
   ]
  },
  {
   "cell_type": "code",
   "execution_count": 4,
   "metadata": {},
   "outputs": [
    {
     "data": {
      "text/plain": [
       "<Axes: xlabel='category'>"
      ]
     },
     "execution_count": 4,
     "metadata": {},
     "output_type": "execute_result"
    },
    {
     "data": {
      "image/png": "[encoded data removed]",
      "text/plain": [
       "<Figure size 640x480 with 1 Axes>"
      ]
     },
     "metadata": {},
     "output_type": "display_data"
    }
   ],
   "source": [
    "df['category'].value_counts().plot.bar()"
   ]
  },
  {
   "cell_type": "code",
   "execution_count": 5,
   "metadata": {},
   "outputs": [
    {
     "data": {
      "text/plain": [
       "category\n",
       "COVID-19           10848\n",
       "Normal             10192\n",
       "Viral Pneumonia     5380\n",
       "Name: count, dtype: int64"
      ]
     },
     "execution_count": 5,
     "metadata": {},
     "output_type": "execute_result"
    }
   ],
   "source": [
    "class_counts = df['category'].value_counts()\n",
    "class_counts"
   ]
  },
  {
   "cell_type": "code",
   "execution_count": 6,
   "metadata": {},
   "outputs": [
    {
     "name": "stdout",
     "output_type": "stream",
     "text": [
      "category\n",
      "Viral Pneumonia    10848\n",
      "COVID-19           10848\n",
      "Normal             10848\n",
      "Name: count, dtype: int64\n"
     ]
    }
   ],
   "source": [
    "from imblearn.over_sampling import RandomOverSampler\n",
    "\n",
    "# Oversample the minority classes to match the count of the majority class ('COVID-19')\n",
    "oversample = RandomOverSampler(sampling_strategy={'Normal': class_counts['COVID-19'],\n",
    "                                                  'Viral Pneumonia': class_counts['COVID-19']})\n",
    "X_resampled, y_resampled = oversample.fit_resample(df.drop(columns=['category']), df['category'])\n",
    "\n",
    "# Combine the resampled data into a DataFrame\n",
    "df_resampled = pd.DataFrame(X_resampled, columns=df.columns.drop('category'))\n",
    "df_resampled['category'] = y_resampled\n",
    "\n",
    "# Check the class distribution after oversampling\n",
    "print(df_resampled['category'].value_counts())\n"
   ]
  },
  {
   "cell_type": "code",
   "execution_count": 9,
   "metadata": {},
   "outputs": [],
   "source": [
    "df_resampled = df_resampled.sample(frac=1).reset_index(drop=True)"
   ]
  },
  {
   "cell_type": "code",
   "execution_count": 10,
   "metadata": {},
   "outputs": [],
   "source": [
    "# Divide the dataset into training and validation sets\n",
    "train_df, val_df = train_test_split(df_resampled, test_size=0.20, random_state=42)\n",
    "validate_df,test_df = train_test_split(val_df, test_size=0.50, random_state=42)\n",
    "train_df = train_df.reset_index(drop=True)\n",
    "validate_df = validate_df.reset_index(drop=True)"
   ]
  },
  {
   "cell_type": "code",
   "execution_count": 11,
   "metadata": {},
   "outputs": [],
   "source": [
    "# Set your IMAGE_SIZE and other parameters\n",
    "IMAGE_SIZE = (180,180)\n",
    "batch_size = 16"
   ]
  },
  {
   "cell_type": "code",
   "execution_count": 12,
   "metadata": {},
   "outputs": [
    {
     "name": "stdout",
     "output_type": "stream",
     "text": [
      "Found 26035 validated image filenames belonging to 3 classes.\n",
      "Found 3254 validated image filenames belonging to 3 classes.\n"
     ]
    }
   ],
   "source": [
    "#Create data generators\n",
    "train_datagen = ImageDataGenerator(\n",
    "    rotation_range=15,\n",
    "    rescale=1./255,\n",
    "    shear_range=0.1,\n",
    "    zoom_range=0.2,\n",
    "    horizontal_flip=True,\n",
    "    width_shift_range=0.1,\n",
    "    height_shift_range=0.1\n",
    ")\n",
    "# train_datagen = ImageDataGenerator(\n",
    "#     rotation_range=15,\n",
    "#     rescale=1./255,\n",
    "#     shear_range=0.1,\n",
    "#     # zoom_range=0.2,\n",
    "#     horizontal_flip=True,\n",
    "    \n",
    "#     brightness_range=[0.5, 1.5],\n",
    "#     channel_shift_range=0.2,\n",
    "#     vertical_flip=True,\n",
    "#     preprocessing_function=lambda x: x + 0.01 * np.random.randn(*x.shape),\n",
    "#     # random_rotation=30,\n",
    "#     height_shift_range=0.1,\n",
    "#     width_shift_range=0.1,\n",
    "#     zoom_range=[0.8, 1.2],\n",
    "#     # Exclude unsupported parameter\n",
    "# )\n",
    "\n",
    "train_generator = train_datagen.flow_from_dataframe(\n",
    "    train_df,\n",
    "    directory=None,\n",
    "    x_col='filename',\n",
    "    y_col='category',\n",
    "    target_size=IMAGE_SIZE,\n",
    "    class_mode='categorical',\n",
    "    batch_size=batch_size\n",
    ")\n",
    "\n",
    "validation_datagen = ImageDataGenerator(rescale=1./255)\n",
    "\n",
    "validation_generator = validation_datagen.flow_from_dataframe(\n",
    "    validate_df,\n",
    "    directory=None,\n",
    "    x_col='filename',\n",
    "    y_col='category',\n",
    "    target_size=IMAGE_SIZE,\n",
    "    class_mode='categorical',\n",
    "      batch_size=batch_size\n",
    ")\n",
    "   "
   ]
  },
  {
   "cell_type": "code",
   "execution_count": 13,
   "metadata": {},
   "outputs": [],
   "source": [
    "class CustomLoss(tf.keras.losses.Loss):\n",
    "    def __init__(self, reduction=tf.keras.losses.Reduction.AUTO, name=\"custom_loss\"):\n",
    "        super().__init__(reduction=reduction, name=name)\n",
    "\n",
    "    def call(self, y_true, y_pred):\n",
    "        return tf.reduce_mean(tf.square(y_true - y_pred))"
   ]
  },
  {
   "cell_type": "code",
   "execution_count": 14,
   "metadata": {},
   "outputs": [],
   "source": [
    "custom_loss = CustomLoss()"
   ]
  },
  {
   "cell_type": "code",
   "execution_count": 15,
   "metadata": {},
   "outputs": [],
   "source": [
    "previous_model = load_model('pneumonia_ds.h5',custom_objects={'CustomLoss': CustomLoss})"
   ]
  },
  {
   "cell_type": "code",
   "execution_count": 16,
   "metadata": {},
   "outputs": [],
   "source": [
    "# Remove the last dense layer\n",
    "previous_model.layers.pop()\n",
    "\n",
    "# Add a new dense layer with the appropriate number of units for the new classification task\n",
    "num_classes = 3  # Assuming you have three classes in the new dataset\n",
    "new_classification_layer = Dense(num_classes, activation='softmax', name='new_classification')(previous_model.layers[-1].output)\n",
    "\n",
    "# Create a new model with the modified architecture\n",
    "model = Model(inputs=previous_model.input, outputs=new_classification_layer)\n",
    "\n",
    "# Compile the model with the new configuration\n",
    "# model.compile(optimizer='adam', loss='categorical_crossentropy', metrics=['accuracy'])\n"
   ]
  },
  {
   "cell_type": "code",
   "execution_count": 17,
   "metadata": {},
   "outputs": [
    {
     "name": "stderr",
     "output_type": "stream",
     "text": [
      "c:\\Users\\Iftek\\anaconda3\\envs\\tf\\lib\\site-packages\\keras\\optimizers\\optimizer_v2\\adam.py:114: UserWarning: The `lr` argument is deprecated, use `learning_rate` instead.\n",
      "  super().__init__(name, **kwargs)\n"
     ]
    }
   ],
   "source": [
    "model.compile(optimizer=Adam(lr=0.001), loss=custom_loss, metrics=['accuracy'])"
   ]
  },
  {
   "cell_type": "code",
   "execution_count": 18,
   "metadata": {},
   "outputs": [
    {
     "name": "stdout",
     "output_type": "stream",
     "text": [
      "Model: \"model\"\n",
      "_________________________________________________________________\n",
      " Layer (type)                Output Shape              Param #   \n",
      "=================================================================\n",
      " conv2d_input (InputLayer)   [(None, 180, 180, 3)]     0         \n",
      "                                                                 \n",
      " conv2d (Conv2D)             (None, 180, 180, 16)      448       \n",
      "                                                                 \n",
      " conv2d_1 (Conv2D)           (None, 180, 180, 16)      2320      \n",
      "                                                                 \n",
      " max_pooling2d (MaxPooling2D  (None, 90, 90, 16)       0         \n",
      " )                                                               \n",
      "                                                                 \n",
      " conv2d_2 (Conv2D)           (None, 90, 90, 32)        4640      \n",
      "                                                                 \n",
      " conv2d_3 (Conv2D)           (None, 90, 90, 32)        9248      \n",
      "                                                                 \n",
      " batch_normalization (BatchN  (None, 90, 90, 32)       128       \n",
      " ormalization)                                                   \n",
      "                                                                 \n",
      " max_pooling2d_1 (MaxPooling  (None, 45, 45, 32)       0         \n",
      " 2D)                                                             \n",
      "                                                                 \n",
      " conv2d_4 (Conv2D)           (None, 45, 45, 64)        18496     \n",
      "                                                                 \n",
      " conv2d_5 (Conv2D)           (None, 45, 45, 64)        36928     \n",
      "                                                                 \n",
      " batch_normalization_1 (Batc  (None, 45, 45, 64)       256       \n",
      " hNormalization)                                                 \n",
      "                                                                 \n",
      " max_pooling2d_2 (MaxPooling  (None, 22, 22, 64)       0         \n",
      " 2D)                                                             \n",
      "                                                                 \n",
      " conv2d_6 (Conv2D)           (None, 22, 22, 128)       73856     \n",
      "                                                                 \n",
      " conv2d_7 (Conv2D)           (None, 22, 22, 128)       147584    \n",
      "                                                                 \n",
      " batch_normalization_2 (Batc  (None, 22, 22, 128)      512       \n",
      " hNormalization)                                                 \n",
      "                                                                 \n",
      " max_pooling2d_3 (MaxPooling  (None, 11, 11, 128)      0         \n",
      " 2D)                                                             \n",
      "                                                                 \n",
      " dropout (Dropout)           (None, 11, 11, 128)       0         \n",
      "                                                                 \n",
      " conv2d_8 (Conv2D)           (None, 11, 11, 256)       295168    \n",
      "                                                                 \n",
      " conv2d_9 (Conv2D)           (None, 11, 11, 256)       590080    \n",
      "                                                                 \n",
      " batch_normalization_3 (Batc  (None, 11, 11, 256)      1024      \n",
      " hNormalization)                                                 \n",
      "                                                                 \n",
      " max_pooling2d_4 (MaxPooling  (None, 5, 5, 256)        0         \n",
      " 2D)                                                             \n",
      "                                                                 \n",
      " dropout_1 (Dropout)         (None, 5, 5, 256)         0         \n",
      "                                                                 \n",
      " flatten (Flatten)           (None, 6400)              0         \n",
      "                                                                 \n",
      " dense (Dense)               (None, 512)               3277312   \n",
      "                                                                 \n",
      " dense_1 (Dense)             (None, 512)               262656    \n",
      "                                                                 \n",
      " batch_normalization_4 (Batc  (None, 512)              2048      \n",
      " hNormalization)                                                 \n",
      "                                                                 \n",
      " dropout_2 (Dropout)         (None, 512)               0         \n",
      "                                                                 \n",
      " dense_2 (Dense)             (None, 128)               65664     \n",
      "                                                                 \n",
      " dense_3 (Dense)             (None, 128)               16512     \n",
      "                                                                 \n",
      " batch_normalization_5 (Batc  (None, 128)              512       \n",
      " hNormalization)                                                 \n",
      "                                                                 \n",
      " dropout_3 (Dropout)         (None, 128)               0         \n",
      "                                                                 \n",
      " dense_4 (Dense)             (None, 64)                8256      \n",
      "                                                                 \n",
      " dense_5 (Dense)             (None, 64)                4160      \n",
      "                                                                 \n",
      " batch_normalization_6 (Batc  (None, 64)               256       \n",
      " hNormalization)                                                 \n",
      "                                                                 \n",
      " dropout_4 (Dropout)         (None, 64)                0         \n",
      "                                                                 \n",
      " dense_6 (Dense)             (None, 512)               33280     \n",
      "                                                                 \n",
      " dense_7 (Dense)             (None, 2)                 1026      \n",
      "                                                                 \n",
      " new_classification (Dense)  (None, 3)                 9         \n",
      "                                                                 \n",
      "=================================================================\n",
      "Total params: 4,852,379\n",
      "Trainable params: 4,850,011\n",
      "Non-trainable params: 2,368\n",
      "_________________________________________________________________\n"
     ]
    }
   ],
   "source": [
    "model.summary()"
   ]
  },
  {
   "cell_type": "code",
   "execution_count": 19,
   "metadata": {},
   "outputs": [],
   "source": [
    "learning_rate_reduction = ReduceLROnPlateau(monitor = 'accuracy', \n",
    "                                            patience = 2, \n",
    "                                            verbose = 1, \n",
    "                                            factor = 0.5, \n",
    "                                            min_lr = 0.000001)\n",
    "earlystop = EarlyStopping(\n",
    "    monitor='val_loss',  # You can change this to another metric like 'val_accuracy'\n",
    "    patience=10,  # Wait for 10 epochs to see if overfitting is resolved\n",
    "    restore_best_weights=True,\n",
    "    verbose=1\n",
    ")\n",
    "callbacks = [earlystop, learning_rate_reduction]\n",
    "\n"
   ]
  },
  {
   "cell_type": "code",
   "execution_count": 20,
   "metadata": {},
   "outputs": [],
   "source": [
    "total_train = train_df.shape[0]\n",
    "total_validate = validate_df.shape[0]"
   ]
  },
  {
   "cell_type": "code",
   "execution_count": 21,
   "metadata": {},
   "outputs": [
    {
     "name": "stdout",
     "output_type": "stream",
     "text": [
      "Epoch 1/100\n",
      "1627/1627 [==============================] - 269s 161ms/step - loss: 0.1630 - accuracy: 0.6852 - val_loss: 0.1766 - val_accuracy: 0.5696 - lr: 0.0010\n",
      "Epoch 2/100\n",
      "1627/1627 [==============================] - 249s 153ms/step - loss: 0.1313 - accuracy: 0.7396 - val_loss: 0.1215 - val_accuracy: 0.7528 - lr: 0.0010\n",
      "Epoch 3/100\n",
      "1627/1627 [==============================] - 294s 181ms/step - loss: 0.1174 - accuracy: 0.7679 - val_loss: 0.0872 - val_accuracy: 0.8473 - lr: 0.0010\n",
      "Epoch 4/100\n",
      "1627/1627 [==============================] - 267s 164ms/step - loss: 0.0946 - accuracy: 0.8184 - val_loss: 0.0993 - val_accuracy: 0.8011 - lr: 0.0010\n",
      "Epoch 5/100\n",
      "1627/1627 [==============================] - 263s 162ms/step - loss: 0.0877 - accuracy: 0.8305 - val_loss: 0.0844 - val_accuracy: 0.8325 - lr: 0.0010\n",
      "Epoch 6/100\n",
      "1627/1627 [==============================] - 258s 158ms/step - loss: 0.0785 - accuracy: 0.8490 - val_loss: 0.1013 - val_accuracy: 0.7771 - lr: 0.0010\n",
      "Epoch 7/100\n",
      "1627/1627 [==============================] - 255s 157ms/step - loss: 0.0744 - accuracy: 0.8566 - val_loss: 0.0585 - val_accuracy: 0.8889 - lr: 0.0010\n",
      "Epoch 8/100\n",
      "1627/1627 [==============================] - 254s 156ms/step - loss: 0.0726 - accuracy: 0.8567 - val_loss: 0.0555 - val_accuracy: 0.8913 - lr: 0.0010\n",
      "Epoch 9/100\n",
      "1627/1627 [==============================] - 256s 157ms/step - loss: 0.0635 - accuracy: 0.8774 - val_loss: 0.0433 - val_accuracy: 0.9221 - lr: 0.0010\n",
      "Epoch 10/100\n",
      "1627/1627 [==============================] - 254s 156ms/step - loss: 0.0596 - accuracy: 0.8869 - val_loss: 0.1073 - val_accuracy: 0.7808 - lr: 0.0010\n",
      "Epoch 11/100\n",
      "1627/1627 [==============================] - 254s 156ms/step - loss: 0.0562 - accuracy: 0.8919 - val_loss: 0.0416 - val_accuracy: 0.9129 - lr: 0.0010\n",
      "Epoch 12/100\n",
      "1627/1627 [==============================] - 247s 152ms/step - loss: 0.0543 - accuracy: 0.8967 - val_loss: 0.0560 - val_accuracy: 0.8839 - lr: 0.0010\n",
      "Epoch 13/100\n",
      "1627/1627 [==============================] - 211s 129ms/step - loss: 0.0553 - accuracy: 0.8935 - val_loss: 0.0309 - val_accuracy: 0.9433 - lr: 0.0010\n",
      "Epoch 14/100\n",
      "1627/1627 [==============================] - 209s 128ms/step - loss: 0.0504 - accuracy: 0.9047 - val_loss: 0.0885 - val_accuracy: 0.8310 - lr: 0.0010\n",
      "Epoch 15/100\n",
      "1627/1627 [==============================] - 208s 128ms/step - loss: 0.0459 - accuracy: 0.9122 - val_loss: 0.0343 - val_accuracy: 0.9295 - lr: 0.0010\n",
      "Epoch 16/100\n",
      "1627/1627 [==============================] - 209s 128ms/step - loss: 0.0459 - accuracy: 0.9128 - val_loss: 0.1579 - val_accuracy: 0.7041 - lr: 0.0010\n",
      "Epoch 17/100\n",
      "1627/1627 [==============================] - 209s 128ms/step - loss: 0.0452 - accuracy: 0.9151 - val_loss: 0.0375 - val_accuracy: 0.9289 - lr: 0.0010\n",
      "Epoch 18/100\n",
      "1627/1627 [==============================] - 208s 128ms/step - loss: 0.0417 - accuracy: 0.9216 - val_loss: 0.0557 - val_accuracy: 0.8861 - lr: 0.0010\n",
      "Epoch 19/100\n",
      "1627/1627 [==============================] - 208s 128ms/step - loss: 0.0400 - accuracy: 0.9244 - val_loss: 0.1064 - val_accuracy: 0.7950 - lr: 0.0010\n",
      "Epoch 20/100\n",
      "1627/1627 [==============================] - 207s 127ms/step - loss: 0.0375 - accuracy: 0.9281 - val_loss: 0.0464 - val_accuracy: 0.8941 - lr: 0.0010\n",
      "Epoch 21/100\n",
      "1627/1627 [==============================] - 219s 135ms/step - loss: 0.0407 - accuracy: 0.9227 - val_loss: 0.0270 - val_accuracy: 0.9514 - lr: 0.0010\n",
      "Epoch 22/100\n",
      "1627/1627 [==============================] - 219s 135ms/step - loss: 0.0359 - accuracy: 0.9328 - val_loss: 0.0391 - val_accuracy: 0.9175 - lr: 0.0010\n",
      "Epoch 23/100\n",
      "1627/1627 [==============================] - 211s 130ms/step - loss: 0.0350 - accuracy: 0.9348 - val_loss: 0.0436 - val_accuracy: 0.9181 - lr: 0.0010\n",
      "Epoch 24/100\n",
      "1627/1627 [==============================] - 208s 128ms/step - loss: 0.0333 - accuracy: 0.9357 - val_loss: 0.0350 - val_accuracy: 0.9381 - lr: 0.0010\n",
      "Epoch 25/100\n",
      "1627/1627 [==============================] - 209s 128ms/step - loss: 0.0344 - accuracy: 0.9351 - val_loss: 0.0226 - val_accuracy: 0.9591 - lr: 0.0010\n",
      "Epoch 26/100\n",
      "1627/1627 [==============================] - ETA: 0s - loss: 0.0336 - accuracy: 0.9355\n",
      "Epoch 26: ReduceLROnPlateau reducing learning rate to 0.0005000000237487257.\n",
      "1627/1627 [==============================] - 207s 127ms/step - loss: 0.0336 - accuracy: 0.9355 - val_loss: 0.0183 - val_accuracy: 0.9612 - lr: 0.0010\n",
      "Epoch 27/100\n",
      "1627/1627 [==============================] - 206s 127ms/step - loss: 0.0293 - accuracy: 0.9467 - val_loss: 0.0175 - val_accuracy: 0.9649 - lr: 5.0000e-04\n",
      "Epoch 28/100\n",
      "1627/1627 [==============================] - 207s 127ms/step - loss: 0.0272 - accuracy: 0.9497 - val_loss: 0.0176 - val_accuracy: 0.9680 - lr: 5.0000e-04\n",
      "Epoch 29/100\n",
      "1627/1627 [==============================] - 207s 127ms/step - loss: 0.0245 - accuracy: 0.9548 - val_loss: 0.0149 - val_accuracy: 0.9723 - lr: 5.0000e-04\n",
      "Epoch 30/100\n",
      "1627/1627 [==============================] - 206s 127ms/step - loss: 0.0249 - accuracy: 0.9550 - val_loss: 0.0168 - val_accuracy: 0.9667 - lr: 5.0000e-04\n",
      "Epoch 31/100\n",
      "1627/1627 [==============================] - 206s 126ms/step - loss: 0.0253 - accuracy: 0.9538 - val_loss: 0.0182 - val_accuracy: 0.9664 - lr: 5.0000e-04\n",
      "Epoch 32/100\n",
      "1627/1627 [==============================] - 205s 126ms/step - loss: 0.0232 - accuracy: 0.9566 - val_loss: 0.0129 - val_accuracy: 0.9751 - lr: 5.0000e-04\n",
      "Epoch 33/100\n",
      "1627/1627 [==============================] - 205s 126ms/step - loss: 0.0234 - accuracy: 0.9556 - val_loss: 0.0145 - val_accuracy: 0.9692 - lr: 5.0000e-04\n",
      "Epoch 34/100\n",
      "1627/1627 [==============================] - ETA: 0s - loss: 0.0246 - accuracy: 0.9558\n",
      "Epoch 34: ReduceLROnPlateau reducing learning rate to 0.0002500000118743628.\n",
      "1627/1627 [==============================] - 206s 126ms/step - loss: 0.0246 - accuracy: 0.9558 - val_loss: 0.0167 - val_accuracy: 0.9640 - lr: 5.0000e-04\n",
      "Epoch 35/100\n",
      "1627/1627 [==============================] - 206s 127ms/step - loss: 0.0220 - accuracy: 0.9590 - val_loss: 0.0126 - val_accuracy: 0.9741 - lr: 2.5000e-04\n",
      "Epoch 36/100\n",
      "1627/1627 [==============================] - 205s 126ms/step - loss: 0.0203 - accuracy: 0.9630 - val_loss: 0.0129 - val_accuracy: 0.9714 - lr: 2.5000e-04\n",
      "Epoch 37/100\n",
      "1627/1627 [==============================] - 205s 126ms/step - loss: 0.0205 - accuracy: 0.9625 - val_loss: 0.0155 - val_accuracy: 0.9661 - lr: 2.5000e-04\n",
      "Epoch 38/100\n",
      "1627/1627 [==============================] - 205s 126ms/step - loss: 0.0190 - accuracy: 0.9646 - val_loss: 0.0136 - val_accuracy: 0.9738 - lr: 2.5000e-04\n",
      "Epoch 39/100\n",
      "1627/1627 [==============================] - 205s 126ms/step - loss: 0.0187 - accuracy: 0.9652 - val_loss: 0.0114 - val_accuracy: 0.9788 - lr: 2.5000e-04\n",
      "Epoch 40/100\n",
      "1627/1627 [==============================] - 206s 126ms/step - loss: 0.0189 - accuracy: 0.9656 - val_loss: 0.0146 - val_accuracy: 0.9714 - lr: 2.5000e-04\n",
      "Epoch 41/100\n",
      "1627/1627 [==============================] - 208s 128ms/step - loss: 0.0190 - accuracy: 0.9655 - val_loss: 0.0142 - val_accuracy: 0.9701 - lr: 2.5000e-04\n",
      "Epoch 42/100\n",
      "1627/1627 [==============================] - 208s 128ms/step - loss: 0.0182 - accuracy: 0.9674 - val_loss: 0.0120 - val_accuracy: 0.9760 - lr: 2.5000e-04\n",
      "Epoch 43/100\n",
      "1627/1627 [==============================] - 210s 129ms/step - loss: 0.0186 - accuracy: 0.9662 - val_loss: 0.0126 - val_accuracy: 0.9744 - lr: 2.5000e-04\n",
      "Epoch 44/100\n",
      "1627/1627 [==============================] - 209s 129ms/step - loss: 0.0179 - accuracy: 0.9682 - val_loss: 0.0144 - val_accuracy: 0.9701 - lr: 2.5000e-04\n",
      "Epoch 45/100\n",
      "1627/1627 [==============================] - 212s 130ms/step - loss: 0.0182 - accuracy: 0.9669 - val_loss: 0.0123 - val_accuracy: 0.9741 - lr: 2.5000e-04\n",
      "Epoch 46/100\n",
      "1627/1627 [==============================] - ETA: 0s - loss: 0.0183 - accuracy: 0.9669\n",
      "Epoch 46: ReduceLROnPlateau reducing learning rate to 0.0001250000059371814.\n",
      "1627/1627 [==============================] - 231s 142ms/step - loss: 0.0183 - accuracy: 0.9669 - val_loss: 0.0128 - val_accuracy: 0.9717 - lr: 2.5000e-04\n",
      "Epoch 47/100\n",
      "1627/1627 [==============================] - 231s 142ms/step - loss: 0.0174 - accuracy: 0.9680 - val_loss: 0.0121 - val_accuracy: 0.9751 - lr: 1.2500e-04\n",
      "Epoch 48/100\n",
      "1627/1627 [==============================] - 227s 139ms/step - loss: 0.0164 - accuracy: 0.9706 - val_loss: 0.0115 - val_accuracy: 0.9757 - lr: 1.2500e-04\n",
      "Epoch 49/100\n",
      "1627/1627 [==============================] - ETA: 0s - loss: 0.0164 - accuracy: 0.9702Restoring model weights from the end of the best epoch: 39.\n",
      "1627/1627 [==============================] - 209s 128ms/step - loss: 0.0164 - accuracy: 0.9702 - val_loss: 0.0128 - val_accuracy: 0.9748 - lr: 1.2500e-04\n",
      "Epoch 49: early stopping\n"
     ]
    }
   ],
   "source": [
    "# Fit the model\n",
    "epochs = 100\n",
    "\n",
    "# history = model.fit_generator(\n",
    "#     train_generator,\n",
    "#     epochs=epochs,\n",
    "#     validation_data=validation_generator,\n",
    "#     validation_steps=total_validate // batch_size,\n",
    "#     steps_per_epoch=total_train // batch_size,\n",
    "#     callbacks=callbacks\n",
    "# )\n",
    "history = model.fit(\n",
    "    train_generator,\n",
    "    epochs=epochs,\n",
    "    validation_data=validation_generator,\n",
    "    validation_steps=total_validate // batch_size,\n",
    "    steps_per_epoch=total_train // batch_size,\n",
    "    callbacks=callbacks\n",
    ")"
   ]
  },
  {
   "cell_type": "code",
   "execution_count": 22,
   "metadata": {},
   "outputs": [],
   "source": [
    "model.save('radiography_ds.h5')"
   ]
  },
  {
   "cell_type": "code",
   "execution_count": 23,
   "metadata": {},
   "outputs": [],
   "source": [
    "actual_epochs = len(history.history['loss'])"
   ]
  },
  {
   "cell_type": "code",
   "execution_count": 24,
   "metadata": {},
   "outputs": [
    {
     "data": {
      "image/png": "[encoded data removed]",
      "text/plain": [
       "<Figure size 640x480 with 1 Axes>"
      ]
     },
     "metadata": {},
     "output_type": "display_data"
    }
   ],
   "source": [
    "import matplotlib.pyplot as plt\n",
    "\n",
    "# Plot training & validation accuracy values\n",
    "numEpochs = range(1,  actual_epochs + 1)\n",
    "plt.plot(numEpochs,history.history['accuracy'])\n",
    "plt.plot(numEpochs,history.history['val_accuracy'])\n",
    "plt.title('Model accuracy')\n",
    "plt.xlabel('Epoch')\n",
    "plt.ylabel('Accuracy')\n",
    "plt.legend(['Train', 'Validation'], loc='upper left')\n",
    "plt.show()"
   ]
  },
  {
   "cell_type": "code",
   "execution_count": 25,
   "metadata": {},
   "outputs": [
    {
     "data": {
      "image/png": "[encoded data removed]",
      "text/plain": [
       "<Figure size 640x480 with 1 Axes>"
      ]
     },
     "metadata": {},
     "output_type": "display_data"
    }
   ],
   "source": [
    "loss = history.history['loss']\n",
    "val_loss = history.history['val_loss']\n",
    "numEpochs = range(1,  actual_epochs + 1)\n",
    "plt.plot( numEpochs,loss, 'g', label='Training Loss')\n",
    "plt.plot(numEpochs,val_loss, 'b', label='Validation Loss')\n",
    "plt.title('Training and Validation Loss')\n",
    "plt.xlabel('Epochs')\n",
    "plt.ylabel('Loss')\n",
    "plt.legend()\n",
    "plt.show()"
   ]
  },
  {
   "cell_type": "code",
   "execution_count": 26,
   "metadata": {},
   "outputs": [
    {
     "data": {
      "text/html": [
       "<div>\n",
       "<style scoped>\n",
       "    .dataframe tbody tr th:only-of-type {\n",
       "        vertical-align: middle;\n",
       "    }\n",
       "\n",
       "    .dataframe tbody tr th {\n",
       "        vertical-align: top;\n",
       "    }\n",
       "\n",
       "    .dataframe thead th {\n",
       "        text-align: right;\n",
       "    }\n",
       "</style>\n",
       "<table border=\"1\" class=\"dataframe\">\n",
       "  <thead>\n",
       "    <tr style=\"text-align: right;\">\n",
       "      <th></th>\n",
       "      <th>filename</th>\n",
       "      <th>category</th>\n",
       "    </tr>\n",
       "  </thead>\n",
       "  <tbody>\n",
       "    <tr>\n",
       "      <th>0</th>\n",
       "      <td>Datasets\\COVID-19_Radiography_Dataset\\Normal\\i...</td>\n",
       "      <td>Normal</td>\n",
       "    </tr>\n",
       "    <tr>\n",
       "      <th>1</th>\n",
       "      <td>Datasets\\COVID-19_Radiography_Dataset\\Viral Pn...</td>\n",
       "      <td>Viral Pneumonia</td>\n",
       "    </tr>\n",
       "    <tr>\n",
       "      <th>2</th>\n",
       "      <td>CL+MEDIAN\\COVID-19_Radiography_Dataset\\Viral P...</td>\n",
       "      <td>Viral Pneumonia</td>\n",
       "    </tr>\n",
       "    <tr>\n",
       "      <th>3</th>\n",
       "      <td>CL+MEDIAN\\COVID-19_Radiography_Dataset\\COVID\\i...</td>\n",
       "      <td>COVID-19</td>\n",
       "    </tr>\n",
       "    <tr>\n",
       "      <th>4</th>\n",
       "      <td>Datasets\\COVID-19_Radiography_Dataset\\COVID\\im...</td>\n",
       "      <td>COVID-19</td>\n",
       "    </tr>\n",
       "    <tr>\n",
       "      <th>...</th>\n",
       "      <td>...</td>\n",
       "      <td>...</td>\n",
       "    </tr>\n",
       "    <tr>\n",
       "      <th>3250</th>\n",
       "      <td>CL+MEDIAN\\COVID-19_Radiography_Dataset\\COVID\\i...</td>\n",
       "      <td>COVID-19</td>\n",
       "    </tr>\n",
       "    <tr>\n",
       "      <th>3251</th>\n",
       "      <td>CL+MEDIAN\\COVID-19_Radiography_Dataset\\Viral P...</td>\n",
       "      <td>Viral Pneumonia</td>\n",
       "    </tr>\n",
       "    <tr>\n",
       "      <th>3252</th>\n",
       "      <td>Datasets\\COVID-19_Radiography_Dataset\\Normal\\i...</td>\n",
       "      <td>Normal</td>\n",
       "    </tr>\n",
       "    <tr>\n",
       "      <th>3253</th>\n",
       "      <td>CL+MEDIAN\\COVID-19_Radiography_Dataset\\Viral P...</td>\n",
       "      <td>Viral Pneumonia</td>\n",
       "    </tr>\n",
       "    <tr>\n",
       "      <th>3254</th>\n",
       "      <td>Datasets\\COVID-19_Radiography_Dataset\\Normal\\i...</td>\n",
       "      <td>Normal</td>\n",
       "    </tr>\n",
       "  </tbody>\n",
       "</table>\n",
       "<p>3255 rows × 2 columns</p>\n",
       "</div>"
      ],
      "text/plain": [
       "                                               filename         category\n",
       "0     Datasets\\COVID-19_Radiography_Dataset\\Normal\\i...           Normal\n",
       "1     Datasets\\COVID-19_Radiography_Dataset\\Viral Pn...  Viral Pneumonia\n",
       "2     CL+MEDIAN\\COVID-19_Radiography_Dataset\\Viral P...  Viral Pneumonia\n",
       "3     CL+MEDIAN\\COVID-19_Radiography_Dataset\\COVID\\i...         COVID-19\n",
       "4     Datasets\\COVID-19_Radiography_Dataset\\COVID\\im...         COVID-19\n",
       "...                                                 ...              ...\n",
       "3250  CL+MEDIAN\\COVID-19_Radiography_Dataset\\COVID\\i...         COVID-19\n",
       "3251  CL+MEDIAN\\COVID-19_Radiography_Dataset\\Viral P...  Viral Pneumonia\n",
       "3252  Datasets\\COVID-19_Radiography_Dataset\\Normal\\i...           Normal\n",
       "3253  CL+MEDIAN\\COVID-19_Radiography_Dataset\\Viral P...  Viral Pneumonia\n",
       "3254  Datasets\\COVID-19_Radiography_Dataset\\Normal\\i...           Normal\n",
       "\n",
       "[3255 rows x 2 columns]"
      ]
     },
     "execution_count": 26,
     "metadata": {},
     "output_type": "execute_result"
    }
   ],
   "source": [
    "test_df = test_df.sample(frac=1).reset_index(drop=True)\n",
    "test_df"
   ]
  },
  {
   "cell_type": "code",
   "execution_count": 27,
   "metadata": {},
   "outputs": [],
   "source": [
    "nb_samples = test_df.shape[0]"
   ]
  },
  {
   "cell_type": "code",
   "execution_count": 28,
   "metadata": {},
   "outputs": [
    {
     "name": "stdout",
     "output_type": "stream",
     "text": [
      "Found 3255 validated image filenames belonging to 3 classes.\n"
     ]
    }
   ],
   "source": [
    "test_gen = ImageDataGenerator(rescale = 1./255)\n",
    "test_generator = test_gen.flow_from_dataframe(    \n",
    "    test_df, \n",
    "    directory=None,\n",
    "    x_col='filename',\n",
    "    y_col='category',\n",
    "    target_size = IMAGE_SIZE,\n",
    "    \n",
    "    class_mode='categorical',\n",
    "    batch_size = batch_size,\n",
    "    shuffle = False,\n",
    ")"
   ]
  },
  {
   "cell_type": "code",
   "execution_count": 29,
   "metadata": {},
   "outputs": [],
   "source": [
    "import numpy as np"
   ]
  },
  {
   "cell_type": "code",
   "execution_count": 30,
   "metadata": {},
   "outputs": [
    {
     "name": "stderr",
     "output_type": "stream",
     "text": [
      "C:\\Users\\Iftek\\AppData\\Local\\Temp\\ipykernel_13604\\2670138283.py:1: UserWarning: `Model.predict_generator` is deprecated and will be removed in a future version. Please use `Model.predict`, which supports generators.\n",
      "  predict = model.predict_generator(test_generator, steps = np.ceil(nb_samples/batch_size))\n"
     ]
    }
   ],
   "source": [
    "predict = model.predict_generator(test_generator, steps = np.ceil(nb_samples/batch_size))"
   ]
  },
  {
   "cell_type": "code",
   "execution_count": 31,
   "metadata": {},
   "outputs": [],
   "source": [
    "test_df['predict_category'] = np.argmax(predict, axis=-1)"
   ]
  },
  {
   "cell_type": "code",
   "execution_count": 32,
   "metadata": {},
   "outputs": [],
   "source": [
    "label_map = dict((v,k) for k,v in train_generator.class_indices.items())\n",
    "test_df['predict_category'] = test_df['predict_category'].replace(label_map)"
   ]
  },
  {
   "cell_type": "code",
   "execution_count": 33,
   "metadata": {},
   "outputs": [],
   "source": [
    "test_df['predict_category'] = test_df['predict_category'].replace({'Normal': 0, 'COVID-19': 1, 'Viral Pneumonia': 2})"
   ]
  },
  {
   "cell_type": "code",
   "execution_count": 34,
   "metadata": {},
   "outputs": [
    {
     "data": {
      "text/plain": [
       "<Axes: xlabel='category'>"
      ]
     },
     "execution_count": 34,
     "metadata": {},
     "output_type": "execute_result"
    },
    {
     "data": {
      "image/png": "[encoded data removed]",
      "text/plain": [
       "<Figure size 640x480 with 1 Axes>"
      ]
     },
     "metadata": {},
     "output_type": "display_data"
    }
   ],
   "source": [
    "test_df['category'].value_counts().plot.bar()"
   ]
  },
  {
   "cell_type": "code",
   "execution_count": 35,
   "metadata": {},
   "outputs": [],
   "source": [
    "sample_test = test_df\n",
    "correctPredictions = 0\n",
    "\n",
    "correctNormalPred = 0\n",
    "correctCovidPred = 0\n",
    "correctPneuPred = 0\n",
    "\n",
    "totalNormalPred = 0\n",
    "totalCovidPred = 0\n",
    "totalPneuPred = 0\n",
    "\n",
    "for index, row in sample_test.iterrows():\n",
    "    \n",
    "    filename = row['filename']\n",
    "    prediction = row['predict_category']\n",
    "    \n",
    "    # img = load_img(filename, target_size=IMAGE_SIZE)\n",
    "    path_parts = filename.split('\\\\')\n",
    "    third_phrase = path_parts[2]\n",
    "    # print(third_phrase)\n",
    "\n",
    "    if 'Normal' in third_phrase:\n",
    "        \n",
    "        if prediction == 0:\n",
    "            correctPredictions += 1\n",
    "            correctNormalPred += 1\n",
    "            \n",
    "        totalNormalPred += 1\n",
    "    \n",
    "    if 'COVID' in third_phrase:\n",
    "        \n",
    "        if prediction == 1: \n",
    "            correctPredictions += 1\n",
    "            correctCovidPred += 1\n",
    "            \n",
    "        totalCovidPred += 1\n",
    "    \n",
    "    if 'Viral Pneumonia' in third_phrase:\n",
    "        \n",
    "        if prediction == 2: \n",
    "            correctPredictions += 1\n",
    "            correctPneuPred += 1\n",
    "            \n",
    "        totalPneuPred += 1\n",
    "    "
   ]
  },
  {
   "cell_type": "code",
   "execution_count": 36,
   "metadata": {},
   "outputs": [
    {
     "name": "stdout",
     "output_type": "stream",
     "text": [
      "Model Accuracy: 97.73%\n",
      "Correct Predictions: 3181 Total Predictions: 3255\n",
      "\n",
      "Normal Predictions: 1100 Accuracy 98.39%\n",
      "COVID-19 Predictions: 1039 Accuracy 96.74%\n",
      "Viral Pneumonia Predictions: 1042 Accuracy 98.02%\n"
     ]
    }
   ],
   "source": [
    "print('Model Accuracy:', \"{:.2%}\".format(correctPredictions / test_df.shape[0]))\n",
    "print('Correct Predictions:', correctPredictions, 'Total Predictions:', test_df.shape[0])\n",
    "\n",
    "print('\\nNormal Predictions:', correctNormalPred, 'Accuracy', \"{:.2%}\".format(correctNormalPred /  totalNormalPred))\n",
    "print('COVID-19 Predictions:', correctCovidPred, 'Accuracy', \"{:.2%}\".format(correctCovidPred /  totalCovidPred))\n",
    "print('Viral Pneumonia Predictions:', correctPneuPred, 'Accuracy', \"{:.2%}\".format(correctPneuPred / totalPneuPred))"
   ]
  },
  {
   "cell_type": "code",
   "execution_count": 37,
   "metadata": {},
   "outputs": [
    {
     "name": "stderr",
     "output_type": "stream",
     "text": [
      "C:\\Users\\Iftek\\AppData\\Local\\Temp\\ipykernel_13604\\4069215994.py:6: FutureWarning: Series.__getitem__ treating keys as positions is deprecated. In a future version, integer keys will always be treated as labels (consistent with DataFrame behavior). To access a value by position, use `ser.iloc[pos]`\n",
      "  filename = row[1][0]\n",
      "C:\\Users\\Iftek\\AppData\\Local\\Temp\\ipykernel_13604\\4069215994.py:15: FutureWarning: Series.__getitem__ treating keys as positions is deprecated. In a future version, integer keys will always be treated as labels (consistent with DataFrame behavior). To access a value by position, use `ser.iloc[pos]`\n",
      "  pred.append(row[1][2])\n"
     ]
    }
   ],
   "source": [
    "actual = []\n",
    "pred = []\n",
    "\n",
    "for row in test_df.iterrows():\n",
    "    \n",
    "    filename = row[1][0]\n",
    "    # print(filename)\n",
    "    path_parts = filename.split('\\\\')\n",
    "    third_phrase = path_parts[2]\n",
    "    if 'Normal' in third_phrase: actual.append(0)\n",
    "    if 'COVID' in third_phrase: actual.append(1)\n",
    "    if 'Viral Pneumonia' in third_phrase: actual.append(2)\n",
    "    # print(f'Actual :{row[1][1]}')   \n",
    "    # print(f'prediction :{row[1][2]}')   \n",
    "    pred.append(row[1][2])"
   ]
  },
  {
   "cell_type": "code",
   "execution_count": 38,
   "metadata": {},
   "outputs": [],
   "source": [
    "from sklearn.metrics import classification_report,confusion_matrix\n",
    "from sklearn.metrics import accuracy_score, precision_score, recall_score, f1_score\n",
    "import seaborn as sns"
   ]
  },
  {
   "cell_type": "code",
   "execution_count": 39,
   "metadata": {},
   "outputs": [
    {
     "name": "stdout",
     "output_type": "stream",
     "text": [
      "              precision    recall  f1-score   support\n",
      "\n",
      "           0       0.95      0.98      0.97      1118\n",
      "           1       0.99      0.97      0.98      1074\n",
      "           2       0.99      0.98      0.98      1063\n",
      "\n",
      "    accuracy                           0.98      3255\n",
      "   macro avg       0.98      0.98      0.98      3255\n",
      "weighted avg       0.98      0.98      0.98      3255\n",
      "\n"
     ]
    }
   ],
   "source": [
    "print(classification_report(actual, pred))"
   ]
  },
  {
   "cell_type": "code",
   "execution_count": 40,
   "metadata": {},
   "outputs": [
    {
     "data": {
      "image/png": "[encoded data removed]",
      "text/plain": [
       "<Figure size 640x480 with 1 Axes>"
      ]
     },
     "metadata": {},
     "output_type": "display_data"
    }
   ],
   "source": [
    "conf_matrix = confusion_matrix(actual, pred)\n",
    "sns.heatmap(conf_matrix, annot=True, fmt='d', cmap='Blues', cbar=False)\n",
    "plt.xlabel('Predicted')\n",
    "plt.ylabel('Actual')\n",
    "plt.show()"
   ]
  },
  {
   "cell_type": "code",
   "execution_count": null,
   "metadata": {},
   "outputs": [],
   "source": []
  }
 ],
 "metadata": {
  "kernelspec": {
   "display_name": "tf",
   "language": "python",
   "name": "python3"
  },
  "language_info": {
   "codemirror_mode": {
    "name": "ipython",
    "version": 3
   },
   "file_extension": ".py",
   "mimetype": "text/x-python",
   "name": "python",
   "nbconvert_exporter": "python",
   "pygments_lexer": "ipython3",
   "version": "3.9.18"
  }
 },
 "nbformat": 4,
 "nbformat_minor": 2
}
